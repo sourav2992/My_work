{
 "cells": [
  {
   "cell_type": "code",
   "execution_count": 46,
   "metadata": {},
   "outputs": [],
   "source": [
    "import pandas as pd\n",
    "import numpy as np\n",
    "import seaborn as sns\n",
    "import matplotlib.pyplot as plt"
   ]
  },
  {
   "cell_type": "code",
   "execution_count": 48,
   "metadata": {},
   "outputs": [],
   "source": [
    "df= pd.read_csv(\"C:/Users/SS/Desktop/Vehicle route.csv\")"
   ]
  },
  {
   "cell_type": "code",
   "execution_count": 49,
   "metadata": {},
   "outputs": [
    {
     "data": {
      "text/html": [
       "<div>\n",
       "<style scoped>\n",
       "    .dataframe tbody tr th:only-of-type {\n",
       "        vertical-align: middle;\n",
       "    }\n",
       "\n",
       "    .dataframe tbody tr th {\n",
       "        vertical-align: top;\n",
       "    }\n",
       "\n",
       "    .dataframe thead th {\n",
       "        text-align: right;\n",
       "    }\n",
       "</style>\n",
       "<table border=\"1\" class=\"dataframe\">\n",
       "  <thead>\n",
       "    <tr style=\"text-align: right;\">\n",
       "      <th></th>\n",
       "      <th>Origin</th>\n",
       "      <th>Destination</th>\n",
       "      <th>Size _Fleet</th>\n",
       "      <th>Vehicle_Type</th>\n",
       "      <th>TAT</th>\n",
       "    </tr>\n",
       "  </thead>\n",
       "  <tbody>\n",
       "    <tr>\n",
       "      <th>0</th>\n",
       "      <td>LUCKNOW</td>\n",
       "      <td>BANGALORE</td>\n",
       "      <td>32</td>\n",
       "      <td>SXL</td>\n",
       "      <td>48:00:00</td>\n",
       "    </tr>\n",
       "    <tr>\n",
       "      <th>1</th>\n",
       "      <td>KOLKATA</td>\n",
       "      <td>BANGALORE</td>\n",
       "      <td>32</td>\n",
       "      <td>SXL</td>\n",
       "      <td>48:00:00</td>\n",
       "    </tr>\n",
       "    <tr>\n",
       "      <th>2</th>\n",
       "      <td>DELHI</td>\n",
       "      <td>BANGALORE</td>\n",
       "      <td>32</td>\n",
       "      <td>SXL</td>\n",
       "      <td>54:00:00</td>\n",
       "    </tr>\n",
       "    <tr>\n",
       "      <th>3</th>\n",
       "      <td>KOLKATA</td>\n",
       "      <td>GUWAHATI</td>\n",
       "      <td>32</td>\n",
       "      <td>SXL</td>\n",
       "      <td>39:00:00</td>\n",
       "    </tr>\n",
       "    <tr>\n",
       "      <th>4</th>\n",
       "      <td>KOLKATA</td>\n",
       "      <td>SILIGURI</td>\n",
       "      <td>17</td>\n",
       "      <td>SXL</td>\n",
       "      <td>20:00:00</td>\n",
       "    </tr>\n",
       "  </tbody>\n",
       "</table>\n",
       "</div>"
      ],
      "text/plain": [
       "    Origin Destination  Size _Fleet Vehicle_Type       TAT\n",
       "0  LUCKNOW   BANGALORE           32          SXL  48:00:00\n",
       "1  KOLKATA   BANGALORE           32          SXL  48:00:00\n",
       "2    DELHI   BANGALORE           32          SXL  54:00:00\n",
       "3  KOLKATA    GUWAHATI           32          SXL  39:00:00\n",
       "4  KOLKATA    SILIGURI           17          SXL  20:00:00"
      ]
     },
     "execution_count": 49,
     "metadata": {},
     "output_type": "execute_result"
    }
   ],
   "source": [
    "df.head()"
   ]
  },
  {
   "cell_type": "code",
   "execution_count": 50,
   "metadata": {},
   "outputs": [
    {
     "data": {
      "text/plain": [
       "array(['LUCKNOW', 'KOLKATA', 'DELHI', 'JAMALPUR', 'BILASPUR', 'BINOLA',\n",
       "       'MAHIPALPUR', 'BHIWANDI', 'AHMEDABAD', 'KANPUR', 'JAIPUR'],\n",
       "      dtype=object)"
      ]
     },
     "execution_count": 50,
     "metadata": {},
     "output_type": "execute_result"
    }
   ],
   "source": [
    "df.Origin.unique()"
   ]
  },
  {
   "cell_type": "code",
   "execution_count": 51,
   "metadata": {},
   "outputs": [
    {
     "data": {
      "text/plain": [
       "array(['BANGALORE', 'GUWAHATI', 'SILIGURI', 'RANCHI', 'BERHAMPORE',\n",
       "       'DINAJPUR', 'BHUBANESWAR', 'PATNA', 'BHIWANDI', 'KOLKATA', 'SALEM',\n",
       "       'BHAGALPUR', 'GOPALGUNJ', 'PUNE', 'VARANASI', 'RUDRAPURA',\n",
       "       'LUCKHNOW', 'HYDERABAD', 'BAGDOGRA', 'BHOPAL', 'LUDHIANA',\n",
       "       'BINOLA', 'CHENNAI', 'BHUWNESHWAR', 'GAWALIOR', 'KHANDIWALI'],\n",
       "      dtype=object)"
      ]
     },
     "execution_count": 51,
     "metadata": {},
     "output_type": "execute_result"
    }
   ],
   "source": [
    "df.Destination.unique()"
   ]
  },
  {
   "cell_type": "code",
   "execution_count": 52,
   "metadata": {},
   "outputs": [
    {
     "data": {
      "text/html": [
       "<div>\n",
       "<style scoped>\n",
       "    .dataframe tbody tr th:only-of-type {\n",
       "        vertical-align: middle;\n",
       "    }\n",
       "\n",
       "    .dataframe tbody tr th {\n",
       "        vertical-align: top;\n",
       "    }\n",
       "\n",
       "    .dataframe thead th {\n",
       "        text-align: right;\n",
       "    }\n",
       "</style>\n",
       "<table border=\"1\" class=\"dataframe\">\n",
       "  <thead>\n",
       "    <tr style=\"text-align: right;\">\n",
       "      <th></th>\n",
       "      <th>Origin</th>\n",
       "      <th>Destination</th>\n",
       "      <th>Size _Fleet</th>\n",
       "      <th>Vehicle_Type</th>\n",
       "      <th>TAT</th>\n",
       "    </tr>\n",
       "  </thead>\n",
       "  <tbody>\n",
       "    <tr>\n",
       "      <th>1</th>\n",
       "      <td>KOLKATA</td>\n",
       "      <td>BANGALORE</td>\n",
       "      <td>32</td>\n",
       "      <td>SXL</td>\n",
       "      <td>48:00:00</td>\n",
       "    </tr>\n",
       "    <tr>\n",
       "      <th>3</th>\n",
       "      <td>KOLKATA</td>\n",
       "      <td>GUWAHATI</td>\n",
       "      <td>32</td>\n",
       "      <td>SXL</td>\n",
       "      <td>39:00:00</td>\n",
       "    </tr>\n",
       "    <tr>\n",
       "      <th>4</th>\n",
       "      <td>KOLKATA</td>\n",
       "      <td>SILIGURI</td>\n",
       "      <td>17</td>\n",
       "      <td>SXL</td>\n",
       "      <td>20:00:00</td>\n",
       "    </tr>\n",
       "    <tr>\n",
       "      <th>5</th>\n",
       "      <td>KOLKATA</td>\n",
       "      <td>RANCHI</td>\n",
       "      <td>20</td>\n",
       "      <td>SXL</td>\n",
       "      <td>14:00:00</td>\n",
       "    </tr>\n",
       "    <tr>\n",
       "      <th>6</th>\n",
       "      <td>KOLKATA</td>\n",
       "      <td>BERHAMPORE</td>\n",
       "      <td>20</td>\n",
       "      <td>SXL</td>\n",
       "      <td>10:00:00</td>\n",
       "    </tr>\n",
       "    <tr>\n",
       "      <th>7</th>\n",
       "      <td>KOLKATA</td>\n",
       "      <td>DINAJPUR</td>\n",
       "      <td>17</td>\n",
       "      <td>SXL</td>\n",
       "      <td>16:00:00</td>\n",
       "    </tr>\n",
       "    <tr>\n",
       "      <th>8</th>\n",
       "      <td>KOLKATA</td>\n",
       "      <td>BHUBANESWAR</td>\n",
       "      <td>20</td>\n",
       "      <td>SXL</td>\n",
       "      <td>12:00:00</td>\n",
       "    </tr>\n",
       "    <tr>\n",
       "      <th>21</th>\n",
       "      <td>KOLKATA</td>\n",
       "      <td>PATNA</td>\n",
       "      <td>20</td>\n",
       "      <td>SXL</td>\n",
       "      <td>15:30:00</td>\n",
       "    </tr>\n",
       "    <tr>\n",
       "      <th>22</th>\n",
       "      <td>KOLKATA</td>\n",
       "      <td>SILIGURI</td>\n",
       "      <td>17</td>\n",
       "      <td>SXL</td>\n",
       "      <td>20:00:00</td>\n",
       "    </tr>\n",
       "    <tr>\n",
       "      <th>33</th>\n",
       "      <td>KOLKATA</td>\n",
       "      <td>GUWAHATI</td>\n",
       "      <td>32</td>\n",
       "      <td>SXL</td>\n",
       "      <td>26:00:00</td>\n",
       "    </tr>\n",
       "    <tr>\n",
       "      <th>35</th>\n",
       "      <td>KOLKATA</td>\n",
       "      <td>BAGDOGRA</td>\n",
       "      <td>24</td>\n",
       "      <td>SXL</td>\n",
       "      <td>22:00:00</td>\n",
       "    </tr>\n",
       "    <tr>\n",
       "      <th>41</th>\n",
       "      <td>KOLKATA</td>\n",
       "      <td>BANGALORE</td>\n",
       "      <td>32</td>\n",
       "      <td>SXL</td>\n",
       "      <td>44:00:00</td>\n",
       "    </tr>\n",
       "    <tr>\n",
       "      <th>42</th>\n",
       "      <td>KOLKATA</td>\n",
       "      <td>BHIWANDI</td>\n",
       "      <td>32</td>\n",
       "      <td>SXL</td>\n",
       "      <td>44:00:00</td>\n",
       "    </tr>\n",
       "    <tr>\n",
       "      <th>43</th>\n",
       "      <td>KOLKATA</td>\n",
       "      <td>BINOLA</td>\n",
       "      <td>32</td>\n",
       "      <td>SXL</td>\n",
       "      <td>96:00:00</td>\n",
       "    </tr>\n",
       "    <tr>\n",
       "      <th>46</th>\n",
       "      <td>KOLKATA</td>\n",
       "      <td>CHENNAI</td>\n",
       "      <td>24</td>\n",
       "      <td>SXL</td>\n",
       "      <td>36:00:00</td>\n",
       "    </tr>\n",
       "    <tr>\n",
       "      <th>48</th>\n",
       "      <td>KOLKATA</td>\n",
       "      <td>PATNA</td>\n",
       "      <td>24</td>\n",
       "      <td>SXL</td>\n",
       "      <td>17:00:00</td>\n",
       "    </tr>\n",
       "    <tr>\n",
       "      <th>52</th>\n",
       "      <td>KOLKATA</td>\n",
       "      <td>GUWAHATI</td>\n",
       "      <td>24</td>\n",
       "      <td>SXL</td>\n",
       "      <td>36:00:00</td>\n",
       "    </tr>\n",
       "  </tbody>\n",
       "</table>\n",
       "</div>"
      ],
      "text/plain": [
       "     Origin  Destination  Size _Fleet Vehicle_Type       TAT\n",
       "1   KOLKATA    BANGALORE           32          SXL  48:00:00\n",
       "3   KOLKATA     GUWAHATI           32          SXL  39:00:00\n",
       "4   KOLKATA     SILIGURI           17          SXL  20:00:00\n",
       "5   KOLKATA       RANCHI           20          SXL  14:00:00\n",
       "6   KOLKATA   BERHAMPORE           20          SXL  10:00:00\n",
       "7   KOLKATA     DINAJPUR           17          SXL  16:00:00\n",
       "8   KOLKATA  BHUBANESWAR           20          SXL  12:00:00\n",
       "21  KOLKATA        PATNA           20          SXL  15:30:00\n",
       "22  KOLKATA     SILIGURI           17          SXL  20:00:00\n",
       "33  KOLKATA     GUWAHATI           32          SXL  26:00:00\n",
       "35  KOLKATA     BAGDOGRA           24          SXL  22:00:00\n",
       "41  KOLKATA    BANGALORE           32          SXL  44:00:00\n",
       "42  KOLKATA     BHIWANDI           32          SXL  44:00:00\n",
       "43  KOLKATA       BINOLA           32          SXL  96:00:00\n",
       "46  KOLKATA      CHENNAI           24          SXL  36:00:00\n",
       "48  KOLKATA        PATNA           24          SXL  17:00:00\n",
       "52  KOLKATA     GUWAHATI           24          SXL  36:00:00"
      ]
     },
     "execution_count": 52,
     "metadata": {},
     "output_type": "execute_result"
    }
   ],
   "source": [
    "df.loc[df[\"Origin\"]=='KOLKATA']"
   ]
  },
  {
   "cell_type": "code",
   "execution_count": 53,
   "metadata": {},
   "outputs": [
    {
     "data": {
      "text/plain": [
       "(54, 5)"
      ]
     },
     "execution_count": 53,
     "metadata": {},
     "output_type": "execute_result"
    }
   ],
   "source": [
    "df.shape"
   ]
  },
  {
   "cell_type": "code",
   "execution_count": 54,
   "metadata": {},
   "outputs": [
    {
     "data": {
      "text/html": [
       "<div>\n",
       "<style scoped>\n",
       "    .dataframe tbody tr th:only-of-type {\n",
       "        vertical-align: middle;\n",
       "    }\n",
       "\n",
       "    .dataframe tbody tr th {\n",
       "        vertical-align: top;\n",
       "    }\n",
       "\n",
       "    .dataframe thead th {\n",
       "        text-align: right;\n",
       "    }\n",
       "</style>\n",
       "<table border=\"1\" class=\"dataframe\">\n",
       "  <thead>\n",
       "    <tr style=\"text-align: right;\">\n",
       "      <th></th>\n",
       "      <th>Size _Fleet</th>\n",
       "    </tr>\n",
       "  </thead>\n",
       "  <tbody>\n",
       "    <tr>\n",
       "      <th>count</th>\n",
       "      <td>54.000000</td>\n",
       "    </tr>\n",
       "    <tr>\n",
       "      <th>mean</th>\n",
       "      <td>26.018519</td>\n",
       "    </tr>\n",
       "    <tr>\n",
       "      <th>std</th>\n",
       "      <td>5.916050</td>\n",
       "    </tr>\n",
       "    <tr>\n",
       "      <th>min</th>\n",
       "      <td>17.000000</td>\n",
       "    </tr>\n",
       "    <tr>\n",
       "      <th>25%</th>\n",
       "      <td>22.000000</td>\n",
       "    </tr>\n",
       "    <tr>\n",
       "      <th>50%</th>\n",
       "      <td>24.000000</td>\n",
       "    </tr>\n",
       "    <tr>\n",
       "      <th>75%</th>\n",
       "      <td>32.000000</td>\n",
       "    </tr>\n",
       "    <tr>\n",
       "      <th>max</th>\n",
       "      <td>32.000000</td>\n",
       "    </tr>\n",
       "  </tbody>\n",
       "</table>\n",
       "</div>"
      ],
      "text/plain": [
       "       Size _Fleet\n",
       "count    54.000000\n",
       "mean     26.018519\n",
       "std       5.916050\n",
       "min      17.000000\n",
       "25%      22.000000\n",
       "50%      24.000000\n",
       "75%      32.000000\n",
       "max      32.000000"
      ]
     },
     "execution_count": 54,
     "metadata": {},
     "output_type": "execute_result"
    }
   ],
   "source": [
    "df.describe()"
   ]
  },
  {
   "cell_type": "code",
   "execution_count": 60,
   "metadata": {},
   "outputs": [
    {
     "data": {
      "text/plain": [
       "<matplotlib.axes._subplots.AxesSubplot at 0x1b593388f88>"
      ]
     },
     "execution_count": 60,
     "metadata": {},
     "output_type": "execute_result"
    },
    {
     "data": {
      "image/png": "[encoded data removed]",
      "text/plain": [
       "<Figure size 1080x360 with 1 Axes>"
      ]
     },
     "metadata": {
      "needs_background": "light"
     },
     "output_type": "display_data"
    }
   ],
   "source": [
    "plt.figure(figsize=(15,5))\n",
    "\n",
    "sns.countplot(x=\"Origin\",data=df)\n"
   ]
  },
  {
   "cell_type": "code",
   "execution_count": 56,
   "metadata": {},
   "outputs": [
    {
     "data": {
      "text/plain": [
       "<matplotlib.axes._subplots.AxesSubplot at 0x1b58d1632c8>"
      ]
     },
     "execution_count": 56,
     "metadata": {},
     "output_type": "execute_result"
    },
    {
     "data": {
      "image/png": "[encoded data removed]",
      "text/plain": [
       "<Figure size 2880x1440 with 1 Axes>"
      ]
     },
     "metadata": {
      "needs_background": "light"
     },
     "output_type": "display_data"
    }
   ],
   "source": [
    "plt.figure(figsize=(40,20))\n",
    "\n",
    "sns.countplot(x=\"Destination\",data=df)"
   ]
  }
 ],
 "metadata": {
  "kernelspec": {
   "display_name": "Python 3",
   "language": "python",
   "name": "python3"
  },
  "language_info": {
   "codemirror_mode": {
    "name": "ipython",
    "version": 3
   },
   "file_extension": ".py",
   "mimetype": "text/x-python",
   "name": "python",
   "nbconvert_exporter": "python",
   "pygments_lexer": "ipython3",
   "version": "3.7.6"
  },
  "toc": {
   "base_numbering": 1,
   "nav_menu": {},
   "number_sections": true,
   "sideBar": true,
   "skip_h1_title": false,
   "title_cell": "Table of Contents",
   "title_sidebar": "Contents",
   "toc_cell": false,
   "toc_position": {},
   "toc_section_display": true,
   "toc_window_display": false
  }
 },
 "nbformat": 4,
 "nbformat_minor": 4
}
