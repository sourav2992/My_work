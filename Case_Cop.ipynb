{
 "cells": [
  {
   "cell_type": "code",
   "execution_count": 1,
   "metadata": {},
   "outputs": [],
   "source": [
    "import pandas as pd\n",
    "import numpy as np\n",
    "import seaborn as sns\n",
    "import matplotlib.pyplot as plt"
   ]
  },
  {
   "cell_type": "code",
   "execution_count": 2,
   "metadata": {},
   "outputs": [],
   "source": [
    "df= pd.read_csv(\"E:/Case_Competition/Case_Data.csv\")"
   ]
  },
  {
   "cell_type": "code",
   "execution_count": 3,
   "metadata": {},
   "outputs": [
    {
     "data": {
      "text/html": [
       "<div>\n",
       "<style scoped>\n",
       "    .dataframe tbody tr th:only-of-type {\n",
       "        vertical-align: middle;\n",
       "    }\n",
       "\n",
       "    .dataframe tbody tr th {\n",
       "        vertical-align: top;\n",
       "    }\n",
       "\n",
       "    .dataframe thead th {\n",
       "        text-align: right;\n",
       "    }\n",
       "</style>\n",
       "<table border=\"1\" class=\"dataframe\">\n",
       "  <thead>\n",
       "    <tr style=\"text-align: right;\">\n",
       "      <th></th>\n",
       "      <th>Log in Date</th>\n",
       "      <th>Market</th>\n",
       "      <th>User ID</th>\n",
       "      <th>Sales</th>\n",
       "    </tr>\n",
       "  </thead>\n",
       "  <tbody>\n",
       "    <tr>\n",
       "      <th>0</th>\n",
       "      <td>01-01-2011</td>\n",
       "      <td>Africa</td>\n",
       "      <td>TB-112801</td>\n",
       "      <td>5047</td>\n",
       "    </tr>\n",
       "    <tr>\n",
       "      <th>1</th>\n",
       "      <td>01-01-2011</td>\n",
       "      <td>APAC</td>\n",
       "      <td>JH-159851</td>\n",
       "      <td>6628</td>\n",
       "    </tr>\n",
       "    <tr>\n",
       "      <th>2</th>\n",
       "      <td>01-01-2011</td>\n",
       "      <td>EMEA</td>\n",
       "      <td>AT-7352</td>\n",
       "      <td>1254</td>\n",
       "    </tr>\n",
       "    <tr>\n",
       "      <th>3</th>\n",
       "      <td>01-01-2011</td>\n",
       "      <td>EU</td>\n",
       "      <td>EM-141402</td>\n",
       "      <td>8240</td>\n",
       "    </tr>\n",
       "    <tr>\n",
       "      <th>4</th>\n",
       "      <td>02-01-2011</td>\n",
       "      <td>America</td>\n",
       "      <td>MM-72602</td>\n",
       "      <td>4060</td>\n",
       "    </tr>\n",
       "    <tr>\n",
       "      <th>5</th>\n",
       "      <td>03-01-2011</td>\n",
       "      <td>Africa</td>\n",
       "      <td>JG-51151</td>\n",
       "      <td>7413</td>\n",
       "    </tr>\n",
       "    <tr>\n",
       "      <th>6</th>\n",
       "      <td>03-01-2011</td>\n",
       "      <td>APAC</td>\n",
       "      <td>CM-122351</td>\n",
       "      <td>1068</td>\n",
       "    </tr>\n",
       "    <tr>\n",
       "      <th>7</th>\n",
       "      <td>03-01-2011</td>\n",
       "      <td>APAC</td>\n",
       "      <td>DP-133901</td>\n",
       "      <td>2124</td>\n",
       "    </tr>\n",
       "    <tr>\n",
       "      <th>8</th>\n",
       "      <td>03-01-2011</td>\n",
       "      <td>APAC</td>\n",
       "      <td>KL-166451</td>\n",
       "      <td>4533</td>\n",
       "    </tr>\n",
       "    <tr>\n",
       "      <th>9</th>\n",
       "      <td>03-01-2011</td>\n",
       "      <td>APAC</td>\n",
       "      <td>KN-164501</td>\n",
       "      <td>2107</td>\n",
       "    </tr>\n",
       "  </tbody>\n",
       "</table>\n",
       "</div>"
      ],
      "text/plain": [
       "  Log in Date   Market    User ID  Sales\n",
       "0  01-01-2011   Africa  TB-112801   5047\n",
       "1  01-01-2011     APAC  JH-159851   6628\n",
       "2  01-01-2011     EMEA    AT-7352   1254\n",
       "3  01-01-2011       EU  EM-141402   8240\n",
       "4  02-01-2011  America   MM-72602   4060\n",
       "5  03-01-2011   Africa   JG-51151   7413\n",
       "6  03-01-2011     APAC  CM-122351   1068\n",
       "7  03-01-2011     APAC  DP-133901   2124\n",
       "8  03-01-2011     APAC  KL-166451   4533\n",
       "9  03-01-2011     APAC  KN-164501   2107"
      ]
     },
     "execution_count": 3,
     "metadata": {},
     "output_type": "execute_result"
    }
   ],
   "source": [
    "df.head(10)"
   ]
  },
  {
   "cell_type": "code",
   "execution_count": 4,
   "metadata": {},
   "outputs": [
    {
     "name": "stdout",
     "output_type": "stream",
     "text": [
      "<class 'pandas.core.frame.DataFrame'>\n",
      "RangeIndex: 25506 entries, 0 to 25505\n",
      "Data columns (total 4 columns):\n",
      " #   Column       Non-Null Count  Dtype \n",
      "---  ------       --------------  ----- \n",
      " 0   Log in Date  25506 non-null  object\n",
      " 1   Market       25506 non-null  object\n",
      " 2   User ID      25506 non-null  object\n",
      " 3   Sales        25506 non-null  int64 \n",
      "dtypes: int64(1), object(3)\n",
      "memory usage: 797.2+ KB\n"
     ]
    }
   ],
   "source": [
    "df.info()"
   ]
  },
  {
   "cell_type": "code",
   "execution_count": 5,
   "metadata": {},
   "outputs": [
    {
     "data": {
      "text/plain": [
       "array(['Africa', 'APAC', 'EMEA', 'EU', 'America', 'LATAM'], dtype=object)"
      ]
     },
     "execution_count": 5,
     "metadata": {},
     "output_type": "execute_result"
    }
   ],
   "source": [
    "df.Market.unique()"
   ]
  },
  {
   "cell_type": "code",
   "execution_count": 6,
   "metadata": {},
   "outputs": [
    {
     "data": {
      "text/html": [
       "<div>\n",
       "<style scoped>\n",
       "    .dataframe tbody tr th:only-of-type {\n",
       "        vertical-align: middle;\n",
       "    }\n",
       "\n",
       "    .dataframe tbody tr th {\n",
       "        vertical-align: top;\n",
       "    }\n",
       "\n",
       "    .dataframe thead th {\n",
       "        text-align: right;\n",
       "    }\n",
       "</style>\n",
       "<table border=\"1\" class=\"dataframe\">\n",
       "  <thead>\n",
       "    <tr style=\"text-align: right;\">\n",
       "      <th></th>\n",
       "      <th>Sales</th>\n",
       "    </tr>\n",
       "  </thead>\n",
       "  <tbody>\n",
       "    <tr>\n",
       "      <th>count</th>\n",
       "      <td>25506.000000</td>\n",
       "    </tr>\n",
       "    <tr>\n",
       "      <th>mean</th>\n",
       "      <td>5501.111307</td>\n",
       "    </tr>\n",
       "    <tr>\n",
       "      <th>std</th>\n",
       "      <td>2599.712090</td>\n",
       "    </tr>\n",
       "    <tr>\n",
       "      <th>min</th>\n",
       "      <td>1000.000000</td>\n",
       "    </tr>\n",
       "    <tr>\n",
       "      <th>25%</th>\n",
       "      <td>3250.000000</td>\n",
       "    </tr>\n",
       "    <tr>\n",
       "      <th>50%</th>\n",
       "      <td>5479.500000</td>\n",
       "    </tr>\n",
       "    <tr>\n",
       "      <th>75%</th>\n",
       "      <td>7753.000000</td>\n",
       "    </tr>\n",
       "    <tr>\n",
       "      <th>max</th>\n",
       "      <td>10000.000000</td>\n",
       "    </tr>\n",
       "  </tbody>\n",
       "</table>\n",
       "</div>"
      ],
      "text/plain": [
       "              Sales\n",
       "count  25506.000000\n",
       "mean    5501.111307\n",
       "std     2599.712090\n",
       "min     1000.000000\n",
       "25%     3250.000000\n",
       "50%     5479.500000\n",
       "75%     7753.000000\n",
       "max    10000.000000"
      ]
     },
     "execution_count": 6,
     "metadata": {},
     "output_type": "execute_result"
    }
   ],
   "source": [
    "df.describe()"
   ]
  },
  {
   "cell_type": "code",
   "execution_count": 7,
   "metadata": {},
   "outputs": [
    {
     "data": {
      "text/html": [
       "<div>\n",
       "<style scoped>\n",
       "    .dataframe tbody tr th:only-of-type {\n",
       "        vertical-align: middle;\n",
       "    }\n",
       "\n",
       "    .dataframe tbody tr th {\n",
       "        vertical-align: top;\n",
       "    }\n",
       "\n",
       "    .dataframe thead th {\n",
       "        text-align: right;\n",
       "    }\n",
       "</style>\n",
       "<table border=\"1\" class=\"dataframe\">\n",
       "  <thead>\n",
       "    <tr style=\"text-align: right;\">\n",
       "      <th></th>\n",
       "      <th>Market</th>\n",
       "      <th>Sales</th>\n",
       "    </tr>\n",
       "  </thead>\n",
       "  <tbody>\n",
       "    <tr>\n",
       "      <th>0</th>\n",
       "      <td>APAC</td>\n",
       "      <td>29947452</td>\n",
       "    </tr>\n",
       "    <tr>\n",
       "      <th>1</th>\n",
       "      <td>Africa</td>\n",
       "      <td>12518991</td>\n",
       "    </tr>\n",
       "    <tr>\n",
       "      <th>2</th>\n",
       "      <td>America</td>\n",
       "      <td>28594632</td>\n",
       "    </tr>\n",
       "    <tr>\n",
       "      <th>3</th>\n",
       "      <td>EMEA</td>\n",
       "      <td>14026460</td>\n",
       "    </tr>\n",
       "    <tr>\n",
       "      <th>4</th>\n",
       "      <td>EU</td>\n",
       "      <td>28109810</td>\n",
       "    </tr>\n",
       "    <tr>\n",
       "      <th>5</th>\n",
       "      <td>LATAM</td>\n",
       "      <td>27114000</td>\n",
       "    </tr>\n",
       "  </tbody>\n",
       "</table>\n",
       "</div>"
      ],
      "text/plain": [
       "    Market     Sales\n",
       "0     APAC  29947452\n",
       "1   Africa  12518991\n",
       "2  America  28594632\n",
       "3     EMEA  14026460\n",
       "4       EU  28109810\n",
       "5    LATAM  27114000"
      ]
     },
     "execution_count": 7,
     "metadata": {},
     "output_type": "execute_result"
    }
   ],
   "source": [
    "df_market_sales= df.groupby(\"Market\").sum()[\"Sales\"].reset_index()\n",
    "df_market_sales.head(6)"
   ]
  },
  {
   "cell_type": "code",
   "execution_count": 8,
   "metadata": {},
   "outputs": [
    {
     "data": {
      "text/plain": [
       "<matplotlib.axes._subplots.AxesSubplot at 0x24f70e83f48>"
      ]
     },
     "execution_count": 8,
     "metadata": {},
     "output_type": "execute_result"
    },
    {
     "data": {
      "image/png": "[encoded data removed]",
      "text/plain": [
       "<Figure size 720x360 with 1 Axes>"
      ]
     },
     "metadata": {},
     "output_type": "display_data"
    }
   ],
   "source": [
    "sns.set(rc={'figure.figsize':(10,5)})\n",
    "sns.barplot(x=\"Market\",y=\"Sales\",data=df_market_sales)"
   ]
  },
  {
   "cell_type": "code",
   "execution_count": 9,
   "metadata": {},
   "outputs": [
    {
     "data": {
      "text/html": [
       "<div>\n",
       "<style scoped>\n",
       "    .dataframe tbody tr th:only-of-type {\n",
       "        vertical-align: middle;\n",
       "    }\n",
       "\n",
       "    .dataframe tbody tr th {\n",
       "        vertical-align: top;\n",
       "    }\n",
       "\n",
       "    .dataframe thead th {\n",
       "        text-align: right;\n",
       "    }\n",
       "</style>\n",
       "<table border=\"1\" class=\"dataframe\">\n",
       "  <thead>\n",
       "    <tr style=\"text-align: right;\">\n",
       "      <th></th>\n",
       "      <th>Log in Date</th>\n",
       "      <th>Market</th>\n",
       "      <th>User ID</th>\n",
       "      <th>Sales</th>\n",
       "      <th>year</th>\n",
       "      <th>month</th>\n",
       "      <th>day</th>\n",
       "    </tr>\n",
       "  </thead>\n",
       "  <tbody>\n",
       "    <tr>\n",
       "      <th>0</th>\n",
       "      <td>2011-01-01</td>\n",
       "      <td>Africa</td>\n",
       "      <td>TB-112801</td>\n",
       "      <td>5047</td>\n",
       "      <td>2011</td>\n",
       "      <td>1</td>\n",
       "      <td>1</td>\n",
       "    </tr>\n",
       "    <tr>\n",
       "      <th>1</th>\n",
       "      <td>2011-01-01</td>\n",
       "      <td>APAC</td>\n",
       "      <td>JH-159851</td>\n",
       "      <td>6628</td>\n",
       "      <td>2011</td>\n",
       "      <td>1</td>\n",
       "      <td>1</td>\n",
       "    </tr>\n",
       "    <tr>\n",
       "      <th>2</th>\n",
       "      <td>2011-01-01</td>\n",
       "      <td>EMEA</td>\n",
       "      <td>AT-7352</td>\n",
       "      <td>1254</td>\n",
       "      <td>2011</td>\n",
       "      <td>1</td>\n",
       "      <td>1</td>\n",
       "    </tr>\n",
       "    <tr>\n",
       "      <th>3</th>\n",
       "      <td>2011-01-01</td>\n",
       "      <td>EU</td>\n",
       "      <td>EM-141402</td>\n",
       "      <td>8240</td>\n",
       "      <td>2011</td>\n",
       "      <td>1</td>\n",
       "      <td>1</td>\n",
       "    </tr>\n",
       "    <tr>\n",
       "      <th>4</th>\n",
       "      <td>2011-02-01</td>\n",
       "      <td>America</td>\n",
       "      <td>MM-72602</td>\n",
       "      <td>4060</td>\n",
       "      <td>2011</td>\n",
       "      <td>2</td>\n",
       "      <td>1</td>\n",
       "    </tr>\n",
       "  </tbody>\n",
       "</table>\n",
       "</div>"
      ],
      "text/plain": [
       "  Log in Date   Market    User ID  Sales  year  month  day\n",
       "0  2011-01-01   Africa  TB-112801   5047  2011      1    1\n",
       "1  2011-01-01     APAC  JH-159851   6628  2011      1    1\n",
       "2  2011-01-01     EMEA    AT-7352   1254  2011      1    1\n",
       "3  2011-01-01       EU  EM-141402   8240  2011      1    1\n",
       "4  2011-02-01  America   MM-72602   4060  2011      2    1"
      ]
     },
     "execution_count": 9,
     "metadata": {},
     "output_type": "execute_result"
    }
   ],
   "source": [
    "df['Log in Date'] = pd.to_datetime(df[\"Log in Date\"]) \n",
    "df['year'] = df['Log in Date'].dt.year \n",
    "df['month'] = df['Log in Date'].dt.month \n",
    "df['day'] = df['Log in Date'].dt.day\n",
    "df.head()"
   ]
  },
  {
   "cell_type": "code",
   "execution_count": 10,
   "metadata": {},
   "outputs": [],
   "source": [
    "df.to_csv('anuman.csv')"
   ]
  },
  {
   "cell_type": "code",
   "execution_count": 11,
   "metadata": {},
   "outputs": [],
   "source": [
    "df_total_sales= df.groupby(\"year\").sum()[\"Sales\"].reset_index()"
   ]
  },
  {
   "cell_type": "code",
   "execution_count": 12,
   "metadata": {},
   "outputs": [
    {
     "data": {
      "text/html": [
       "<div>\n",
       "<style scoped>\n",
       "    .dataframe tbody tr th:only-of-type {\n",
       "        vertical-align: middle;\n",
       "    }\n",
       "\n",
       "    .dataframe tbody tr th {\n",
       "        vertical-align: top;\n",
       "    }\n",
       "\n",
       "    .dataframe thead th {\n",
       "        text-align: right;\n",
       "    }\n",
       "</style>\n",
       "<table border=\"1\" class=\"dataframe\">\n",
       "  <thead>\n",
       "    <tr style=\"text-align: right;\">\n",
       "      <th></th>\n",
       "      <th>year</th>\n",
       "      <th>Sales</th>\n",
       "    </tr>\n",
       "  </thead>\n",
       "  <tbody>\n",
       "    <tr>\n",
       "      <th>0</th>\n",
       "      <td>2011</td>\n",
       "      <td>24571684</td>\n",
       "    </tr>\n",
       "    <tr>\n",
       "      <th>1</th>\n",
       "      <td>2012</td>\n",
       "      <td>30180323</td>\n",
       "    </tr>\n",
       "    <tr>\n",
       "      <th>2</th>\n",
       "      <td>2013</td>\n",
       "      <td>37540233</td>\n",
       "    </tr>\n",
       "    <tr>\n",
       "      <th>3</th>\n",
       "      <td>2014</td>\n",
       "      <td>48019105</td>\n",
       "    </tr>\n",
       "  </tbody>\n",
       "</table>\n",
       "</div>"
      ],
      "text/plain": [
       "   year     Sales\n",
       "0  2011  24571684\n",
       "1  2012  30180323\n",
       "2  2013  37540233\n",
       "3  2014  48019105"
      ]
     },
     "execution_count": 12,
     "metadata": {},
     "output_type": "execute_result"
    }
   ],
   "source": [
    "df_total_sales.head()"
   ]
  },
  {
   "cell_type": "code",
   "execution_count": 13,
   "metadata": {},
   "outputs": [
    {
     "data": {
      "text/plain": [
       "<matplotlib.axes._subplots.AxesSubplot at 0x24f731b6448>"
      ]
     },
     "execution_count": 13,
     "metadata": {},
     "output_type": "execute_result"
    },
    {
     "data": {
      "image/png": "[encoded data removed]",
      "text/plain": [
       "<Figure size 720x360 with 1 Axes>"
      ]
     },
     "metadata": {},
     "output_type": "display_data"
    }
   ],
   "source": [
    "sns.lineplot(x=\"year\",y=\"Sales\",data=df_total_sales)"
   ]
  },
  {
   "cell_type": "code",
   "execution_count": 14,
   "metadata": {},
   "outputs": [
    {
     "data": {
      "text/html": [
       "<div>\n",
       "<style scoped>\n",
       "    .dataframe tbody tr th:only-of-type {\n",
       "        vertical-align: middle;\n",
       "    }\n",
       "\n",
       "    .dataframe tbody tr th {\n",
       "        vertical-align: top;\n",
       "    }\n",
       "\n",
       "    .dataframe thead th {\n",
       "        text-align: right;\n",
       "    }\n",
       "</style>\n",
       "<table border=\"1\" class=\"dataframe\">\n",
       "  <thead>\n",
       "    <tr style=\"text-align: right;\">\n",
       "      <th></th>\n",
       "      <th>Log in Date</th>\n",
       "      <th>Market</th>\n",
       "      <th>User ID</th>\n",
       "      <th>Sales</th>\n",
       "      <th>year</th>\n",
       "      <th>month</th>\n",
       "      <th>day</th>\n",
       "    </tr>\n",
       "  </thead>\n",
       "  <tbody>\n",
       "    <tr>\n",
       "      <th>0</th>\n",
       "      <td>2011-01-01</td>\n",
       "      <td>Africa</td>\n",
       "      <td>TB-112801</td>\n",
       "      <td>5047</td>\n",
       "      <td>2011</td>\n",
       "      <td>1</td>\n",
       "      <td>1</td>\n",
       "    </tr>\n",
       "    <tr>\n",
       "      <th>1</th>\n",
       "      <td>2011-01-01</td>\n",
       "      <td>APAC</td>\n",
       "      <td>JH-159851</td>\n",
       "      <td>6628</td>\n",
       "      <td>2011</td>\n",
       "      <td>1</td>\n",
       "      <td>1</td>\n",
       "    </tr>\n",
       "    <tr>\n",
       "      <th>2</th>\n",
       "      <td>2011-01-01</td>\n",
       "      <td>EMEA</td>\n",
       "      <td>AT-7352</td>\n",
       "      <td>1254</td>\n",
       "      <td>2011</td>\n",
       "      <td>1</td>\n",
       "      <td>1</td>\n",
       "    </tr>\n",
       "    <tr>\n",
       "      <th>3</th>\n",
       "      <td>2011-01-01</td>\n",
       "      <td>EU</td>\n",
       "      <td>EM-141402</td>\n",
       "      <td>8240</td>\n",
       "      <td>2011</td>\n",
       "      <td>1</td>\n",
       "      <td>1</td>\n",
       "    </tr>\n",
       "    <tr>\n",
       "      <th>4</th>\n",
       "      <td>2011-02-01</td>\n",
       "      <td>America</td>\n",
       "      <td>MM-72602</td>\n",
       "      <td>4060</td>\n",
       "      <td>2011</td>\n",
       "      <td>2</td>\n",
       "      <td>1</td>\n",
       "    </tr>\n",
       "    <tr>\n",
       "      <th>5</th>\n",
       "      <td>2011-03-01</td>\n",
       "      <td>Africa</td>\n",
       "      <td>JG-51151</td>\n",
       "      <td>7413</td>\n",
       "      <td>2011</td>\n",
       "      <td>3</td>\n",
       "      <td>1</td>\n",
       "    </tr>\n",
       "    <tr>\n",
       "      <th>6</th>\n",
       "      <td>2011-03-01</td>\n",
       "      <td>APAC</td>\n",
       "      <td>CM-122351</td>\n",
       "      <td>1068</td>\n",
       "      <td>2011</td>\n",
       "      <td>3</td>\n",
       "      <td>1</td>\n",
       "    </tr>\n",
       "    <tr>\n",
       "      <th>7</th>\n",
       "      <td>2011-03-01</td>\n",
       "      <td>APAC</td>\n",
       "      <td>DP-133901</td>\n",
       "      <td>2124</td>\n",
       "      <td>2011</td>\n",
       "      <td>3</td>\n",
       "      <td>1</td>\n",
       "    </tr>\n",
       "    <tr>\n",
       "      <th>8</th>\n",
       "      <td>2011-03-01</td>\n",
       "      <td>APAC</td>\n",
       "      <td>KL-166451</td>\n",
       "      <td>4533</td>\n",
       "      <td>2011</td>\n",
       "      <td>3</td>\n",
       "      <td>1</td>\n",
       "    </tr>\n",
       "    <tr>\n",
       "      <th>9</th>\n",
       "      <td>2011-03-01</td>\n",
       "      <td>APAC</td>\n",
       "      <td>KN-164501</td>\n",
       "      <td>2107</td>\n",
       "      <td>2011</td>\n",
       "      <td>3</td>\n",
       "      <td>1</td>\n",
       "    </tr>\n",
       "  </tbody>\n",
       "</table>\n",
       "</div>"
      ],
      "text/plain": [
       "  Log in Date   Market    User ID  Sales  year  month  day\n",
       "0  2011-01-01   Africa  TB-112801   5047  2011      1    1\n",
       "1  2011-01-01     APAC  JH-159851   6628  2011      1    1\n",
       "2  2011-01-01     EMEA    AT-7352   1254  2011      1    1\n",
       "3  2011-01-01       EU  EM-141402   8240  2011      1    1\n",
       "4  2011-02-01  America   MM-72602   4060  2011      2    1\n",
       "5  2011-03-01   Africa   JG-51151   7413  2011      3    1\n",
       "6  2011-03-01     APAC  CM-122351   1068  2011      3    1\n",
       "7  2011-03-01     APAC  DP-133901   2124  2011      3    1\n",
       "8  2011-03-01     APAC  KL-166451   4533  2011      3    1\n",
       "9  2011-03-01     APAC  KN-164501   2107  2011      3    1"
      ]
     },
     "execution_count": 14,
     "metadata": {},
     "output_type": "execute_result"
    }
   ],
   "source": [
    "df_2011= df.loc[df[\"year\"]==2011,:]\n",
    "df_2011.head(10)"
   ]
  },
  {
   "cell_type": "code",
   "execution_count": 15,
   "metadata": {},
   "outputs": [],
   "source": [
    "df_total_sales_2011= df_2011.groupby(\"month\").sum()[\"Sales\"].reset_index()"
   ]
  },
  {
   "cell_type": "code",
   "execution_count": 16,
   "metadata": {},
   "outputs": [
    {
     "data": {
      "text/plain": [
       "<matplotlib.axes._subplots.AxesSubplot at 0x24f730377c8>"
      ]
     },
     "execution_count": 16,
     "metadata": {},
     "output_type": "execute_result"
    },
    {
     "data": {
      "image/png": "[encoded data removed]",
      "text/plain": [
       "<Figure size 720x360 with 1 Axes>"
      ]
     },
     "metadata": {},
     "output_type": "display_data"
    }
   ],
   "source": [
    "sns.set(rc={'figure.figsize':(10, 5)})\n",
    "sns.lineplot(x=\"month\",y=\"Sales\",data=df_total_sales_2011)"
   ]
  },
  {
   "cell_type": "code",
   "execution_count": 17,
   "metadata": {},
   "outputs": [
    {
     "data": {
      "text/html": [
       "<div>\n",
       "<style scoped>\n",
       "    .dataframe tbody tr th:only-of-type {\n",
       "        vertical-align: middle;\n",
       "    }\n",
       "\n",
       "    .dataframe tbody tr th {\n",
       "        vertical-align: top;\n",
       "    }\n",
       "\n",
       "    .dataframe thead th {\n",
       "        text-align: right;\n",
       "    }\n",
       "</style>\n",
       "<table border=\"1\" class=\"dataframe\">\n",
       "  <thead>\n",
       "    <tr style=\"text-align: right;\">\n",
       "      <th></th>\n",
       "      <th>Log in Date</th>\n",
       "      <th>Market</th>\n",
       "      <th>User ID</th>\n",
       "      <th>Sales</th>\n",
       "      <th>year</th>\n",
       "      <th>month</th>\n",
       "      <th>day</th>\n",
       "    </tr>\n",
       "  </thead>\n",
       "  <tbody>\n",
       "    <tr>\n",
       "      <th>4477</th>\n",
       "      <td>2012-02-01</td>\n",
       "      <td>Africa</td>\n",
       "      <td>JE-56101</td>\n",
       "      <td>3448</td>\n",
       "      <td>2012</td>\n",
       "      <td>2</td>\n",
       "      <td>1</td>\n",
       "    </tr>\n",
       "    <tr>\n",
       "      <th>4478</th>\n",
       "      <td>2012-02-01</td>\n",
       "      <td>Africa</td>\n",
       "      <td>PC-87451</td>\n",
       "      <td>5347</td>\n",
       "      <td>2012</td>\n",
       "      <td>2</td>\n",
       "      <td>1</td>\n",
       "    </tr>\n",
       "    <tr>\n",
       "      <th>4479</th>\n",
       "      <td>2012-02-01</td>\n",
       "      <td>APAC</td>\n",
       "      <td>AR-105401</td>\n",
       "      <td>4787</td>\n",
       "      <td>2012</td>\n",
       "      <td>2</td>\n",
       "      <td>1</td>\n",
       "    </tr>\n",
       "    <tr>\n",
       "      <th>4480</th>\n",
       "      <td>2012-02-01</td>\n",
       "      <td>APAC</td>\n",
       "      <td>JS-155951</td>\n",
       "      <td>4238</td>\n",
       "      <td>2012</td>\n",
       "      <td>2</td>\n",
       "      <td>1</td>\n",
       "    </tr>\n",
       "    <tr>\n",
       "      <th>4481</th>\n",
       "      <td>2012-02-01</td>\n",
       "      <td>APAC</td>\n",
       "      <td>MA-175601</td>\n",
       "      <td>2747</td>\n",
       "      <td>2012</td>\n",
       "      <td>2</td>\n",
       "      <td>1</td>\n",
       "    </tr>\n",
       "    <tr>\n",
       "      <th>4482</th>\n",
       "      <td>2012-02-01</td>\n",
       "      <td>APAC</td>\n",
       "      <td>ML-174101</td>\n",
       "      <td>6055</td>\n",
       "      <td>2012</td>\n",
       "      <td>2</td>\n",
       "      <td>1</td>\n",
       "    </tr>\n",
       "    <tr>\n",
       "      <th>4483</th>\n",
       "      <td>2012-02-01</td>\n",
       "      <td>EU</td>\n",
       "      <td>JP-154602</td>\n",
       "      <td>4116</td>\n",
       "      <td>2012</td>\n",
       "      <td>2</td>\n",
       "      <td>1</td>\n",
       "    </tr>\n",
       "    <tr>\n",
       "      <th>4484</th>\n",
       "      <td>2012-02-01</td>\n",
       "      <td>EU</td>\n",
       "      <td>VB-217452</td>\n",
       "      <td>9435</td>\n",
       "      <td>2012</td>\n",
       "      <td>2</td>\n",
       "      <td>1</td>\n",
       "    </tr>\n",
       "    <tr>\n",
       "      <th>4485</th>\n",
       "      <td>2012-02-01</td>\n",
       "      <td>LATAM</td>\n",
       "      <td>BD-117253</td>\n",
       "      <td>5888</td>\n",
       "      <td>2012</td>\n",
       "      <td>2</td>\n",
       "      <td>1</td>\n",
       "    </tr>\n",
       "    <tr>\n",
       "      <th>4486</th>\n",
       "      <td>2012-02-01</td>\n",
       "      <td>LATAM</td>\n",
       "      <td>EN-137803</td>\n",
       "      <td>8112</td>\n",
       "      <td>2012</td>\n",
       "      <td>2</td>\n",
       "      <td>1</td>\n",
       "    </tr>\n",
       "  </tbody>\n",
       "</table>\n",
       "</div>"
      ],
      "text/plain": [
       "     Log in Date  Market    User ID  Sales  year  month  day\n",
       "4477  2012-02-01  Africa   JE-56101   3448  2012      2    1\n",
       "4478  2012-02-01  Africa   PC-87451   5347  2012      2    1\n",
       "4479  2012-02-01    APAC  AR-105401   4787  2012      2    1\n",
       "4480  2012-02-01    APAC  JS-155951   4238  2012      2    1\n",
       "4481  2012-02-01    APAC  MA-175601   2747  2012      2    1\n",
       "4482  2012-02-01    APAC  ML-174101   6055  2012      2    1\n",
       "4483  2012-02-01      EU  JP-154602   4116  2012      2    1\n",
       "4484  2012-02-01      EU  VB-217452   9435  2012      2    1\n",
       "4485  2012-02-01   LATAM  BD-117253   5888  2012      2    1\n",
       "4486  2012-02-01   LATAM  EN-137803   8112  2012      2    1"
      ]
     },
     "execution_count": 17,
     "metadata": {},
     "output_type": "execute_result"
    }
   ],
   "source": [
    "df_2012= df.loc[df[\"year\"]==2012]\n",
    "df_2012.head(10)"
   ]
  },
  {
   "cell_type": "code",
   "execution_count": 18,
   "metadata": {},
   "outputs": [],
   "source": [
    "df_total_sales_2012= df_2012.groupby(\"month\").sum()[\"Sales\"].reset_index()"
   ]
  },
  {
   "cell_type": "code",
   "execution_count": 19,
   "metadata": {},
   "outputs": [
    {
     "data": {
      "text/plain": [
       "<matplotlib.axes._subplots.AxesSubplot at 0x24f7309c208>"
      ]
     },
     "execution_count": 19,
     "metadata": {},
     "output_type": "execute_result"
    },
    {
     "data": {
      "image/png": "[encoded data removed]",
      "text/plain": [
       "<Figure size 720x360 with 1 Axes>"
      ]
     },
     "metadata": {},
     "output_type": "display_data"
    }
   ],
   "source": [
    "sns.set(rc={'figure.figsize':(10, 5)})\n",
    "sns.lineplot(x=\"month\",y=\"Sales\",data=df_total_sales_2012)"
   ]
  },
  {
   "cell_type": "code",
   "execution_count": 20,
   "metadata": {},
   "outputs": [
    {
     "data": {
      "text/html": [
       "<div>\n",
       "<style scoped>\n",
       "    .dataframe tbody tr th:only-of-type {\n",
       "        vertical-align: middle;\n",
       "    }\n",
       "\n",
       "    .dataframe tbody tr th {\n",
       "        vertical-align: top;\n",
       "    }\n",
       "\n",
       "    .dataframe thead th {\n",
       "        text-align: right;\n",
       "    }\n",
       "</style>\n",
       "<table border=\"1\" class=\"dataframe\">\n",
       "  <thead>\n",
       "    <tr style=\"text-align: right;\">\n",
       "      <th></th>\n",
       "      <th>Log in Date</th>\n",
       "      <th>Market</th>\n",
       "      <th>User ID</th>\n",
       "      <th>Sales</th>\n",
       "      <th>year</th>\n",
       "      <th>month</th>\n",
       "      <th>day</th>\n",
       "    </tr>\n",
       "  </thead>\n",
       "  <tbody>\n",
       "    <tr>\n",
       "      <th>9903</th>\n",
       "      <td>2013-01-01</td>\n",
       "      <td>Africa</td>\n",
       "      <td>JS-60301</td>\n",
       "      <td>6287</td>\n",
       "      <td>2013</td>\n",
       "      <td>1</td>\n",
       "      <td>1</td>\n",
       "    </tr>\n",
       "    <tr>\n",
       "      <th>9904</th>\n",
       "      <td>2013-01-01</td>\n",
       "      <td>Africa</td>\n",
       "      <td>SP-106501</td>\n",
       "      <td>5471</td>\n",
       "      <td>2013</td>\n",
       "      <td>1</td>\n",
       "      <td>1</td>\n",
       "    </tr>\n",
       "    <tr>\n",
       "      <th>9905</th>\n",
       "      <td>2013-01-01</td>\n",
       "      <td>APAC</td>\n",
       "      <td>BO-114251</td>\n",
       "      <td>3356</td>\n",
       "      <td>2013</td>\n",
       "      <td>1</td>\n",
       "      <td>1</td>\n",
       "    </tr>\n",
       "    <tr>\n",
       "      <th>9906</th>\n",
       "      <td>2013-01-01</td>\n",
       "      <td>APAC</td>\n",
       "      <td>JE-157151</td>\n",
       "      <td>1193</td>\n",
       "      <td>2013</td>\n",
       "      <td>1</td>\n",
       "      <td>1</td>\n",
       "    </tr>\n",
       "    <tr>\n",
       "      <th>9907</th>\n",
       "      <td>2013-01-01</td>\n",
       "      <td>APAC</td>\n",
       "      <td>MY-182951</td>\n",
       "      <td>5835</td>\n",
       "      <td>2013</td>\n",
       "      <td>1</td>\n",
       "      <td>1</td>\n",
       "    </tr>\n",
       "    <tr>\n",
       "      <th>9908</th>\n",
       "      <td>2013-01-01</td>\n",
       "      <td>APAC</td>\n",
       "      <td>NP-186851</td>\n",
       "      <td>9976</td>\n",
       "      <td>2013</td>\n",
       "      <td>1</td>\n",
       "      <td>1</td>\n",
       "    </tr>\n",
       "    <tr>\n",
       "      <th>9909</th>\n",
       "      <td>2013-01-01</td>\n",
       "      <td>America</td>\n",
       "      <td>PB-88052</td>\n",
       "      <td>9573</td>\n",
       "      <td>2013</td>\n",
       "      <td>1</td>\n",
       "      <td>1</td>\n",
       "    </tr>\n",
       "    <tr>\n",
       "      <th>9910</th>\n",
       "      <td>2013-01-01</td>\n",
       "      <td>EMEA</td>\n",
       "      <td>JR-56702</td>\n",
       "      <td>5309</td>\n",
       "      <td>2013</td>\n",
       "      <td>1</td>\n",
       "      <td>1</td>\n",
       "    </tr>\n",
       "    <tr>\n",
       "      <th>9911</th>\n",
       "      <td>2013-01-01</td>\n",
       "      <td>EU</td>\n",
       "      <td>CC-122202</td>\n",
       "      <td>2788</td>\n",
       "      <td>2013</td>\n",
       "      <td>1</td>\n",
       "      <td>1</td>\n",
       "    </tr>\n",
       "    <tr>\n",
       "      <th>9912</th>\n",
       "      <td>2013-01-01</td>\n",
       "      <td>EU</td>\n",
       "      <td>JK-153702</td>\n",
       "      <td>6454</td>\n",
       "      <td>2013</td>\n",
       "      <td>1</td>\n",
       "      <td>1</td>\n",
       "    </tr>\n",
       "  </tbody>\n",
       "</table>\n",
       "</div>"
      ],
      "text/plain": [
       "     Log in Date   Market    User ID  Sales  year  month  day\n",
       "9903  2013-01-01   Africa   JS-60301   6287  2013      1    1\n",
       "9904  2013-01-01   Africa  SP-106501   5471  2013      1    1\n",
       "9905  2013-01-01     APAC  BO-114251   3356  2013      1    1\n",
       "9906  2013-01-01     APAC  JE-157151   1193  2013      1    1\n",
       "9907  2013-01-01     APAC  MY-182951   5835  2013      1    1\n",
       "9908  2013-01-01     APAC  NP-186851   9976  2013      1    1\n",
       "9909  2013-01-01  America   PB-88052   9573  2013      1    1\n",
       "9910  2013-01-01     EMEA   JR-56702   5309  2013      1    1\n",
       "9911  2013-01-01       EU  CC-122202   2788  2013      1    1\n",
       "9912  2013-01-01       EU  JK-153702   6454  2013      1    1"
      ]
     },
     "execution_count": 20,
     "metadata": {},
     "output_type": "execute_result"
    }
   ],
   "source": [
    "df_2013= df.loc[df[\"year\"]==2013]\n",
    "df_2013.head(10)"
   ]
  },
  {
   "cell_type": "code",
   "execution_count": 21,
   "metadata": {},
   "outputs": [],
   "source": [
    "df_total_sales_2013= df_2013.groupby(\"month\").sum()[\"Sales\"].reset_index()"
   ]
  },
  {
   "cell_type": "code",
   "execution_count": 22,
   "metadata": {},
   "outputs": [
    {
     "data": {
      "text/plain": [
       "<matplotlib.axes._subplots.AxesSubplot at 0x24f73100408>"
      ]
     },
     "execution_count": 22,
     "metadata": {},
     "output_type": "execute_result"
    },
    {
     "data": {
      "image/png": "[encoded data removed]",
      "text/plain": [
       "<Figure size 720x360 with 1 Axes>"
      ]
     },
     "metadata": {},
     "output_type": "display_data"
    }
   ],
   "source": [
    "sns.set(rc={'figure.figsize':(10, 5)})\n",
    "sns.lineplot(x=\"month\",y=\"Sales\",data=df_total_sales_2013)"
   ]
  },
  {
   "cell_type": "code",
   "execution_count": 23,
   "metadata": {},
   "outputs": [
    {
     "data": {
      "text/html": [
       "<div>\n",
       "<style scoped>\n",
       "    .dataframe tbody tr th:only-of-type {\n",
       "        vertical-align: middle;\n",
       "    }\n",
       "\n",
       "    .dataframe tbody tr th {\n",
       "        vertical-align: top;\n",
       "    }\n",
       "\n",
       "    .dataframe thead th {\n",
       "        text-align: right;\n",
       "    }\n",
       "</style>\n",
       "<table border=\"1\" class=\"dataframe\">\n",
       "  <thead>\n",
       "    <tr style=\"text-align: right;\">\n",
       "      <th></th>\n",
       "      <th>Log in Date</th>\n",
       "      <th>Market</th>\n",
       "      <th>User ID</th>\n",
       "      <th>Sales</th>\n",
       "      <th>year</th>\n",
       "      <th>month</th>\n",
       "      <th>day</th>\n",
       "    </tr>\n",
       "  </thead>\n",
       "  <tbody>\n",
       "    <tr>\n",
       "      <th>16721</th>\n",
       "      <td>2014-01-01</td>\n",
       "      <td>Africa</td>\n",
       "      <td>CR-27301</td>\n",
       "      <td>8938</td>\n",
       "      <td>2014</td>\n",
       "      <td>1</td>\n",
       "      <td>1</td>\n",
       "    </tr>\n",
       "    <tr>\n",
       "      <th>16722</th>\n",
       "      <td>2014-01-01</td>\n",
       "      <td>Africa</td>\n",
       "      <td>EN-37801</td>\n",
       "      <td>6794</td>\n",
       "      <td>2014</td>\n",
       "      <td>1</td>\n",
       "      <td>1</td>\n",
       "    </tr>\n",
       "    <tr>\n",
       "      <th>16723</th>\n",
       "      <td>2014-01-01</td>\n",
       "      <td>Africa</td>\n",
       "      <td>JE-54751</td>\n",
       "      <td>5214</td>\n",
       "      <td>2014</td>\n",
       "      <td>1</td>\n",
       "      <td>1</td>\n",
       "    </tr>\n",
       "    <tr>\n",
       "      <th>16724</th>\n",
       "      <td>2014-01-01</td>\n",
       "      <td>APAC</td>\n",
       "      <td>GM-146801</td>\n",
       "      <td>6743</td>\n",
       "      <td>2014</td>\n",
       "      <td>1</td>\n",
       "      <td>1</td>\n",
       "    </tr>\n",
       "    <tr>\n",
       "      <th>16725</th>\n",
       "      <td>2014-01-01</td>\n",
       "      <td>APAC</td>\n",
       "      <td>KN-164501</td>\n",
       "      <td>5033</td>\n",
       "      <td>2014</td>\n",
       "      <td>1</td>\n",
       "      <td>1</td>\n",
       "    </tr>\n",
       "    <tr>\n",
       "      <th>16726</th>\n",
       "      <td>2014-01-01</td>\n",
       "      <td>EMEA</td>\n",
       "      <td>CG-25202</td>\n",
       "      <td>5313</td>\n",
       "      <td>2014</td>\n",
       "      <td>1</td>\n",
       "      <td>1</td>\n",
       "    </tr>\n",
       "    <tr>\n",
       "      <th>16727</th>\n",
       "      <td>2014-01-01</td>\n",
       "      <td>EMEA</td>\n",
       "      <td>DO-36453</td>\n",
       "      <td>5015</td>\n",
       "      <td>2014</td>\n",
       "      <td>1</td>\n",
       "      <td>1</td>\n",
       "    </tr>\n",
       "    <tr>\n",
       "      <th>16728</th>\n",
       "      <td>2014-01-01</td>\n",
       "      <td>EMEA</td>\n",
       "      <td>LW-68252</td>\n",
       "      <td>5131</td>\n",
       "      <td>2014</td>\n",
       "      <td>1</td>\n",
       "      <td>1</td>\n",
       "    </tr>\n",
       "    <tr>\n",
       "      <th>16729</th>\n",
       "      <td>2014-01-01</td>\n",
       "      <td>EU</td>\n",
       "      <td>AS-102402</td>\n",
       "      <td>2831</td>\n",
       "      <td>2014</td>\n",
       "      <td>1</td>\n",
       "      <td>1</td>\n",
       "    </tr>\n",
       "    <tr>\n",
       "      <th>16730</th>\n",
       "      <td>2014-01-01</td>\n",
       "      <td>EU</td>\n",
       "      <td>BN-114702</td>\n",
       "      <td>2414</td>\n",
       "      <td>2014</td>\n",
       "      <td>1</td>\n",
       "      <td>1</td>\n",
       "    </tr>\n",
       "  </tbody>\n",
       "</table>\n",
       "</div>"
      ],
      "text/plain": [
       "      Log in Date  Market    User ID  Sales  year  month  day\n",
       "16721  2014-01-01  Africa   CR-27301   8938  2014      1    1\n",
       "16722  2014-01-01  Africa   EN-37801   6794  2014      1    1\n",
       "16723  2014-01-01  Africa   JE-54751   5214  2014      1    1\n",
       "16724  2014-01-01    APAC  GM-146801   6743  2014      1    1\n",
       "16725  2014-01-01    APAC  KN-164501   5033  2014      1    1\n",
       "16726  2014-01-01    EMEA   CG-25202   5313  2014      1    1\n",
       "16727  2014-01-01    EMEA   DO-36453   5015  2014      1    1\n",
       "16728  2014-01-01    EMEA   LW-68252   5131  2014      1    1\n",
       "16729  2014-01-01      EU  AS-102402   2831  2014      1    1\n",
       "16730  2014-01-01      EU  BN-114702   2414  2014      1    1"
      ]
     },
     "execution_count": 23,
     "metadata": {},
     "output_type": "execute_result"
    }
   ],
   "source": [
    "df_2014= df.loc[df[\"year\"]==2014]\n",
    "df_2014.head(10)"
   ]
  },
  {
   "cell_type": "code",
   "execution_count": 24,
   "metadata": {},
   "outputs": [],
   "source": [
    "df_total_sales_2014= df_2014.groupby(\"month\").sum()[\"Sales\"].reset_index()"
   ]
  },
  {
   "cell_type": "code",
   "execution_count": 25,
   "metadata": {},
   "outputs": [
    {
     "data": {
      "text/plain": [
       "<matplotlib.axes._subplots.AxesSubplot at 0x24f73174688>"
      ]
     },
     "execution_count": 25,
     "metadata": {},
     "output_type": "execute_result"
    },
    {
     "data": {
      "image/png": "[encoded data removed]",
      "text/plain": [
       "<Figure size 720x360 with 1 Axes>"
      ]
     },
     "metadata": {},
     "output_type": "display_data"
    }
   ],
   "source": [
    "sns.set(rc={'figure.figsize':(10, 5)})\n",
    "sns.lineplot(x=\"month\",y=\"Sales\",data=df_total_sales_2014)"
   ]
  },
  {
   "cell_type": "code",
   "execution_count": 26,
   "metadata": {},
   "outputs": [],
   "source": [
    "df_africa= df.loc[df.Market==\"Africa\",:]"
   ]
  },
  {
   "cell_type": "code",
   "execution_count": 27,
   "metadata": {},
   "outputs": [
    {
     "data": {
      "text/html": [
       "<div>\n",
       "<style scoped>\n",
       "    .dataframe tbody tr th:only-of-type {\n",
       "        vertical-align: middle;\n",
       "    }\n",
       "\n",
       "    .dataframe tbody tr th {\n",
       "        vertical-align: top;\n",
       "    }\n",
       "\n",
       "    .dataframe thead th {\n",
       "        text-align: right;\n",
       "    }\n",
       "</style>\n",
       "<table border=\"1\" class=\"dataframe\">\n",
       "  <thead>\n",
       "    <tr style=\"text-align: right;\">\n",
       "      <th></th>\n",
       "      <th>Log in Date</th>\n",
       "      <th>Market</th>\n",
       "      <th>User ID</th>\n",
       "      <th>Sales</th>\n",
       "      <th>year</th>\n",
       "      <th>month</th>\n",
       "      <th>day</th>\n",
       "    </tr>\n",
       "  </thead>\n",
       "  <tbody>\n",
       "    <tr>\n",
       "      <th>0</th>\n",
       "      <td>2011-01-01</td>\n",
       "      <td>Africa</td>\n",
       "      <td>TB-112801</td>\n",
       "      <td>5047</td>\n",
       "      <td>2011</td>\n",
       "      <td>1</td>\n",
       "      <td>1</td>\n",
       "    </tr>\n",
       "    <tr>\n",
       "      <th>5</th>\n",
       "      <td>2011-03-01</td>\n",
       "      <td>Africa</td>\n",
       "      <td>JG-51151</td>\n",
       "      <td>7413</td>\n",
       "      <td>2011</td>\n",
       "      <td>3</td>\n",
       "      <td>1</td>\n",
       "    </tr>\n",
       "    <tr>\n",
       "      <th>16</th>\n",
       "      <td>2011-04-01</td>\n",
       "      <td>Africa</td>\n",
       "      <td>JC-53401</td>\n",
       "      <td>6235</td>\n",
       "      <td>2011</td>\n",
       "      <td>4</td>\n",
       "      <td>1</td>\n",
       "    </tr>\n",
       "    <tr>\n",
       "      <th>29</th>\n",
       "      <td>2011-06-01</td>\n",
       "      <td>Africa</td>\n",
       "      <td>GK-46201</td>\n",
       "      <td>4311</td>\n",
       "      <td>2011</td>\n",
       "      <td>6</td>\n",
       "      <td>1</td>\n",
       "    </tr>\n",
       "    <tr>\n",
       "      <th>35</th>\n",
       "      <td>2011-07-01</td>\n",
       "      <td>Africa</td>\n",
       "      <td>AC-4201</td>\n",
       "      <td>4291</td>\n",
       "      <td>2011</td>\n",
       "      <td>7</td>\n",
       "      <td>1</td>\n",
       "    </tr>\n",
       "    <tr>\n",
       "      <th>36</th>\n",
       "      <td>2011-07-01</td>\n",
       "      <td>Africa</td>\n",
       "      <td>SV-107851</td>\n",
       "      <td>6470</td>\n",
       "      <td>2011</td>\n",
       "      <td>7</td>\n",
       "      <td>1</td>\n",
       "    </tr>\n",
       "    <tr>\n",
       "      <th>46</th>\n",
       "      <td>2011-08-01</td>\n",
       "      <td>Africa</td>\n",
       "      <td>HZ-49501</td>\n",
       "      <td>4174</td>\n",
       "      <td>2011</td>\n",
       "      <td>8</td>\n",
       "      <td>1</td>\n",
       "    </tr>\n",
       "    <tr>\n",
       "      <th>47</th>\n",
       "      <td>2011-08-01</td>\n",
       "      <td>Africa</td>\n",
       "      <td>JE-57151</td>\n",
       "      <td>5608</td>\n",
       "      <td>2011</td>\n",
       "      <td>8</td>\n",
       "      <td>1</td>\n",
       "    </tr>\n",
       "    <tr>\n",
       "      <th>55</th>\n",
       "      <td>2011-10-01</td>\n",
       "      <td>Africa</td>\n",
       "      <td>RS-94201</td>\n",
       "      <td>2325</td>\n",
       "      <td>2011</td>\n",
       "      <td>10</td>\n",
       "      <td>1</td>\n",
       "    </tr>\n",
       "    <tr>\n",
       "      <th>56</th>\n",
       "      <td>2011-10-01</td>\n",
       "      <td>Africa</td>\n",
       "      <td>SJ-101251</td>\n",
       "      <td>5904</td>\n",
       "      <td>2011</td>\n",
       "      <td>10</td>\n",
       "      <td>1</td>\n",
       "    </tr>\n",
       "  </tbody>\n",
       "</table>\n",
       "</div>"
      ],
      "text/plain": [
       "   Log in Date  Market    User ID  Sales  year  month  day\n",
       "0   2011-01-01  Africa  TB-112801   5047  2011      1    1\n",
       "5   2011-03-01  Africa   JG-51151   7413  2011      3    1\n",
       "16  2011-04-01  Africa   JC-53401   6235  2011      4    1\n",
       "29  2011-06-01  Africa   GK-46201   4311  2011      6    1\n",
       "35  2011-07-01  Africa    AC-4201   4291  2011      7    1\n",
       "36  2011-07-01  Africa  SV-107851   6470  2011      7    1\n",
       "46  2011-08-01  Africa   HZ-49501   4174  2011      8    1\n",
       "47  2011-08-01  Africa   JE-57151   5608  2011      8    1\n",
       "55  2011-10-01  Africa   RS-94201   2325  2011     10    1\n",
       "56  2011-10-01  Africa  SJ-101251   5904  2011     10    1"
      ]
     },
     "execution_count": 27,
     "metadata": {},
     "output_type": "execute_result"
    }
   ],
   "source": [
    "df_africa.head(10)"
   ]
  },
  {
   "cell_type": "code",
   "execution_count": 28,
   "metadata": {},
   "outputs": [
    {
     "data": {
      "image/png": "[encoded data removed]",
      "text/plain": [
       "<Figure size 1800x576 with 1 Axes>"
      ]
     },
     "metadata": {},
     "output_type": "display_data"
    }
   ],
   "source": [
    "sns.set(rc={'figure.figsize':(25, 8)})\n",
    "df_africa['month'].plot(linewidth=2);\n",
    "#sns.lineplot(x= \"Log in Date\",y=\"Sales\",data=df_africa)"
   ]
  },
  {
   "cell_type": "code",
   "execution_count": 29,
   "metadata": {},
   "outputs": [
    {
     "data": {
      "text/plain": [
       "array([ 1,  3,  4,  6,  7,  8, 10, 12, 11,  2,  9,  5], dtype=int64)"
      ]
     },
     "execution_count": 29,
     "metadata": {},
     "output_type": "execute_result"
    }
   ],
   "source": [
    "df_africa[\"month\"].unique()"
   ]
  },
  {
   "cell_type": "code",
   "execution_count": 30,
   "metadata": {},
   "outputs": [
    {
     "data": {
      "text/html": [
       "<div>\n",
       "<style scoped>\n",
       "    .dataframe tbody tr th:only-of-type {\n",
       "        vertical-align: middle;\n",
       "    }\n",
       "\n",
       "    .dataframe tbody tr th {\n",
       "        vertical-align: top;\n",
       "    }\n",
       "\n",
       "    .dataframe thead th {\n",
       "        text-align: right;\n",
       "    }\n",
       "</style>\n",
       "<table border=\"1\" class=\"dataframe\">\n",
       "  <thead>\n",
       "    <tr style=\"text-align: right;\">\n",
       "      <th></th>\n",
       "      <th>Log in Date</th>\n",
       "      <th>Market</th>\n",
       "      <th>User ID</th>\n",
       "      <th>Sales</th>\n",
       "      <th>year</th>\n",
       "      <th>month</th>\n",
       "      <th>day</th>\n",
       "    </tr>\n",
       "  </thead>\n",
       "  <tbody>\n",
       "    <tr>\n",
       "      <th>0</th>\n",
       "      <td>2011-01-01</td>\n",
       "      <td>Africa</td>\n",
       "      <td>TB-112801</td>\n",
       "      <td>5047</td>\n",
       "      <td>2011</td>\n",
       "      <td>1</td>\n",
       "      <td>1</td>\n",
       "    </tr>\n",
       "    <tr>\n",
       "      <th>5</th>\n",
       "      <td>2011-03-01</td>\n",
       "      <td>Africa</td>\n",
       "      <td>JG-51151</td>\n",
       "      <td>7413</td>\n",
       "      <td>2011</td>\n",
       "      <td>3</td>\n",
       "      <td>1</td>\n",
       "    </tr>\n",
       "    <tr>\n",
       "      <th>16</th>\n",
       "      <td>2011-04-01</td>\n",
       "      <td>Africa</td>\n",
       "      <td>JC-53401</td>\n",
       "      <td>6235</td>\n",
       "      <td>2011</td>\n",
       "      <td>4</td>\n",
       "      <td>1</td>\n",
       "    </tr>\n",
       "    <tr>\n",
       "      <th>29</th>\n",
       "      <td>2011-06-01</td>\n",
       "      <td>Africa</td>\n",
       "      <td>GK-46201</td>\n",
       "      <td>4311</td>\n",
       "      <td>2011</td>\n",
       "      <td>6</td>\n",
       "      <td>1</td>\n",
       "    </tr>\n",
       "    <tr>\n",
       "      <th>35</th>\n",
       "      <td>2011-07-01</td>\n",
       "      <td>Africa</td>\n",
       "      <td>AC-4201</td>\n",
       "      <td>4291</td>\n",
       "      <td>2011</td>\n",
       "      <td>7</td>\n",
       "      <td>1</td>\n",
       "    </tr>\n",
       "    <tr>\n",
       "      <th>36</th>\n",
       "      <td>2011-07-01</td>\n",
       "      <td>Africa</td>\n",
       "      <td>SV-107851</td>\n",
       "      <td>6470</td>\n",
       "      <td>2011</td>\n",
       "      <td>7</td>\n",
       "      <td>1</td>\n",
       "    </tr>\n",
       "    <tr>\n",
       "      <th>46</th>\n",
       "      <td>2011-08-01</td>\n",
       "      <td>Africa</td>\n",
       "      <td>HZ-49501</td>\n",
       "      <td>4174</td>\n",
       "      <td>2011</td>\n",
       "      <td>8</td>\n",
       "      <td>1</td>\n",
       "    </tr>\n",
       "    <tr>\n",
       "      <th>47</th>\n",
       "      <td>2011-08-01</td>\n",
       "      <td>Africa</td>\n",
       "      <td>JE-57151</td>\n",
       "      <td>5608</td>\n",
       "      <td>2011</td>\n",
       "      <td>8</td>\n",
       "      <td>1</td>\n",
       "    </tr>\n",
       "    <tr>\n",
       "      <th>55</th>\n",
       "      <td>2011-10-01</td>\n",
       "      <td>Africa</td>\n",
       "      <td>RS-94201</td>\n",
       "      <td>2325</td>\n",
       "      <td>2011</td>\n",
       "      <td>10</td>\n",
       "      <td>1</td>\n",
       "    </tr>\n",
       "    <tr>\n",
       "      <th>56</th>\n",
       "      <td>2011-10-01</td>\n",
       "      <td>Africa</td>\n",
       "      <td>SJ-101251</td>\n",
       "      <td>5904</td>\n",
       "      <td>2011</td>\n",
       "      <td>10</td>\n",
       "      <td>1</td>\n",
       "    </tr>\n",
       "    <tr>\n",
       "      <th>57</th>\n",
       "      <td>2011-10-01</td>\n",
       "      <td>Africa</td>\n",
       "      <td>TH-112351</td>\n",
       "      <td>7864</td>\n",
       "      <td>2011</td>\n",
       "      <td>10</td>\n",
       "      <td>1</td>\n",
       "    </tr>\n",
       "    <tr>\n",
       "      <th>77</th>\n",
       "      <td>2011-12-01</td>\n",
       "      <td>Africa</td>\n",
       "      <td>SC-104401</td>\n",
       "      <td>8204</td>\n",
       "      <td>2011</td>\n",
       "      <td>12</td>\n",
       "      <td>1</td>\n",
       "    </tr>\n",
       "    <tr>\n",
       "      <th>83</th>\n",
       "      <td>2011-01-13</td>\n",
       "      <td>Africa</td>\n",
       "      <td>RD-97201</td>\n",
       "      <td>8570</td>\n",
       "      <td>2011</td>\n",
       "      <td>1</td>\n",
       "      <td>13</td>\n",
       "    </tr>\n",
       "    <tr>\n",
       "      <th>89</th>\n",
       "      <td>2011-01-14</td>\n",
       "      <td>Africa</td>\n",
       "      <td>SN-107101</td>\n",
       "      <td>4199</td>\n",
       "      <td>2011</td>\n",
       "      <td>1</td>\n",
       "      <td>14</td>\n",
       "    </tr>\n",
       "    <tr>\n",
       "      <th>99</th>\n",
       "      <td>2011-01-15</td>\n",
       "      <td>Africa</td>\n",
       "      <td>MB-80851</td>\n",
       "      <td>9704</td>\n",
       "      <td>2011</td>\n",
       "      <td>1</td>\n",
       "      <td>15</td>\n",
       "    </tr>\n",
       "    <tr>\n",
       "      <th>112</th>\n",
       "      <td>2011-01-18</td>\n",
       "      <td>Africa</td>\n",
       "      <td>CS-21751</td>\n",
       "      <td>9593</td>\n",
       "      <td>2011</td>\n",
       "      <td>1</td>\n",
       "      <td>18</td>\n",
       "    </tr>\n",
       "    <tr>\n",
       "      <th>117</th>\n",
       "      <td>2011-01-19</td>\n",
       "      <td>Africa</td>\n",
       "      <td>PG-88201</td>\n",
       "      <td>5236</td>\n",
       "      <td>2011</td>\n",
       "      <td>1</td>\n",
       "      <td>19</td>\n",
       "    </tr>\n",
       "    <tr>\n",
       "      <th>124</th>\n",
       "      <td>2011-01-20</td>\n",
       "      <td>Africa</td>\n",
       "      <td>MA-79951</td>\n",
       "      <td>1027</td>\n",
       "      <td>2011</td>\n",
       "      <td>1</td>\n",
       "      <td>20</td>\n",
       "    </tr>\n",
       "    <tr>\n",
       "      <th>125</th>\n",
       "      <td>2011-01-20</td>\n",
       "      <td>Africa</td>\n",
       "      <td>RB-93301</td>\n",
       "      <td>9866</td>\n",
       "      <td>2011</td>\n",
       "      <td>1</td>\n",
       "      <td>20</td>\n",
       "    </tr>\n",
       "    <tr>\n",
       "      <th>142</th>\n",
       "      <td>2011-01-22</td>\n",
       "      <td>Africa</td>\n",
       "      <td>JK-53251</td>\n",
       "      <td>8876</td>\n",
       "      <td>2011</td>\n",
       "      <td>1</td>\n",
       "      <td>22</td>\n",
       "    </tr>\n",
       "  </tbody>\n",
       "</table>\n",
       "</div>"
      ],
      "text/plain": [
       "    Log in Date  Market    User ID  Sales  year  month  day\n",
       "0    2011-01-01  Africa  TB-112801   5047  2011      1    1\n",
       "5    2011-03-01  Africa   JG-51151   7413  2011      3    1\n",
       "16   2011-04-01  Africa   JC-53401   6235  2011      4    1\n",
       "29   2011-06-01  Africa   GK-46201   4311  2011      6    1\n",
       "35   2011-07-01  Africa    AC-4201   4291  2011      7    1\n",
       "36   2011-07-01  Africa  SV-107851   6470  2011      7    1\n",
       "46   2011-08-01  Africa   HZ-49501   4174  2011      8    1\n",
       "47   2011-08-01  Africa   JE-57151   5608  2011      8    1\n",
       "55   2011-10-01  Africa   RS-94201   2325  2011     10    1\n",
       "56   2011-10-01  Africa  SJ-101251   5904  2011     10    1\n",
       "57   2011-10-01  Africa  TH-112351   7864  2011     10    1\n",
       "77   2011-12-01  Africa  SC-104401   8204  2011     12    1\n",
       "83   2011-01-13  Africa   RD-97201   8570  2011      1   13\n",
       "89   2011-01-14  Africa  SN-107101   4199  2011      1   14\n",
       "99   2011-01-15  Africa   MB-80851   9704  2011      1   15\n",
       "112  2011-01-18  Africa   CS-21751   9593  2011      1   18\n",
       "117  2011-01-19  Africa   PG-88201   5236  2011      1   19\n",
       "124  2011-01-20  Africa   MA-79951   1027  2011      1   20\n",
       "125  2011-01-20  Africa   RB-93301   9866  2011      1   20\n",
       "142  2011-01-22  Africa   JK-53251   8876  2011      1   22"
      ]
     },
     "execution_count": 30,
     "metadata": {},
     "output_type": "execute_result"
    }
   ],
   "source": [
    "df_africa_2011 =df_africa.loc[df_africa[\"year\"]==2011]\n",
    "df_africa_2011.head(20)"
   ]
  },
  {
   "cell_type": "code",
   "execution_count": 31,
   "metadata": {},
   "outputs": [
    {
     "data": {
      "text/html": [
       "<div>\n",
       "<style scoped>\n",
       "    .dataframe tbody tr th:only-of-type {\n",
       "        vertical-align: middle;\n",
       "    }\n",
       "\n",
       "    .dataframe tbody tr th {\n",
       "        vertical-align: top;\n",
       "    }\n",
       "\n",
       "    .dataframe thead th {\n",
       "        text-align: right;\n",
       "    }\n",
       "</style>\n",
       "<table border=\"1\" class=\"dataframe\">\n",
       "  <thead>\n",
       "    <tr style=\"text-align: right;\">\n",
       "      <th></th>\n",
       "      <th>Log in Date</th>\n",
       "      <th>Market</th>\n",
       "      <th>User ID</th>\n",
       "      <th>Sales</th>\n",
       "      <th>year</th>\n",
       "      <th>month</th>\n",
       "      <th>day</th>\n",
       "    </tr>\n",
       "  </thead>\n",
       "  <tbody>\n",
       "    <tr>\n",
       "      <th>4477</th>\n",
       "      <td>2012-02-01</td>\n",
       "      <td>Africa</td>\n",
       "      <td>JE-56101</td>\n",
       "      <td>3448</td>\n",
       "      <td>2012</td>\n",
       "      <td>2</td>\n",
       "      <td>1</td>\n",
       "    </tr>\n",
       "    <tr>\n",
       "      <th>4478</th>\n",
       "      <td>2012-02-01</td>\n",
       "      <td>Africa</td>\n",
       "      <td>PC-87451</td>\n",
       "      <td>5347</td>\n",
       "      <td>2012</td>\n",
       "      <td>2</td>\n",
       "      <td>1</td>\n",
       "    </tr>\n",
       "    <tr>\n",
       "      <th>4491</th>\n",
       "      <td>2012-03-01</td>\n",
       "      <td>Africa</td>\n",
       "      <td>TP-114151</td>\n",
       "      <td>1403</td>\n",
       "      <td>2012</td>\n",
       "      <td>3</td>\n",
       "      <td>1</td>\n",
       "    </tr>\n",
       "    <tr>\n",
       "      <th>4504</th>\n",
       "      <td>2012-04-01</td>\n",
       "      <td>Africa</td>\n",
       "      <td>CS-25051</td>\n",
       "      <td>8330</td>\n",
       "      <td>2012</td>\n",
       "      <td>4</td>\n",
       "      <td>1</td>\n",
       "    </tr>\n",
       "    <tr>\n",
       "      <th>4505</th>\n",
       "      <td>2012-04-01</td>\n",
       "      <td>Africa</td>\n",
       "      <td>SS-101401</td>\n",
       "      <td>1870</td>\n",
       "      <td>2012</td>\n",
       "      <td>4</td>\n",
       "      <td>1</td>\n",
       "    </tr>\n",
       "    <tr>\n",
       "      <th>4514</th>\n",
       "      <td>2012-05-01</td>\n",
       "      <td>Africa</td>\n",
       "      <td>Co-26401</td>\n",
       "      <td>1155</td>\n",
       "      <td>2012</td>\n",
       "      <td>5</td>\n",
       "      <td>1</td>\n",
       "    </tr>\n",
       "    <tr>\n",
       "      <th>4515</th>\n",
       "      <td>2012-05-01</td>\n",
       "      <td>Africa</td>\n",
       "      <td>RB-95701</td>\n",
       "      <td>5343</td>\n",
       "      <td>2012</td>\n",
       "      <td>5</td>\n",
       "      <td>1</td>\n",
       "    </tr>\n",
       "    <tr>\n",
       "      <th>4528</th>\n",
       "      <td>2012-06-01</td>\n",
       "      <td>Africa</td>\n",
       "      <td>AA-3751</td>\n",
       "      <td>3866</td>\n",
       "      <td>2012</td>\n",
       "      <td>6</td>\n",
       "      <td>1</td>\n",
       "    </tr>\n",
       "    <tr>\n",
       "      <th>4529</th>\n",
       "      <td>2012-06-01</td>\n",
       "      <td>Africa</td>\n",
       "      <td>DM-29551</td>\n",
       "      <td>7918</td>\n",
       "      <td>2012</td>\n",
       "      <td>6</td>\n",
       "      <td>1</td>\n",
       "    </tr>\n",
       "    <tr>\n",
       "      <th>4530</th>\n",
       "      <td>2012-06-01</td>\n",
       "      <td>Africa</td>\n",
       "      <td>JE-61651</td>\n",
       "      <td>8856</td>\n",
       "      <td>2012</td>\n",
       "      <td>6</td>\n",
       "      <td>1</td>\n",
       "    </tr>\n",
       "    <tr>\n",
       "      <th>4531</th>\n",
       "      <td>2012-06-01</td>\n",
       "      <td>Africa</td>\n",
       "      <td>PF-92251</td>\n",
       "      <td>5209</td>\n",
       "      <td>2012</td>\n",
       "      <td>6</td>\n",
       "      <td>1</td>\n",
       "    </tr>\n",
       "    <tr>\n",
       "      <th>4563</th>\n",
       "      <td>2012-11-01</td>\n",
       "      <td>Africa</td>\n",
       "      <td>EM-41401</td>\n",
       "      <td>8931</td>\n",
       "      <td>2012</td>\n",
       "      <td>11</td>\n",
       "      <td>1</td>\n",
       "    </tr>\n",
       "    <tr>\n",
       "      <th>4564</th>\n",
       "      <td>2012-11-01</td>\n",
       "      <td>Africa</td>\n",
       "      <td>LC-69601</td>\n",
       "      <td>2447</td>\n",
       "      <td>2012</td>\n",
       "      <td>11</td>\n",
       "      <td>1</td>\n",
       "    </tr>\n",
       "    <tr>\n",
       "      <th>4585</th>\n",
       "      <td>2012-01-13</td>\n",
       "      <td>Africa</td>\n",
       "      <td>BS-17551</td>\n",
       "      <td>2242</td>\n",
       "      <td>2012</td>\n",
       "      <td>1</td>\n",
       "      <td>13</td>\n",
       "    </tr>\n",
       "    <tr>\n",
       "      <th>4586</th>\n",
       "      <td>2012-01-13</td>\n",
       "      <td>Africa</td>\n",
       "      <td>CR-26251</td>\n",
       "      <td>2229</td>\n",
       "      <td>2012</td>\n",
       "      <td>1</td>\n",
       "      <td>13</td>\n",
       "    </tr>\n",
       "    <tr>\n",
       "      <th>4599</th>\n",
       "      <td>2012-01-14</td>\n",
       "      <td>Africa</td>\n",
       "      <td>CM-23851</td>\n",
       "      <td>3222</td>\n",
       "      <td>2012</td>\n",
       "      <td>1</td>\n",
       "      <td>14</td>\n",
       "    </tr>\n",
       "    <tr>\n",
       "      <th>4614</th>\n",
       "      <td>2012-01-17</td>\n",
       "      <td>Africa</td>\n",
       "      <td>FO-43051</td>\n",
       "      <td>4324</td>\n",
       "      <td>2012</td>\n",
       "      <td>1</td>\n",
       "      <td>17</td>\n",
       "    </tr>\n",
       "    <tr>\n",
       "      <th>4615</th>\n",
       "      <td>2012-01-17</td>\n",
       "      <td>Africa</td>\n",
       "      <td>GT-47101</td>\n",
       "      <td>4725</td>\n",
       "      <td>2012</td>\n",
       "      <td>1</td>\n",
       "      <td>17</td>\n",
       "    </tr>\n",
       "    <tr>\n",
       "      <th>4616</th>\n",
       "      <td>2012-01-17</td>\n",
       "      <td>Africa</td>\n",
       "      <td>JH-61801</td>\n",
       "      <td>1036</td>\n",
       "      <td>2012</td>\n",
       "      <td>1</td>\n",
       "      <td>17</td>\n",
       "    </tr>\n",
       "    <tr>\n",
       "      <th>4617</th>\n",
       "      <td>2012-01-17</td>\n",
       "      <td>Africa</td>\n",
       "      <td>LS-72451</td>\n",
       "      <td>8416</td>\n",
       "      <td>2012</td>\n",
       "      <td>1</td>\n",
       "      <td>17</td>\n",
       "    </tr>\n",
       "  </tbody>\n",
       "</table>\n",
       "</div>"
      ],
      "text/plain": [
       "     Log in Date  Market    User ID  Sales  year  month  day\n",
       "4477  2012-02-01  Africa   JE-56101   3448  2012      2    1\n",
       "4478  2012-02-01  Africa   PC-87451   5347  2012      2    1\n",
       "4491  2012-03-01  Africa  TP-114151   1403  2012      3    1\n",
       "4504  2012-04-01  Africa   CS-25051   8330  2012      4    1\n",
       "4505  2012-04-01  Africa  SS-101401   1870  2012      4    1\n",
       "4514  2012-05-01  Africa   Co-26401   1155  2012      5    1\n",
       "4515  2012-05-01  Africa   RB-95701   5343  2012      5    1\n",
       "4528  2012-06-01  Africa    AA-3751   3866  2012      6    1\n",
       "4529  2012-06-01  Africa   DM-29551   7918  2012      6    1\n",
       "4530  2012-06-01  Africa   JE-61651   8856  2012      6    1\n",
       "4531  2012-06-01  Africa   PF-92251   5209  2012      6    1\n",
       "4563  2012-11-01  Africa   EM-41401   8931  2012     11    1\n",
       "4564  2012-11-01  Africa   LC-69601   2447  2012     11    1\n",
       "4585  2012-01-13  Africa   BS-17551   2242  2012      1   13\n",
       "4586  2012-01-13  Africa   CR-26251   2229  2012      1   13\n",
       "4599  2012-01-14  Africa   CM-23851   3222  2012      1   14\n",
       "4614  2012-01-17  Africa   FO-43051   4324  2012      1   17\n",
       "4615  2012-01-17  Africa   GT-47101   4725  2012      1   17\n",
       "4616  2012-01-17  Africa   JH-61801   1036  2012      1   17\n",
       "4617  2012-01-17  Africa   LS-72451   8416  2012      1   17"
      ]
     },
     "execution_count": 31,
     "metadata": {},
     "output_type": "execute_result"
    }
   ],
   "source": [
    "df_africa_2012 =df_africa.loc[df_africa[\"year\"]==2012]\n",
    "df_africa_2012.head(20)"
   ]
  },
  {
   "cell_type": "code",
   "execution_count": 32,
   "metadata": {},
   "outputs": [
    {
     "data": {
      "text/html": [
       "<div>\n",
       "<style scoped>\n",
       "    .dataframe tbody tr th:only-of-type {\n",
       "        vertical-align: middle;\n",
       "    }\n",
       "\n",
       "    .dataframe tbody tr th {\n",
       "        vertical-align: top;\n",
       "    }\n",
       "\n",
       "    .dataframe thead th {\n",
       "        text-align: right;\n",
       "    }\n",
       "</style>\n",
       "<table border=\"1\" class=\"dataframe\">\n",
       "  <thead>\n",
       "    <tr style=\"text-align: right;\">\n",
       "      <th></th>\n",
       "      <th>Log in Date</th>\n",
       "      <th>Market</th>\n",
       "      <th>User ID</th>\n",
       "      <th>Sales</th>\n",
       "      <th>year</th>\n",
       "      <th>month</th>\n",
       "      <th>day</th>\n",
       "    </tr>\n",
       "  </thead>\n",
       "  <tbody>\n",
       "    <tr>\n",
       "      <th>9903</th>\n",
       "      <td>2013-01-01</td>\n",
       "      <td>Africa</td>\n",
       "      <td>JS-60301</td>\n",
       "      <td>6287</td>\n",
       "      <td>2013</td>\n",
       "      <td>1</td>\n",
       "      <td>1</td>\n",
       "    </tr>\n",
       "    <tr>\n",
       "      <th>9904</th>\n",
       "      <td>2013-01-01</td>\n",
       "      <td>Africa</td>\n",
       "      <td>SP-106501</td>\n",
       "      <td>5471</td>\n",
       "      <td>2013</td>\n",
       "      <td>1</td>\n",
       "      <td>1</td>\n",
       "    </tr>\n",
       "    <tr>\n",
       "      <th>9916</th>\n",
       "      <td>2013-02-01</td>\n",
       "      <td>Africa</td>\n",
       "      <td>CV-22951</td>\n",
       "      <td>1446</td>\n",
       "      <td>2013</td>\n",
       "      <td>2</td>\n",
       "      <td>1</td>\n",
       "    </tr>\n",
       "    <tr>\n",
       "      <th>9917</th>\n",
       "      <td>2013-02-01</td>\n",
       "      <td>Africa</td>\n",
       "      <td>KC-65401</td>\n",
       "      <td>2722</td>\n",
       "      <td>2013</td>\n",
       "      <td>2</td>\n",
       "      <td>1</td>\n",
       "    </tr>\n",
       "    <tr>\n",
       "      <th>9944</th>\n",
       "      <td>2013-04-01</td>\n",
       "      <td>Africa</td>\n",
       "      <td>TS-113701</td>\n",
       "      <td>5923</td>\n",
       "      <td>2013</td>\n",
       "      <td>4</td>\n",
       "      <td>1</td>\n",
       "    </tr>\n",
       "    <tr>\n",
       "      <th>9961</th>\n",
       "      <td>2013-05-01</td>\n",
       "      <td>Africa</td>\n",
       "      <td>HR-47701</td>\n",
       "      <td>7897</td>\n",
       "      <td>2013</td>\n",
       "      <td>5</td>\n",
       "      <td>1</td>\n",
       "    </tr>\n",
       "    <tr>\n",
       "      <th>9983</th>\n",
       "      <td>2013-08-01</td>\n",
       "      <td>Africa</td>\n",
       "      <td>AS-2851</td>\n",
       "      <td>6572</td>\n",
       "      <td>2013</td>\n",
       "      <td>8</td>\n",
       "      <td>1</td>\n",
       "    </tr>\n",
       "    <tr>\n",
       "      <th>9984</th>\n",
       "      <td>2013-08-01</td>\n",
       "      <td>Africa</td>\n",
       "      <td>SS-104101</td>\n",
       "      <td>7811</td>\n",
       "      <td>2013</td>\n",
       "      <td>8</td>\n",
       "      <td>1</td>\n",
       "    </tr>\n",
       "    <tr>\n",
       "      <th>9998</th>\n",
       "      <td>2013-09-01</td>\n",
       "      <td>Africa</td>\n",
       "      <td>JD-60601</td>\n",
       "      <td>5298</td>\n",
       "      <td>2013</td>\n",
       "      <td>9</td>\n",
       "      <td>1</td>\n",
       "    </tr>\n",
       "    <tr>\n",
       "      <th>9999</th>\n",
       "      <td>2013-09-01</td>\n",
       "      <td>Africa</td>\n",
       "      <td>ML-77551</td>\n",
       "      <td>7245</td>\n",
       "      <td>2013</td>\n",
       "      <td>9</td>\n",
       "      <td>1</td>\n",
       "    </tr>\n",
       "    <tr>\n",
       "      <th>10011</th>\n",
       "      <td>2013-10-01</td>\n",
       "      <td>Africa</td>\n",
       "      <td>EH-39901</td>\n",
       "      <td>9816</td>\n",
       "      <td>2013</td>\n",
       "      <td>10</td>\n",
       "      <td>1</td>\n",
       "    </tr>\n",
       "    <tr>\n",
       "      <th>10012</th>\n",
       "      <td>2013-10-01</td>\n",
       "      <td>Africa</td>\n",
       "      <td>KC-66751</td>\n",
       "      <td>2690</td>\n",
       "      <td>2013</td>\n",
       "      <td>10</td>\n",
       "      <td>1</td>\n",
       "    </tr>\n",
       "    <tr>\n",
       "      <th>10029</th>\n",
       "      <td>2013-11-01</td>\n",
       "      <td>Africa</td>\n",
       "      <td>MR-75451</td>\n",
       "      <td>8770</td>\n",
       "      <td>2013</td>\n",
       "      <td>11</td>\n",
       "      <td>1</td>\n",
       "    </tr>\n",
       "    <tr>\n",
       "      <th>10041</th>\n",
       "      <td>2013-12-01</td>\n",
       "      <td>Africa</td>\n",
       "      <td>JB-54001</td>\n",
       "      <td>5032</td>\n",
       "      <td>2013</td>\n",
       "      <td>12</td>\n",
       "      <td>1</td>\n",
       "    </tr>\n",
       "    <tr>\n",
       "      <th>10049</th>\n",
       "      <td>2013-01-14</td>\n",
       "      <td>Africa</td>\n",
       "      <td>BS-16651</td>\n",
       "      <td>4997</td>\n",
       "      <td>2013</td>\n",
       "      <td>1</td>\n",
       "      <td>14</td>\n",
       "    </tr>\n",
       "    <tr>\n",
       "      <th>10050</th>\n",
       "      <td>2013-01-14</td>\n",
       "      <td>Africa</td>\n",
       "      <td>DL-29251</td>\n",
       "      <td>3764</td>\n",
       "      <td>2013</td>\n",
       "      <td>1</td>\n",
       "      <td>14</td>\n",
       "    </tr>\n",
       "    <tr>\n",
       "      <th>10073</th>\n",
       "      <td>2013-01-16</td>\n",
       "      <td>Africa</td>\n",
       "      <td>BN-14701</td>\n",
       "      <td>1660</td>\n",
       "      <td>2013</td>\n",
       "      <td>1</td>\n",
       "      <td>16</td>\n",
       "    </tr>\n",
       "    <tr>\n",
       "      <th>10074</th>\n",
       "      <td>2013-01-16</td>\n",
       "      <td>Africa</td>\n",
       "      <td>CV-28051</td>\n",
       "      <td>5724</td>\n",
       "      <td>2013</td>\n",
       "      <td>1</td>\n",
       "      <td>16</td>\n",
       "    </tr>\n",
       "    <tr>\n",
       "      <th>10075</th>\n",
       "      <td>2013-01-16</td>\n",
       "      <td>Africa</td>\n",
       "      <td>KB-62401</td>\n",
       "      <td>5602</td>\n",
       "      <td>2013</td>\n",
       "      <td>1</td>\n",
       "      <td>16</td>\n",
       "    </tr>\n",
       "    <tr>\n",
       "      <th>10097</th>\n",
       "      <td>2013-01-18</td>\n",
       "      <td>Africa</td>\n",
       "      <td>JP-61351</td>\n",
       "      <td>6644</td>\n",
       "      <td>2013</td>\n",
       "      <td>1</td>\n",
       "      <td>18</td>\n",
       "    </tr>\n",
       "  </tbody>\n",
       "</table>\n",
       "</div>"
      ],
      "text/plain": [
       "      Log in Date  Market    User ID  Sales  year  month  day\n",
       "9903   2013-01-01  Africa   JS-60301   6287  2013      1    1\n",
       "9904   2013-01-01  Africa  SP-106501   5471  2013      1    1\n",
       "9916   2013-02-01  Africa   CV-22951   1446  2013      2    1\n",
       "9917   2013-02-01  Africa   KC-65401   2722  2013      2    1\n",
       "9944   2013-04-01  Africa  TS-113701   5923  2013      4    1\n",
       "9961   2013-05-01  Africa   HR-47701   7897  2013      5    1\n",
       "9983   2013-08-01  Africa    AS-2851   6572  2013      8    1\n",
       "9984   2013-08-01  Africa  SS-104101   7811  2013      8    1\n",
       "9998   2013-09-01  Africa   JD-60601   5298  2013      9    1\n",
       "9999   2013-09-01  Africa   ML-77551   7245  2013      9    1\n",
       "10011  2013-10-01  Africa   EH-39901   9816  2013     10    1\n",
       "10012  2013-10-01  Africa   KC-66751   2690  2013     10    1\n",
       "10029  2013-11-01  Africa   MR-75451   8770  2013     11    1\n",
       "10041  2013-12-01  Africa   JB-54001   5032  2013     12    1\n",
       "10049  2013-01-14  Africa   BS-16651   4997  2013      1   14\n",
       "10050  2013-01-14  Africa   DL-29251   3764  2013      1   14\n",
       "10073  2013-01-16  Africa   BN-14701   1660  2013      1   16\n",
       "10074  2013-01-16  Africa   CV-28051   5724  2013      1   16\n",
       "10075  2013-01-16  Africa   KB-62401   5602  2013      1   16\n",
       "10097  2013-01-18  Africa   JP-61351   6644  2013      1   18"
      ]
     },
     "execution_count": 32,
     "metadata": {},
     "output_type": "execute_result"
    }
   ],
   "source": [
    "df_africa_2013 =df_africa.loc[df_africa[\"year\"]==2013]\n",
    "df_africa_2013.head(20)"
   ]
  },
  {
   "cell_type": "code",
   "execution_count": 33,
   "metadata": {},
   "outputs": [
    {
     "data": {
      "text/html": [
       "<div>\n",
       "<style scoped>\n",
       "    .dataframe tbody tr th:only-of-type {\n",
       "        vertical-align: middle;\n",
       "    }\n",
       "\n",
       "    .dataframe tbody tr th {\n",
       "        vertical-align: top;\n",
       "    }\n",
       "\n",
       "    .dataframe thead th {\n",
       "        text-align: right;\n",
       "    }\n",
       "</style>\n",
       "<table border=\"1\" class=\"dataframe\">\n",
       "  <thead>\n",
       "    <tr style=\"text-align: right;\">\n",
       "      <th></th>\n",
       "      <th>Log in Date</th>\n",
       "      <th>Market</th>\n",
       "      <th>User ID</th>\n",
       "      <th>Sales</th>\n",
       "      <th>year</th>\n",
       "      <th>month</th>\n",
       "      <th>day</th>\n",
       "    </tr>\n",
       "  </thead>\n",
       "  <tbody>\n",
       "    <tr>\n",
       "      <th>16721</th>\n",
       "      <td>2014-01-01</td>\n",
       "      <td>Africa</td>\n",
       "      <td>CR-27301</td>\n",
       "      <td>8938</td>\n",
       "      <td>2014</td>\n",
       "      <td>1</td>\n",
       "      <td>1</td>\n",
       "    </tr>\n",
       "    <tr>\n",
       "      <th>16722</th>\n",
       "      <td>2014-01-01</td>\n",
       "      <td>Africa</td>\n",
       "      <td>EN-37801</td>\n",
       "      <td>6794</td>\n",
       "      <td>2014</td>\n",
       "      <td>1</td>\n",
       "      <td>1</td>\n",
       "    </tr>\n",
       "    <tr>\n",
       "      <th>16723</th>\n",
       "      <td>2014-01-01</td>\n",
       "      <td>Africa</td>\n",
       "      <td>JE-54751</td>\n",
       "      <td>5214</td>\n",
       "      <td>2014</td>\n",
       "      <td>1</td>\n",
       "      <td>1</td>\n",
       "    </tr>\n",
       "    <tr>\n",
       "      <th>16738</th>\n",
       "      <td>2014-02-01</td>\n",
       "      <td>Africa</td>\n",
       "      <td>JM-52501</td>\n",
       "      <td>4852</td>\n",
       "      <td>2014</td>\n",
       "      <td>2</td>\n",
       "      <td>1</td>\n",
       "    </tr>\n",
       "    <tr>\n",
       "      <th>16750</th>\n",
       "      <td>2014-03-01</td>\n",
       "      <td>Africa</td>\n",
       "      <td>HK-48901</td>\n",
       "      <td>6891</td>\n",
       "      <td>2014</td>\n",
       "      <td>3</td>\n",
       "      <td>1</td>\n",
       "    </tr>\n",
       "    <tr>\n",
       "      <th>16751</th>\n",
       "      <td>2014-03-01</td>\n",
       "      <td>Africa</td>\n",
       "      <td>MC-78451</td>\n",
       "      <td>6212</td>\n",
       "      <td>2014</td>\n",
       "      <td>3</td>\n",
       "      <td>1</td>\n",
       "    </tr>\n",
       "    <tr>\n",
       "      <th>16752</th>\n",
       "      <td>2014-03-01</td>\n",
       "      <td>Africa</td>\n",
       "      <td>PB-91501</td>\n",
       "      <td>1493</td>\n",
       "      <td>2014</td>\n",
       "      <td>3</td>\n",
       "      <td>1</td>\n",
       "    </tr>\n",
       "    <tr>\n",
       "      <th>16771</th>\n",
       "      <td>2014-04-01</td>\n",
       "      <td>Africa</td>\n",
       "      <td>FM-42901</td>\n",
       "      <td>3517</td>\n",
       "      <td>2014</td>\n",
       "      <td>4</td>\n",
       "      <td>1</td>\n",
       "    </tr>\n",
       "    <tr>\n",
       "      <th>16772</th>\n",
       "      <td>2014-04-01</td>\n",
       "      <td>Africa</td>\n",
       "      <td>TT-114601</td>\n",
       "      <td>7087</td>\n",
       "      <td>2014</td>\n",
       "      <td>4</td>\n",
       "      <td>1</td>\n",
       "    </tr>\n",
       "    <tr>\n",
       "      <th>16783</th>\n",
       "      <td>2014-06-01</td>\n",
       "      <td>Africa</td>\n",
       "      <td>AR-5401</td>\n",
       "      <td>7813</td>\n",
       "      <td>2014</td>\n",
       "      <td>6</td>\n",
       "      <td>1</td>\n",
       "    </tr>\n",
       "  </tbody>\n",
       "</table>\n",
       "</div>"
      ],
      "text/plain": [
       "      Log in Date  Market    User ID  Sales  year  month  day\n",
       "16721  2014-01-01  Africa   CR-27301   8938  2014      1    1\n",
       "16722  2014-01-01  Africa   EN-37801   6794  2014      1    1\n",
       "16723  2014-01-01  Africa   JE-54751   5214  2014      1    1\n",
       "16738  2014-02-01  Africa   JM-52501   4852  2014      2    1\n",
       "16750  2014-03-01  Africa   HK-48901   6891  2014      3    1\n",
       "16751  2014-03-01  Africa   MC-78451   6212  2014      3    1\n",
       "16752  2014-03-01  Africa   PB-91501   1493  2014      3    1\n",
       "16771  2014-04-01  Africa   FM-42901   3517  2014      4    1\n",
       "16772  2014-04-01  Africa  TT-114601   7087  2014      4    1\n",
       "16783  2014-06-01  Africa    AR-5401   7813  2014      6    1"
      ]
     },
     "execution_count": 33,
     "metadata": {},
     "output_type": "execute_result"
    }
   ],
   "source": [
    "df_africa_2014 =df_africa.loc[df_africa[\"year\"]==2014]\n",
    "df_africa_2014.head(10)"
   ]
  },
  {
   "cell_type": "code",
   "execution_count": 34,
   "metadata": {},
   "outputs": [],
   "source": [
    "#sns.barplot(x='year',y='Sales',data= df_africa_sales)"
   ]
  },
  {
   "cell_type": "code",
   "execution_count": 35,
   "metadata": {},
   "outputs": [
    {
     "data": {
      "text/html": [
       "<div>\n",
       "<style scoped>\n",
       "    .dataframe tbody tr th:only-of-type {\n",
       "        vertical-align: middle;\n",
       "    }\n",
       "\n",
       "    .dataframe tbody tr th {\n",
       "        vertical-align: top;\n",
       "    }\n",
       "\n",
       "    .dataframe thead th {\n",
       "        text-align: right;\n",
       "    }\n",
       "</style>\n",
       "<table border=\"1\" class=\"dataframe\">\n",
       "  <thead>\n",
       "    <tr style=\"text-align: right;\">\n",
       "      <th></th>\n",
       "      <th>month</th>\n",
       "      <th>Sales</th>\n",
       "    </tr>\n",
       "  </thead>\n",
       "  <tbody>\n",
       "    <tr>\n",
       "      <th>0</th>\n",
       "      <td>1</td>\n",
       "      <td>230376</td>\n",
       "    </tr>\n",
       "    <tr>\n",
       "      <th>1</th>\n",
       "      <td>2</td>\n",
       "      <td>141700</td>\n",
       "    </tr>\n",
       "    <tr>\n",
       "      <th>2</th>\n",
       "      <td>3</td>\n",
       "      <td>182081</td>\n",
       "    </tr>\n",
       "    <tr>\n",
       "      <th>3</th>\n",
       "      <td>4</td>\n",
       "      <td>216242</td>\n",
       "    </tr>\n",
       "    <tr>\n",
       "      <th>4</th>\n",
       "      <td>5</td>\n",
       "      <td>122275</td>\n",
       "    </tr>\n",
       "    <tr>\n",
       "      <th>5</th>\n",
       "      <td>6</td>\n",
       "      <td>185820</td>\n",
       "    </tr>\n",
       "    <tr>\n",
       "      <th>6</th>\n",
       "      <td>7</td>\n",
       "      <td>104482</td>\n",
       "    </tr>\n",
       "    <tr>\n",
       "      <th>7</th>\n",
       "      <td>8</td>\n",
       "      <td>216495</td>\n",
       "    </tr>\n",
       "    <tr>\n",
       "      <th>8</th>\n",
       "      <td>9</td>\n",
       "      <td>135868</td>\n",
       "    </tr>\n",
       "    <tr>\n",
       "      <th>9</th>\n",
       "      <td>10</td>\n",
       "      <td>158050</td>\n",
       "    </tr>\n",
       "    <tr>\n",
       "      <th>10</th>\n",
       "      <td>11</td>\n",
       "      <td>222806</td>\n",
       "    </tr>\n",
       "    <tr>\n",
       "      <th>11</th>\n",
       "      <td>12</td>\n",
       "      <td>284498</td>\n",
       "    </tr>\n",
       "  </tbody>\n",
       "</table>\n",
       "</div>"
      ],
      "text/plain": [
       "    month   Sales\n",
       "0       1  230376\n",
       "1       2  141700\n",
       "2       3  182081\n",
       "3       4  216242\n",
       "4       5  122275\n",
       "5       6  185820\n",
       "6       7  104482\n",
       "7       8  216495\n",
       "8       9  135868\n",
       "9      10  158050\n",
       "10     11  222806\n",
       "11     12  284498"
      ]
     },
     "execution_count": 35,
     "metadata": {},
     "output_type": "execute_result"
    }
   ],
   "source": [
    "sns.set(rc={'figure.figsize':(15, 5)})\n",
    "df_africa_2011_sales= df_africa_2011.groupby(\"month\").sum()[\"Sales\"].reset_index()\n",
    "#df_africa_2011_sales['month'] = df_africa_2011_sales.index \n",
    "df_africa_2011_sales.head(15)\n",
    "#sns.barplot(x=\"month\",y=\"Sales\",data=df_africa_2011_sales)"
   ]
  },
  {
   "cell_type": "code",
   "execution_count": 81,
   "metadata": {},
   "outputs": [
    {
     "data": {
      "text/plain": [
       "<matplotlib.axes._subplots.AxesSubplot at 0x24f7726ee48>"
      ]
     },
     "execution_count": 81,
     "metadata": {},
     "output_type": "execute_result"
    },
    {
     "data": {
      "image/png": "[encoded data removed]",
      "text/plain": [
       "<Figure size 1080x360 with 1 Axes>"
      ]
     },
     "metadata": {},
     "output_type": "display_data"
    }
   ],
   "source": [
    "sns.set(rc={'figure.figsize':(15, 5)})\n",
    "df_africa_2012_sales= df_africa_2012.groupby(\"month\").sum()\n",
    "df_africa_2012_sales['month'] = df_africa_2012_sales.index \n",
    "df_africa_2012_sales.head(10)\n",
    "sns.barplot(x=\"month\",y=\"Sales\",data=df_africa_2012_sales)"
   ]
  },
  {
   "cell_type": "code",
   "execution_count": 82,
   "metadata": {},
   "outputs": [
    {
     "data": {
      "text/plain": [
       "<matplotlib.axes._subplots.AxesSubplot at 0x24f77488b48>"
      ]
     },
     "execution_count": 82,
     "metadata": {},
     "output_type": "execute_result"
    },
    {
     "data": {
      "image/png": "[encoded data removed]",
      "text/plain": [
       "<Figure size 1080x360 with 1 Axes>"
      ]
     },
     "metadata": {},
     "output_type": "display_data"
    }
   ],
   "source": [
    "sns.set(rc={'figure.figsize':(15, 5)})\n",
    "df_africa_2013_sales= df_africa_2013.groupby(\"month\").sum().reset_index()\n",
    "#df_africa_2013_sales['month'] = df_africa_2013_sales.index \n",
    "df_africa_2013_sales.head(10)\n",
    "sns.barplot(x=\"month\",y=\"Sales\",data=df_africa_2013_sales)"
   ]
  },
  {
   "cell_type": "code",
   "execution_count": 83,
   "metadata": {},
   "outputs": [
    {
     "data": {
      "text/plain": [
       "<matplotlib.axes._subplots.AxesSubplot at 0x24f77580d08>"
      ]
     },
     "execution_count": 83,
     "metadata": {},
     "output_type": "execute_result"
    },
    {
     "data": {
      "image/png": "[encoded data removed]",
      "text/plain": [
       "<Figure size 1080x360 with 1 Axes>"
      ]
     },
     "metadata": {},
     "output_type": "display_data"
    }
   ],
   "source": [
    "sns.set(rc={'figure.figsize':(15, 5)})\n",
    "df_africa_2014_sales= df_africa_2014.groupby(\"month\").sum().reset_index()\n",
    "#df_africa_2014_sales['month'] = df_africa_2014_sales.index \n",
    "df_africa_2014_sales.head(10)\n",
    "sns.barplot(x=\"month\",y=\"Sales\",data=df_africa_2014_sales)"
   ]
  },
  {
   "cell_type": "code",
   "execution_count": 84,
   "metadata": {},
   "outputs": [
    {
     "data": {
      "text/html": [
       "<div>\n",
       "<style scoped>\n",
       "    .dataframe tbody tr th:only-of-type {\n",
       "        vertical-align: middle;\n",
       "    }\n",
       "\n",
       "    .dataframe tbody tr th {\n",
       "        vertical-align: top;\n",
       "    }\n",
       "\n",
       "    .dataframe thead th {\n",
       "        text-align: right;\n",
       "    }\n",
       "</style>\n",
       "<table border=\"1\" class=\"dataframe\">\n",
       "  <thead>\n",
       "    <tr style=\"text-align: right;\">\n",
       "      <th></th>\n",
       "      <th>Log in Date</th>\n",
       "      <th>Market</th>\n",
       "      <th>User ID</th>\n",
       "      <th>Sales</th>\n",
       "      <th>year</th>\n",
       "      <th>month</th>\n",
       "      <th>day</th>\n",
       "    </tr>\n",
       "  </thead>\n",
       "  <tbody>\n",
       "    <tr>\n",
       "      <th>0</th>\n",
       "      <td>2011-01-01</td>\n",
       "      <td>Africa</td>\n",
       "      <td>TB-112801</td>\n",
       "      <td>5047</td>\n",
       "      <td>2011</td>\n",
       "      <td>1</td>\n",
       "      <td>1</td>\n",
       "    </tr>\n",
       "    <tr>\n",
       "      <th>5</th>\n",
       "      <td>2011-03-01</td>\n",
       "      <td>Africa</td>\n",
       "      <td>JG-51151</td>\n",
       "      <td>7413</td>\n",
       "      <td>2011</td>\n",
       "      <td>3</td>\n",
       "      <td>1</td>\n",
       "    </tr>\n",
       "    <tr>\n",
       "      <th>16</th>\n",
       "      <td>2011-04-01</td>\n",
       "      <td>Africa</td>\n",
       "      <td>JC-53401</td>\n",
       "      <td>6235</td>\n",
       "      <td>2011</td>\n",
       "      <td>4</td>\n",
       "      <td>1</td>\n",
       "    </tr>\n",
       "    <tr>\n",
       "      <th>29</th>\n",
       "      <td>2011-06-01</td>\n",
       "      <td>Africa</td>\n",
       "      <td>GK-46201</td>\n",
       "      <td>4311</td>\n",
       "      <td>2011</td>\n",
       "      <td>6</td>\n",
       "      <td>1</td>\n",
       "    </tr>\n",
       "    <tr>\n",
       "      <th>35</th>\n",
       "      <td>2011-07-01</td>\n",
       "      <td>Africa</td>\n",
       "      <td>AC-4201</td>\n",
       "      <td>4291</td>\n",
       "      <td>2011</td>\n",
       "      <td>7</td>\n",
       "      <td>1</td>\n",
       "    </tr>\n",
       "    <tr>\n",
       "      <th>36</th>\n",
       "      <td>2011-07-01</td>\n",
       "      <td>Africa</td>\n",
       "      <td>SV-107851</td>\n",
       "      <td>6470</td>\n",
       "      <td>2011</td>\n",
       "      <td>7</td>\n",
       "      <td>1</td>\n",
       "    </tr>\n",
       "    <tr>\n",
       "      <th>46</th>\n",
       "      <td>2011-08-01</td>\n",
       "      <td>Africa</td>\n",
       "      <td>HZ-49501</td>\n",
       "      <td>4174</td>\n",
       "      <td>2011</td>\n",
       "      <td>8</td>\n",
       "      <td>1</td>\n",
       "    </tr>\n",
       "    <tr>\n",
       "      <th>47</th>\n",
       "      <td>2011-08-01</td>\n",
       "      <td>Africa</td>\n",
       "      <td>JE-57151</td>\n",
       "      <td>5608</td>\n",
       "      <td>2011</td>\n",
       "      <td>8</td>\n",
       "      <td>1</td>\n",
       "    </tr>\n",
       "    <tr>\n",
       "      <th>55</th>\n",
       "      <td>2011-10-01</td>\n",
       "      <td>Africa</td>\n",
       "      <td>RS-94201</td>\n",
       "      <td>2325</td>\n",
       "      <td>2011</td>\n",
       "      <td>10</td>\n",
       "      <td>1</td>\n",
       "    </tr>\n",
       "    <tr>\n",
       "      <th>56</th>\n",
       "      <td>2011-10-01</td>\n",
       "      <td>Africa</td>\n",
       "      <td>SJ-101251</td>\n",
       "      <td>5904</td>\n",
       "      <td>2011</td>\n",
       "      <td>10</td>\n",
       "      <td>1</td>\n",
       "    </tr>\n",
       "  </tbody>\n",
       "</table>\n",
       "</div>"
      ],
      "text/plain": [
       "   Log in Date  Market    User ID  Sales  year  month  day\n",
       "0   2011-01-01  Africa  TB-112801   5047  2011      1    1\n",
       "5   2011-03-01  Africa   JG-51151   7413  2011      3    1\n",
       "16  2011-04-01  Africa   JC-53401   6235  2011      4    1\n",
       "29  2011-06-01  Africa   GK-46201   4311  2011      6    1\n",
       "35  2011-07-01  Africa    AC-4201   4291  2011      7    1\n",
       "36  2011-07-01  Africa  SV-107851   6470  2011      7    1\n",
       "46  2011-08-01  Africa   HZ-49501   4174  2011      8    1\n",
       "47  2011-08-01  Africa   JE-57151   5608  2011      8    1\n",
       "55  2011-10-01  Africa   RS-94201   2325  2011     10    1\n",
       "56  2011-10-01  Africa  SJ-101251   5904  2011     10    1"
      ]
     },
     "execution_count": 84,
     "metadata": {},
     "output_type": "execute_result"
    }
   ],
   "source": [
    "df_africa_2011.head(10)"
   ]
  },
  {
   "cell_type": "code",
   "execution_count": 85,
   "metadata": {},
   "outputs": [
    {
     "name": "stdout",
     "output_type": "stream",
     "text": [
      "No Python documentation found for 'reset_index()'.\n",
      "Use help() to get the interactive help utility.\n",
      "Use help(str) for help on the str class.\n",
      "\n"
     ]
    }
   ],
   "source": [
    "#sns.set(rc={'figure.figsize':(20, 5)})\n",
    "#sns.lineplot(x= \"Log in Date\",y=\"Sales\",data=df_africa_2011,color=\"Red\")\n",
    "help(\"reset_index()\")"
   ]
  },
  {
   "cell_type": "code",
   "execution_count": 86,
   "metadata": {},
   "outputs": [],
   "source": [
    "df_ret=df.groupby(\"User ID\").count()[\"Market\"].reset_index()"
   ]
  },
  {
   "cell_type": "code",
   "execution_count": 98,
   "metadata": {},
   "outputs": [],
   "source": [
    "df_ret[\"Frequency\"]=df_ret[\"Market\"]"
   ]
  },
  {
   "cell_type": "code",
   "execution_count": 99,
   "metadata": {},
   "outputs": [
    {
     "data": {
      "text/html": [
       "<div>\n",
       "<style scoped>\n",
       "    .dataframe tbody tr th:only-of-type {\n",
       "        vertical-align: middle;\n",
       "    }\n",
       "\n",
       "    .dataframe tbody tr th {\n",
       "        vertical-align: top;\n",
       "    }\n",
       "\n",
       "    .dataframe thead th {\n",
       "        text-align: right;\n",
       "    }\n",
       "</style>\n",
       "<table border=\"1\" class=\"dataframe\">\n",
       "  <thead>\n",
       "    <tr style=\"text-align: right;\">\n",
       "      <th></th>\n",
       "      <th>User ID</th>\n",
       "      <th>Market</th>\n",
       "      <th>Frequency</th>\n",
       "    </tr>\n",
       "  </thead>\n",
       "  <tbody>\n",
       "    <tr>\n",
       "      <th>0</th>\n",
       "      <td>AA-103151</td>\n",
       "      <td>5</td>\n",
       "      <td>5</td>\n",
       "    </tr>\n",
       "    <tr>\n",
       "      <th>1</th>\n",
       "      <td>AA-103152</td>\n",
       "      <td>7</td>\n",
       "      <td>7</td>\n",
       "    </tr>\n",
       "    <tr>\n",
       "      <th>2</th>\n",
       "      <td>AA-103153</td>\n",
       "      <td>2</td>\n",
       "      <td>2</td>\n",
       "    </tr>\n",
       "    <tr>\n",
       "      <th>3</th>\n",
       "      <td>AA-103154</td>\n",
       "      <td>5</td>\n",
       "      <td>5</td>\n",
       "    </tr>\n",
       "    <tr>\n",
       "      <th>4</th>\n",
       "      <td>AA-103751</td>\n",
       "      <td>4</td>\n",
       "      <td>4</td>\n",
       "    </tr>\n",
       "    <tr>\n",
       "      <th>5</th>\n",
       "      <td>AA-103752</td>\n",
       "      <td>3</td>\n",
       "      <td>3</td>\n",
       "    </tr>\n",
       "    <tr>\n",
       "      <th>6</th>\n",
       "      <td>AA-103753</td>\n",
       "      <td>7</td>\n",
       "      <td>7</td>\n",
       "    </tr>\n",
       "    <tr>\n",
       "      <th>7</th>\n",
       "      <td>AA-103754</td>\n",
       "      <td>9</td>\n",
       "      <td>9</td>\n",
       "    </tr>\n",
       "    <tr>\n",
       "      <th>8</th>\n",
       "      <td>AA-104801</td>\n",
       "      <td>5</td>\n",
       "      <td>5</td>\n",
       "    </tr>\n",
       "    <tr>\n",
       "      <th>9</th>\n",
       "      <td>AA-104802</td>\n",
       "      <td>7</td>\n",
       "      <td>7</td>\n",
       "    </tr>\n",
       "  </tbody>\n",
       "</table>\n",
       "</div>"
      ],
      "text/plain": [
       "     User ID  Market  Frequency\n",
       "0  AA-103151       5          5\n",
       "1  AA-103152       7          7\n",
       "2  AA-103153       2          2\n",
       "3  AA-103154       5          5\n",
       "4  AA-103751       4          4\n",
       "5  AA-103752       3          3\n",
       "6  AA-103753       7          7\n",
       "7  AA-103754       9          9\n",
       "8  AA-104801       5          5\n",
       "9  AA-104802       7          7"
      ]
     },
     "execution_count": 99,
     "metadata": {},
     "output_type": "execute_result"
    }
   ],
   "source": [
    "df_ret.head(10)"
   ]
  },
  {
   "cell_type": "code",
   "execution_count": 43,
   "metadata": {},
   "outputs": [
    {
     "data": {
      "text/plain": [
       "array([ 5,  7,  2,  4,  3,  9, 12,  6,  1,  8, 10, 11, 14, 13, 15, 17, 18,\n",
       "       16], dtype=int64)"
      ]
     },
     "execution_count": 43,
     "metadata": {},
     "output_type": "execute_result"
    }
   ],
   "source": [
    "df_ret[\"Market\"].unique()"
   ]
  },
  {
   "cell_type": "code",
   "execution_count": 100,
   "metadata": {},
   "outputs": [
    {
     "data": {
      "text/plain": [
       "<matplotlib.axes._subplots.AxesSubplot at 0x24f77388f48>"
      ]
     },
     "execution_count": 100,
     "metadata": {},
     "output_type": "execute_result"
    },
    {
     "data": {
      "image/png": "[encoded data removed]",
      "text/plain": [
       "<Figure size 1080x360 with 1 Axes>"
      ]
     },
     "metadata": {},
     "output_type": "display_data"
    }
   ],
   "source": [
    "\n",
    "sns.countplot(x=\"Frequency\",data=df_ret)"
   ]
  },
  {
   "cell_type": "code",
   "execution_count": 89,
   "metadata": {},
   "outputs": [
    {
     "data": {
      "text/html": [
       "<div>\n",
       "<style scoped>\n",
       "    .dataframe tbody tr th:only-of-type {\n",
       "        vertical-align: middle;\n",
       "    }\n",
       "\n",
       "    .dataframe tbody tr th {\n",
       "        vertical-align: top;\n",
       "    }\n",
       "\n",
       "    .dataframe thead th {\n",
       "        text-align: right;\n",
       "    }\n",
       "</style>\n",
       "<table border=\"1\" class=\"dataframe\">\n",
       "  <thead>\n",
       "    <tr style=\"text-align: right;\">\n",
       "      <th></th>\n",
       "      <th>Log in Date</th>\n",
       "      <th>Market</th>\n",
       "      <th>User ID</th>\n",
       "      <th>Sales</th>\n",
       "      <th>year</th>\n",
       "      <th>month</th>\n",
       "      <th>day</th>\n",
       "    </tr>\n",
       "  </thead>\n",
       "  <tbody>\n",
       "    <tr>\n",
       "      <th>4</th>\n",
       "      <td>2011-02-01</td>\n",
       "      <td>America</td>\n",
       "      <td>MM-72602</td>\n",
       "      <td>4060</td>\n",
       "      <td>2011</td>\n",
       "      <td>2</td>\n",
       "      <td>1</td>\n",
       "    </tr>\n",
       "    <tr>\n",
       "      <th>24</th>\n",
       "      <td>2011-04-01</td>\n",
       "      <td>America</td>\n",
       "      <td>DP-130004</td>\n",
       "      <td>2460</td>\n",
       "      <td>2011</td>\n",
       "      <td>4</td>\n",
       "      <td>1</td>\n",
       "    </tr>\n",
       "    <tr>\n",
       "      <th>28</th>\n",
       "      <td>2011-05-01</td>\n",
       "      <td>America</td>\n",
       "      <td>PO-191954</td>\n",
       "      <td>7921</td>\n",
       "      <td>2011</td>\n",
       "      <td>5</td>\n",
       "      <td>1</td>\n",
       "    </tr>\n",
       "    <tr>\n",
       "      <th>34</th>\n",
       "      <td>2011-06-01</td>\n",
       "      <td>America</td>\n",
       "      <td>MB-180854</td>\n",
       "      <td>3901</td>\n",
       "      <td>2011</td>\n",
       "      <td>6</td>\n",
       "      <td>1</td>\n",
       "    </tr>\n",
       "    <tr>\n",
       "      <th>43</th>\n",
       "      <td>2011-07-01</td>\n",
       "      <td>America</td>\n",
       "      <td>JO-151454</td>\n",
       "      <td>8439</td>\n",
       "      <td>2011</td>\n",
       "      <td>7</td>\n",
       "      <td>1</td>\n",
       "    </tr>\n",
       "  </tbody>\n",
       "</table>\n",
       "</div>"
      ],
      "text/plain": [
       "   Log in Date   Market    User ID  Sales  year  month  day\n",
       "4   2011-02-01  America   MM-72602   4060  2011      2    1\n",
       "24  2011-04-01  America  DP-130004   2460  2011      4    1\n",
       "28  2011-05-01  America  PO-191954   7921  2011      5    1\n",
       "34  2011-06-01  America  MB-180854   3901  2011      6    1\n",
       "43  2011-07-01  America  JO-151454   8439  2011      7    1"
      ]
     },
     "execution_count": 89,
     "metadata": {},
     "output_type": "execute_result"
    }
   ],
   "source": [
    "df_america= df.loc[df.Market==\"America\",:]\n",
    "df_america.head()"
   ]
  },
  {
   "cell_type": "code",
   "execution_count": 90,
   "metadata": {},
   "outputs": [
    {
     "data": {
      "text/plain": [
       "(5197, 7)"
      ]
     },
     "execution_count": 90,
     "metadata": {},
     "output_type": "execute_result"
    }
   ],
   "source": [
    "df_america.shape"
   ]
  },
  {
   "cell_type": "code",
   "execution_count": 91,
   "metadata": {},
   "outputs": [
    {
     "data": {
      "text/html": [
       "<div>\n",
       "<style scoped>\n",
       "    .dataframe tbody tr th:only-of-type {\n",
       "        vertical-align: middle;\n",
       "    }\n",
       "\n",
       "    .dataframe tbody tr th {\n",
       "        vertical-align: top;\n",
       "    }\n",
       "\n",
       "    .dataframe thead th {\n",
       "        text-align: right;\n",
       "    }\n",
       "</style>\n",
       "<table border=\"1\" class=\"dataframe\">\n",
       "  <thead>\n",
       "    <tr style=\"text-align: right;\">\n",
       "      <th></th>\n",
       "      <th>Log in Date</th>\n",
       "      <th>Market</th>\n",
       "      <th>User ID</th>\n",
       "      <th>Sales</th>\n",
       "      <th>year</th>\n",
       "      <th>month</th>\n",
       "      <th>day</th>\n",
       "    </tr>\n",
       "  </thead>\n",
       "  <tbody>\n",
       "    <tr>\n",
       "      <th>1</th>\n",
       "      <td>2011-01-01</td>\n",
       "      <td>APAC</td>\n",
       "      <td>JH-159851</td>\n",
       "      <td>6628</td>\n",
       "      <td>2011</td>\n",
       "      <td>1</td>\n",
       "      <td>1</td>\n",
       "    </tr>\n",
       "    <tr>\n",
       "      <th>6</th>\n",
       "      <td>2011-03-01</td>\n",
       "      <td>APAC</td>\n",
       "      <td>CM-122351</td>\n",
       "      <td>1068</td>\n",
       "      <td>2011</td>\n",
       "      <td>3</td>\n",
       "      <td>1</td>\n",
       "    </tr>\n",
       "    <tr>\n",
       "      <th>7</th>\n",
       "      <td>2011-03-01</td>\n",
       "      <td>APAC</td>\n",
       "      <td>DP-133901</td>\n",
       "      <td>2124</td>\n",
       "      <td>2011</td>\n",
       "      <td>3</td>\n",
       "      <td>1</td>\n",
       "    </tr>\n",
       "    <tr>\n",
       "      <th>8</th>\n",
       "      <td>2011-03-01</td>\n",
       "      <td>APAC</td>\n",
       "      <td>KL-166451</td>\n",
       "      <td>4533</td>\n",
       "      <td>2011</td>\n",
       "      <td>3</td>\n",
       "      <td>1</td>\n",
       "    </tr>\n",
       "    <tr>\n",
       "      <th>9</th>\n",
       "      <td>2011-03-01</td>\n",
       "      <td>APAC</td>\n",
       "      <td>KN-164501</td>\n",
       "      <td>2107</td>\n",
       "      <td>2011</td>\n",
       "      <td>3</td>\n",
       "      <td>1</td>\n",
       "    </tr>\n",
       "  </tbody>\n",
       "</table>\n",
       "</div>"
      ],
      "text/plain": [
       "  Log in Date Market    User ID  Sales  year  month  day\n",
       "1  2011-01-01   APAC  JH-159851   6628  2011      1    1\n",
       "6  2011-03-01   APAC  CM-122351   1068  2011      3    1\n",
       "7  2011-03-01   APAC  DP-133901   2124  2011      3    1\n",
       "8  2011-03-01   APAC  KL-166451   4533  2011      3    1\n",
       "9  2011-03-01   APAC  KN-164501   2107  2011      3    1"
      ]
     },
     "execution_count": 91,
     "metadata": {},
     "output_type": "execute_result"
    }
   ],
   "source": [
    "df_APAC= df.loc[df.Market==\"APAC\",:]\n",
    "df_APAC.head()"
   ]
  },
  {
   "cell_type": "code",
   "execution_count": 92,
   "metadata": {},
   "outputs": [
    {
     "data": {
      "text/plain": [
       "(5417, 7)"
      ]
     },
     "execution_count": 92,
     "metadata": {},
     "output_type": "execute_result"
    }
   ],
   "source": [
    "df_APAC.shape"
   ]
  },
  {
   "cell_type": "code",
   "execution_count": 93,
   "metadata": {},
   "outputs": [
    {
     "data": {
      "text/html": [
       "<div>\n",
       "<style scoped>\n",
       "    .dataframe tbody tr th:only-of-type {\n",
       "        vertical-align: middle;\n",
       "    }\n",
       "\n",
       "    .dataframe tbody tr th {\n",
       "        vertical-align: top;\n",
       "    }\n",
       "\n",
       "    .dataframe thead th {\n",
       "        text-align: right;\n",
       "    }\n",
       "</style>\n",
       "<table border=\"1\" class=\"dataframe\">\n",
       "  <thead>\n",
       "    <tr style=\"text-align: right;\">\n",
       "      <th></th>\n",
       "      <th>Log in Date</th>\n",
       "      <th>Market</th>\n",
       "      <th>User ID</th>\n",
       "      <th>Sales</th>\n",
       "      <th>year</th>\n",
       "      <th>month</th>\n",
       "      <th>day</th>\n",
       "    </tr>\n",
       "  </thead>\n",
       "  <tbody>\n",
       "    <tr>\n",
       "      <th>2</th>\n",
       "      <td>2011-01-01</td>\n",
       "      <td>EMEA</td>\n",
       "      <td>AT-7352</td>\n",
       "      <td>1254</td>\n",
       "      <td>2011</td>\n",
       "      <td>1</td>\n",
       "      <td>1</td>\n",
       "    </tr>\n",
       "    <tr>\n",
       "      <th>11</th>\n",
       "      <td>2011-03-01</td>\n",
       "      <td>EMEA</td>\n",
       "      <td>JO-52801</td>\n",
       "      <td>1476</td>\n",
       "      <td>2011</td>\n",
       "      <td>3</td>\n",
       "      <td>1</td>\n",
       "    </tr>\n",
       "    <tr>\n",
       "      <th>12</th>\n",
       "      <td>2011-03-01</td>\n",
       "      <td>EMEA</td>\n",
       "      <td>LW-69902</td>\n",
       "      <td>1454</td>\n",
       "      <td>2011</td>\n",
       "      <td>3</td>\n",
       "      <td>1</td>\n",
       "    </tr>\n",
       "    <tr>\n",
       "      <th>13</th>\n",
       "      <td>2011-03-01</td>\n",
       "      <td>EMEA</td>\n",
       "      <td>NG-83553</td>\n",
       "      <td>8025</td>\n",
       "      <td>2011</td>\n",
       "      <td>3</td>\n",
       "      <td>1</td>\n",
       "    </tr>\n",
       "    <tr>\n",
       "      <th>39</th>\n",
       "      <td>2011-07-01</td>\n",
       "      <td>EMEA</td>\n",
       "      <td>HM-48602</td>\n",
       "      <td>1594</td>\n",
       "      <td>2011</td>\n",
       "      <td>7</td>\n",
       "      <td>1</td>\n",
       "    </tr>\n",
       "    <tr>\n",
       "      <th>61</th>\n",
       "      <td>2011-10-01</td>\n",
       "      <td>EMEA</td>\n",
       "      <td>ER-38552</td>\n",
       "      <td>6497</td>\n",
       "      <td>2011</td>\n",
       "      <td>10</td>\n",
       "      <td>1</td>\n",
       "    </tr>\n",
       "    <tr>\n",
       "      <th>70</th>\n",
       "      <td>2011-11-01</td>\n",
       "      <td>EMEA</td>\n",
       "      <td>CS-24602</td>\n",
       "      <td>9906</td>\n",
       "      <td>2011</td>\n",
       "      <td>11</td>\n",
       "      <td>1</td>\n",
       "    </tr>\n",
       "    <tr>\n",
       "      <th>91</th>\n",
       "      <td>2011-01-14</td>\n",
       "      <td>EMEA</td>\n",
       "      <td>BD-17252</td>\n",
       "      <td>5696</td>\n",
       "      <td>2011</td>\n",
       "      <td>1</td>\n",
       "      <td>14</td>\n",
       "    </tr>\n",
       "    <tr>\n",
       "      <th>113</th>\n",
       "      <td>2011-01-18</td>\n",
       "      <td>EMEA</td>\n",
       "      <td>BP-12902</td>\n",
       "      <td>5327</td>\n",
       "      <td>2011</td>\n",
       "      <td>1</td>\n",
       "      <td>18</td>\n",
       "    </tr>\n",
       "    <tr>\n",
       "      <th>127</th>\n",
       "      <td>2011-01-20</td>\n",
       "      <td>EMEA</td>\n",
       "      <td>IM-50702</td>\n",
       "      <td>6243</td>\n",
       "      <td>2011</td>\n",
       "      <td>1</td>\n",
       "      <td>20</td>\n",
       "    </tr>\n",
       "  </tbody>\n",
       "</table>\n",
       "</div>"
      ],
      "text/plain": [
       "    Log in Date Market   User ID  Sales  year  month  day\n",
       "2    2011-01-01   EMEA   AT-7352   1254  2011      1    1\n",
       "11   2011-03-01   EMEA  JO-52801   1476  2011      3    1\n",
       "12   2011-03-01   EMEA  LW-69902   1454  2011      3    1\n",
       "13   2011-03-01   EMEA  NG-83553   8025  2011      3    1\n",
       "39   2011-07-01   EMEA  HM-48602   1594  2011      7    1\n",
       "61   2011-10-01   EMEA  ER-38552   6497  2011     10    1\n",
       "70   2011-11-01   EMEA  CS-24602   9906  2011     11    1\n",
       "91   2011-01-14   EMEA  BD-17252   5696  2011      1   14\n",
       "113  2011-01-18   EMEA  BP-12902   5327  2011      1   18\n",
       "127  2011-01-20   EMEA  IM-50702   6243  2011      1   20"
      ]
     },
     "execution_count": 93,
     "metadata": {},
     "output_type": "execute_result"
    }
   ],
   "source": [
    "df_EMEA = df.loc[df.Market==\"EMEA\",:]\n",
    "df_EMEA.head(10)"
   ]
  },
  {
   "cell_type": "code",
   "execution_count": 94,
   "metadata": {},
   "outputs": [
    {
     "data": {
      "text/plain": [
       "(2537, 7)"
      ]
     },
     "execution_count": 94,
     "metadata": {},
     "output_type": "execute_result"
    }
   ],
   "source": [
    "df_EMEA.shape"
   ]
  },
  {
   "cell_type": "code",
   "execution_count": 95,
   "metadata": {},
   "outputs": [
    {
     "data": {
      "text/html": [
       "<div>\n",
       "<style scoped>\n",
       "    .dataframe tbody tr th:only-of-type {\n",
       "        vertical-align: middle;\n",
       "    }\n",
       "\n",
       "    .dataframe tbody tr th {\n",
       "        vertical-align: top;\n",
       "    }\n",
       "\n",
       "    .dataframe thead th {\n",
       "        text-align: right;\n",
       "    }\n",
       "</style>\n",
       "<table border=\"1\" class=\"dataframe\">\n",
       "  <thead>\n",
       "    <tr style=\"text-align: right;\">\n",
       "      <th></th>\n",
       "      <th>Log in Date</th>\n",
       "      <th>Market</th>\n",
       "      <th>User ID</th>\n",
       "      <th>Sales</th>\n",
       "      <th>year</th>\n",
       "      <th>month</th>\n",
       "      <th>day</th>\n",
       "    </tr>\n",
       "  </thead>\n",
       "  <tbody>\n",
       "    <tr>\n",
       "      <th>3</th>\n",
       "      <td>2011-01-01</td>\n",
       "      <td>EU</td>\n",
       "      <td>EM-141402</td>\n",
       "      <td>8240</td>\n",
       "      <td>2011</td>\n",
       "      <td>1</td>\n",
       "      <td>1</td>\n",
       "    </tr>\n",
       "    <tr>\n",
       "      <th>14</th>\n",
       "      <td>2011-03-01</td>\n",
       "      <td>EU</td>\n",
       "      <td>DD-135702</td>\n",
       "      <td>8443</td>\n",
       "      <td>2011</td>\n",
       "      <td>3</td>\n",
       "      <td>1</td>\n",
       "    </tr>\n",
       "    <tr>\n",
       "      <th>18</th>\n",
       "      <td>2011-04-01</td>\n",
       "      <td>EU</td>\n",
       "      <td>AP-109152</td>\n",
       "      <td>1777</td>\n",
       "      <td>2011</td>\n",
       "      <td>4</td>\n",
       "      <td>1</td>\n",
       "    </tr>\n",
       "    <tr>\n",
       "      <th>19</th>\n",
       "      <td>2011-04-01</td>\n",
       "      <td>EU</td>\n",
       "      <td>GT-146352</td>\n",
       "      <td>1250</td>\n",
       "      <td>2011</td>\n",
       "      <td>4</td>\n",
       "      <td>1</td>\n",
       "    </tr>\n",
       "    <tr>\n",
       "      <th>26</th>\n",
       "      <td>2011-05-01</td>\n",
       "      <td>EU</td>\n",
       "      <td>MG-178902</td>\n",
       "      <td>6133</td>\n",
       "      <td>2011</td>\n",
       "      <td>5</td>\n",
       "      <td>1</td>\n",
       "    </tr>\n",
       "    <tr>\n",
       "      <th>33</th>\n",
       "      <td>2011-06-01</td>\n",
       "      <td>EU</td>\n",
       "      <td>SH-203952</td>\n",
       "      <td>9030</td>\n",
       "      <td>2011</td>\n",
       "      <td>6</td>\n",
       "      <td>1</td>\n",
       "    </tr>\n",
       "    <tr>\n",
       "      <th>40</th>\n",
       "      <td>2011-07-01</td>\n",
       "      <td>EU</td>\n",
       "      <td>DP-131052</td>\n",
       "      <td>2617</td>\n",
       "      <td>2011</td>\n",
       "      <td>7</td>\n",
       "      <td>1</td>\n",
       "    </tr>\n",
       "    <tr>\n",
       "      <th>41</th>\n",
       "      <td>2011-07-01</td>\n",
       "      <td>EU</td>\n",
       "      <td>JS-160302</td>\n",
       "      <td>6871</td>\n",
       "      <td>2011</td>\n",
       "      <td>7</td>\n",
       "      <td>1</td>\n",
       "    </tr>\n",
       "    <tr>\n",
       "      <th>49</th>\n",
       "      <td>2011-08-01</td>\n",
       "      <td>EU</td>\n",
       "      <td>DP-130002</td>\n",
       "      <td>3041</td>\n",
       "      <td>2011</td>\n",
       "      <td>8</td>\n",
       "      <td>1</td>\n",
       "    </tr>\n",
       "    <tr>\n",
       "      <th>62</th>\n",
       "      <td>2011-10-01</td>\n",
       "      <td>EU</td>\n",
       "      <td>GG-146502</td>\n",
       "      <td>3273</td>\n",
       "      <td>2011</td>\n",
       "      <td>10</td>\n",
       "      <td>1</td>\n",
       "    </tr>\n",
       "  </tbody>\n",
       "</table>\n",
       "</div>"
      ],
      "text/plain": [
       "   Log in Date Market    User ID  Sales  year  month  day\n",
       "3   2011-01-01     EU  EM-141402   8240  2011      1    1\n",
       "14  2011-03-01     EU  DD-135702   8443  2011      3    1\n",
       "18  2011-04-01     EU  AP-109152   1777  2011      4    1\n",
       "19  2011-04-01     EU  GT-146352   1250  2011      4    1\n",
       "26  2011-05-01     EU  MG-178902   6133  2011      5    1\n",
       "33  2011-06-01     EU  SH-203952   9030  2011      6    1\n",
       "40  2011-07-01     EU  DP-131052   2617  2011      7    1\n",
       "41  2011-07-01     EU  JS-160302   6871  2011      7    1\n",
       "49  2011-08-01     EU  DP-130002   3041  2011      8    1\n",
       "62  2011-10-01     EU  GG-146502   3273  2011     10    1"
      ]
     },
     "execution_count": 95,
     "metadata": {},
     "output_type": "execute_result"
    }
   ],
   "source": [
    "df_EU = df.loc[df.Market==\"EU\",:]\n",
    "df_EU.head(10)"
   ]
  },
  {
   "cell_type": "code",
   "execution_count": 96,
   "metadata": {},
   "outputs": [
    {
     "data": {
      "text/plain": [
       "(5100, 7)"
      ]
     },
     "execution_count": 96,
     "metadata": {},
     "output_type": "execute_result"
    }
   ],
   "source": [
    "df_EU.shape"
   ]
  },
  {
   "cell_type": "code",
   "execution_count": 53,
   "metadata": {},
   "outputs": [
    {
     "data": {
      "text/html": [
       "<div>\n",
       "<style scoped>\n",
       "    .dataframe tbody tr th:only-of-type {\n",
       "        vertical-align: middle;\n",
       "    }\n",
       "\n",
       "    .dataframe tbody tr th {\n",
       "        vertical-align: top;\n",
       "    }\n",
       "\n",
       "    .dataframe thead th {\n",
       "        text-align: right;\n",
       "    }\n",
       "</style>\n",
       "<table border=\"1\" class=\"dataframe\">\n",
       "  <thead>\n",
       "    <tr style=\"text-align: right;\">\n",
       "      <th></th>\n",
       "      <th>Log in Date</th>\n",
       "      <th>Market</th>\n",
       "      <th>User ID</th>\n",
       "      <th>Sales</th>\n",
       "      <th>year</th>\n",
       "      <th>month</th>\n",
       "      <th>day</th>\n",
       "    </tr>\n",
       "  </thead>\n",
       "  <tbody>\n",
       "    <tr>\n",
       "      <th>15</th>\n",
       "      <td>2011-03-01</td>\n",
       "      <td>LATAM</td>\n",
       "      <td>SV-207853</td>\n",
       "      <td>9949</td>\n",
       "      <td>2011</td>\n",
       "      <td>3</td>\n",
       "      <td>1</td>\n",
       "    </tr>\n",
       "    <tr>\n",
       "      <th>20</th>\n",
       "      <td>2011-04-01</td>\n",
       "      <td>LATAM</td>\n",
       "      <td>AW-109303</td>\n",
       "      <td>8932</td>\n",
       "      <td>2011</td>\n",
       "      <td>4</td>\n",
       "      <td>1</td>\n",
       "    </tr>\n",
       "    <tr>\n",
       "      <th>21</th>\n",
       "      <td>2011-04-01</td>\n",
       "      <td>LATAM</td>\n",
       "      <td>BT-113053</td>\n",
       "      <td>5377</td>\n",
       "      <td>2011</td>\n",
       "      <td>4</td>\n",
       "      <td>1</td>\n",
       "    </tr>\n",
       "    <tr>\n",
       "      <th>22</th>\n",
       "      <td>2011-04-01</td>\n",
       "      <td>LATAM</td>\n",
       "      <td>MH-177853</td>\n",
       "      <td>1938</td>\n",
       "      <td>2011</td>\n",
       "      <td>4</td>\n",
       "      <td>1</td>\n",
       "    </tr>\n",
       "    <tr>\n",
       "      <th>23</th>\n",
       "      <td>2011-04-01</td>\n",
       "      <td>LATAM</td>\n",
       "      <td>RA-199153</td>\n",
       "      <td>5368</td>\n",
       "      <td>2011</td>\n",
       "      <td>4</td>\n",
       "      <td>1</td>\n",
       "    </tr>\n",
       "    <tr>\n",
       "      <th>27</th>\n",
       "      <td>2011-05-01</td>\n",
       "      <td>LATAM</td>\n",
       "      <td>JH-154303</td>\n",
       "      <td>8855</td>\n",
       "      <td>2011</td>\n",
       "      <td>5</td>\n",
       "      <td>1</td>\n",
       "    </tr>\n",
       "    <tr>\n",
       "      <th>42</th>\n",
       "      <td>2011-07-01</td>\n",
       "      <td>LATAM</td>\n",
       "      <td>DD-135703</td>\n",
       "      <td>4124</td>\n",
       "      <td>2011</td>\n",
       "      <td>7</td>\n",
       "      <td>1</td>\n",
       "    </tr>\n",
       "    <tr>\n",
       "      <th>50</th>\n",
       "      <td>2011-08-01</td>\n",
       "      <td>LATAM</td>\n",
       "      <td>CM-123853</td>\n",
       "      <td>8859</td>\n",
       "      <td>2011</td>\n",
       "      <td>8</td>\n",
       "      <td>1</td>\n",
       "    </tr>\n",
       "    <tr>\n",
       "      <th>63</th>\n",
       "      <td>2011-10-01</td>\n",
       "      <td>LATAM</td>\n",
       "      <td>JR-157003</td>\n",
       "      <td>6537</td>\n",
       "      <td>2011</td>\n",
       "      <td>10</td>\n",
       "      <td>1</td>\n",
       "    </tr>\n",
       "    <tr>\n",
       "      <th>64</th>\n",
       "      <td>2011-10-01</td>\n",
       "      <td>LATAM</td>\n",
       "      <td>PM-189403</td>\n",
       "      <td>4661</td>\n",
       "      <td>2011</td>\n",
       "      <td>10</td>\n",
       "      <td>1</td>\n",
       "    </tr>\n",
       "  </tbody>\n",
       "</table>\n",
       "</div>"
      ],
      "text/plain": [
       "   Log in Date Market    User ID  Sales  year  month  day\n",
       "15  2011-03-01  LATAM  SV-207853   9949  2011      3    1\n",
       "20  2011-04-01  LATAM  AW-109303   8932  2011      4    1\n",
       "21  2011-04-01  LATAM  BT-113053   5377  2011      4    1\n",
       "22  2011-04-01  LATAM  MH-177853   1938  2011      4    1\n",
       "23  2011-04-01  LATAM  RA-199153   5368  2011      4    1\n",
       "27  2011-05-01  LATAM  JH-154303   8855  2011      5    1\n",
       "42  2011-07-01  LATAM  DD-135703   4124  2011      7    1\n",
       "50  2011-08-01  LATAM  CM-123853   8859  2011      8    1\n",
       "63  2011-10-01  LATAM  JR-157003   6537  2011     10    1\n",
       "64  2011-10-01  LATAM  PM-189403   4661  2011     10    1"
      ]
     },
     "execution_count": 53,
     "metadata": {},
     "output_type": "execute_result"
    }
   ],
   "source": [
    "df_LATAM = df.loc[df.Market==\"LATAM\",:]\n",
    "df_LATAM.head(10)"
   ]
  },
  {
   "cell_type": "code",
   "execution_count": 54,
   "metadata": {},
   "outputs": [
    {
     "data": {
      "text/plain": [
       "(4971, 7)"
      ]
     },
     "execution_count": 54,
     "metadata": {},
     "output_type": "execute_result"
    }
   ],
   "source": [
    "df_LATAM.shape"
   ]
  },
  {
   "cell_type": "code",
   "execution_count": 55,
   "metadata": {},
   "outputs": [
    {
     "data": {
      "image/png": "[encoded data removed]",
      "text/plain": [
       "<Figure size 1080x360 with 1 Axes>"
      ]
     },
     "metadata": {},
     "output_type": "display_data"
    }
   ],
   "source": [
    "df_africa_sales=df_africa.groupby(\"year\")[\"Sales\"].aggregate(\"sum\").plot(color=\"Red\")\n",
    "df_america_sales=df_america.groupby(\"year\")[\"Sales\"].aggregate(\"sum\").plot(color=\"Black\")\n",
    "df_APAC_sales=df_APAC.groupby(\"year\")[\"Sales\"].aggregate(\"sum\").plot(color=\"Green\")\n",
    "df_EU_sales=df_EU.groupby(\"year\")[\"Sales\"].aggregate(\"sum\").plot(color=\"Blue\")\n",
    "df_EMEA_sales=df_EMEA.groupby(\"year\")[\"Sales\"].aggregate(\"sum\").plot(color=\"Orange\")\n",
    "df_LATAM_sales=df_LATAM.groupby(\"year\")[\"Sales\"].aggregate(\"sum\").plot(color=\"Pink\")"
   ]
  },
  {
   "cell_type": "code",
   "execution_count": 101,
   "metadata": {},
   "outputs": [
    {
     "data": {
      "text/html": [
       "<div>\n",
       "<style scoped>\n",
       "    .dataframe tbody tr th:only-of-type {\n",
       "        vertical-align: middle;\n",
       "    }\n",
       "\n",
       "    .dataframe tbody tr th {\n",
       "        vertical-align: top;\n",
       "    }\n",
       "\n",
       "    .dataframe thead th {\n",
       "        text-align: right;\n",
       "    }\n",
       "</style>\n",
       "<table border=\"1\" class=\"dataframe\">\n",
       "  <thead>\n",
       "    <tr style=\"text-align: right;\">\n",
       "      <th></th>\n",
       "      <th>User ID</th>\n",
       "      <th>Market</th>\n",
       "      <th>Frequency</th>\n",
       "    </tr>\n",
       "  </thead>\n",
       "  <tbody>\n",
       "    <tr>\n",
       "      <th>0</th>\n",
       "      <td>AA-3151</td>\n",
       "      <td>1</td>\n",
       "      <td>1</td>\n",
       "    </tr>\n",
       "    <tr>\n",
       "      <th>1</th>\n",
       "      <td>AA-3751</td>\n",
       "      <td>4</td>\n",
       "      <td>4</td>\n",
       "    </tr>\n",
       "    <tr>\n",
       "      <th>2</th>\n",
       "      <td>AA-4801</td>\n",
       "      <td>2</td>\n",
       "      <td>2</td>\n",
       "    </tr>\n",
       "    <tr>\n",
       "      <th>3</th>\n",
       "      <td>AA-6451</td>\n",
       "      <td>8</td>\n",
       "      <td>8</td>\n",
       "    </tr>\n",
       "    <tr>\n",
       "      <th>4</th>\n",
       "      <td>AB-1051</td>\n",
       "      <td>2</td>\n",
       "      <td>2</td>\n",
       "    </tr>\n",
       "    <tr>\n",
       "      <th>5</th>\n",
       "      <td>AB-151</td>\n",
       "      <td>2</td>\n",
       "      <td>2</td>\n",
       "    </tr>\n",
       "    <tr>\n",
       "      <th>6</th>\n",
       "      <td>AB-1651</td>\n",
       "      <td>1</td>\n",
       "      <td>1</td>\n",
       "    </tr>\n",
       "    <tr>\n",
       "      <th>7</th>\n",
       "      <td>AB-2551</td>\n",
       "      <td>5</td>\n",
       "      <td>5</td>\n",
       "    </tr>\n",
       "    <tr>\n",
       "      <th>8</th>\n",
       "      <td>AB-6001</td>\n",
       "      <td>3</td>\n",
       "      <td>3</td>\n",
       "    </tr>\n",
       "    <tr>\n",
       "      <th>9</th>\n",
       "      <td>AB-601</td>\n",
       "      <td>3</td>\n",
       "      <td>3</td>\n",
       "    </tr>\n",
       "  </tbody>\n",
       "</table>\n",
       "</div>"
      ],
      "text/plain": [
       "   User ID  Market  Frequency\n",
       "0  AA-3151       1          1\n",
       "1  AA-3751       4          4\n",
       "2  AA-4801       2          2\n",
       "3  AA-6451       8          8\n",
       "4  AB-1051       2          2\n",
       "5   AB-151       2          2\n",
       "6  AB-1651       1          1\n",
       "7  AB-2551       5          5\n",
       "8  AB-6001       3          3\n",
       "9   AB-601       3          3"
      ]
     },
     "execution_count": 101,
     "metadata": {},
     "output_type": "execute_result"
    }
   ],
   "source": [
    "df_ret_africa=df_africa.groupby(\"User ID\").count()[\"Market\"].reset_index()\n",
    "df_ret_africa[\"Frequency\"]=df_ret_africa[\"Market\"]\n",
    "df_ret_africa.head(10)"
   ]
  },
  {
   "cell_type": "code",
   "execution_count": 130,
   "metadata": {},
   "outputs": [],
   "source": [
    "df_AFRICA=df_ret_africa.groupby(\"Frequency\").count().reset_index()\n",
    "df_AFRICA.to_csv(\"df_AFRICA.csv\")"
   ]
  },
  {
   "cell_type": "code",
   "execution_count": 102,
   "metadata": {},
   "outputs": [
    {
     "data": {
      "image/png": "[encoded data removed]",
      "text/plain": [
       "<Figure size 1080x360 with 1 Axes>"
      ]
     },
     "metadata": {},
     "output_type": "display_data"
    }
   ],
   "source": [
    "sns.countplot(x= \"Frequency\",data=df_ret_africa)\n",
    "plt.savefig('table_fig1.png')"
   ]
  },
  {
   "cell_type": "code",
   "execution_count": 103,
   "metadata": {},
   "outputs": [
    {
     "data": {
      "text/html": [
       "<div>\n",
       "<style scoped>\n",
       "    .dataframe tbody tr th:only-of-type {\n",
       "        vertical-align: middle;\n",
       "    }\n",
       "\n",
       "    .dataframe tbody tr th {\n",
       "        vertical-align: top;\n",
       "    }\n",
       "\n",
       "    .dataframe thead th {\n",
       "        text-align: right;\n",
       "    }\n",
       "</style>\n",
       "<table border=\"1\" class=\"dataframe\">\n",
       "  <thead>\n",
       "    <tr style=\"text-align: right;\">\n",
       "      <th></th>\n",
       "      <th>User ID</th>\n",
       "      <th>Market</th>\n",
       "      <th>Frequency</th>\n",
       "    </tr>\n",
       "  </thead>\n",
       "  <tbody>\n",
       "    <tr>\n",
       "      <th>0</th>\n",
       "      <td>AA-103154</td>\n",
       "      <td>5</td>\n",
       "      <td>5</td>\n",
       "    </tr>\n",
       "    <tr>\n",
       "      <th>1</th>\n",
       "      <td>AA-103754</td>\n",
       "      <td>9</td>\n",
       "      <td>9</td>\n",
       "    </tr>\n",
       "    <tr>\n",
       "      <th>2</th>\n",
       "      <td>AA-104804</td>\n",
       "      <td>4</td>\n",
       "      <td>4</td>\n",
       "    </tr>\n",
       "    <tr>\n",
       "      <th>3</th>\n",
       "      <td>AA-106454</td>\n",
       "      <td>6</td>\n",
       "      <td>6</td>\n",
       "    </tr>\n",
       "    <tr>\n",
       "      <th>4</th>\n",
       "      <td>AA-3752</td>\n",
       "      <td>1</td>\n",
       "      <td>1</td>\n",
       "    </tr>\n",
       "  </tbody>\n",
       "</table>\n",
       "</div>"
      ],
      "text/plain": [
       "     User ID  Market  Frequency\n",
       "0  AA-103154       5          5\n",
       "1  AA-103754       9          9\n",
       "2  AA-104804       4          4\n",
       "3  AA-106454       6          6\n",
       "4    AA-3752       1          1"
      ]
     },
     "execution_count": 103,
     "metadata": {},
     "output_type": "execute_result"
    }
   ],
   "source": [
    "df_ret_america=df_america.groupby(\"User ID\").count()[\"Market\"].reset_index()\n",
    "df_ret_america[\"Frequency\"]=df_ret_america[\"Market\"]df\n",
    "df_ret_america.head()"
   ]
  },
  {
   "cell_type": "code",
   "execution_count": 127,
   "metadata": {},
   "outputs": [],
   "source": [
    "df_AMERICA=df_ret_america.groupby(\"Frequency\").count().reset_index()\n",
    "df_AMERICA.to_csv(\"df_AMERCA.csv\")"
   ]
  },
  {
   "cell_type": "code",
   "execution_count": 118,
   "metadata": {},
   "outputs": [
    {
     "data": {
      "image/png": "[encoded data removed]",
      "text/plain": [
       "<Figure size 1080x360 with 1 Axes>"
      ]
     },
     "metadata": {},
     "output_type": "display_data"
    }
   ],
   "source": [
    "sns.countplot(x=\"Frequency\",data=df_ret_america)\n",
    "plt.savefig('table_fig2.png')"
   ]
  },
  {
   "cell_type": "code",
   "execution_count": 106,
   "metadata": {},
   "outputs": [
    {
     "data": {
      "text/html": [
       "<div>\n",
       "<style scoped>\n",
       "    .dataframe tbody tr th:only-of-type {\n",
       "        vertical-align: middle;\n",
       "    }\n",
       "\n",
       "    .dataframe tbody tr th {\n",
       "        vertical-align: top;\n",
       "    }\n",
       "\n",
       "    .dataframe thead th {\n",
       "        text-align: right;\n",
       "    }\n",
       "</style>\n",
       "<table border=\"1\" class=\"dataframe\">\n",
       "  <thead>\n",
       "    <tr style=\"text-align: right;\">\n",
       "      <th></th>\n",
       "      <th>User ID</th>\n",
       "      <th>Market</th>\n",
       "      <th>Frequency</th>\n",
       "    </tr>\n",
       "  </thead>\n",
       "  <tbody>\n",
       "    <tr>\n",
       "      <th>0</th>\n",
       "      <td>AA-103151</td>\n",
       "      <td>5</td>\n",
       "      <td>5</td>\n",
       "    </tr>\n",
       "    <tr>\n",
       "      <th>1</th>\n",
       "      <td>AA-103751</td>\n",
       "      <td>4</td>\n",
       "      <td>4</td>\n",
       "    </tr>\n",
       "    <tr>\n",
       "      <th>2</th>\n",
       "      <td>AA-104801</td>\n",
       "      <td>5</td>\n",
       "      <td>5</td>\n",
       "    </tr>\n",
       "    <tr>\n",
       "      <th>3</th>\n",
       "      <td>AA-106451</td>\n",
       "      <td>12</td>\n",
       "      <td>12</td>\n",
       "    </tr>\n",
       "    <tr>\n",
       "      <th>4</th>\n",
       "      <td>AB-100151</td>\n",
       "      <td>9</td>\n",
       "      <td>9</td>\n",
       "    </tr>\n",
       "  </tbody>\n",
       "</table>\n",
       "</div>"
      ],
      "text/plain": [
       "     User ID  Market  Frequency\n",
       "0  AA-103151       5          5\n",
       "1  AA-103751       4          4\n",
       "2  AA-104801       5          5\n",
       "3  AA-106451      12         12\n",
       "4  AB-100151       9          9"
      ]
     },
     "execution_count": 106,
     "metadata": {},
     "output_type": "execute_result"
    }
   ],
   "source": [
    "df_ret_APAC=df_APAC.groupby(\"User ID\").count()[\"Market\"].reset_index()\n",
    "df_ret_APAC[\"Frequency\"]=df_ret_APAC[\"Market\"]\n",
    "df_ret_APAC.head()"
   ]
  },
  {
   "cell_type": "code",
   "execution_count": 126,
   "metadata": {},
   "outputs": [],
   "source": [
    "df_apac=df_ret_APAC.groupby(\"Frequency\").count().reset_index()\n",
    "df_apac.to_csv(\"df_apac.csv\")"
   ]
  },
  {
   "cell_type": "code",
   "execution_count": 117,
   "metadata": {},
   "outputs": [
    {
     "data": {
      "image/png": "[encoded data removed]",
      "text/plain": [
       "<Figure size 1080x360 with 1 Axes>"
      ]
     },
     "metadata": {},
     "output_type": "display_data"
    }
   ],
   "source": [
    "sns.countplot(x= \"Frequency\",data=df_ret_APAC)\n",
    "plt.savefig('table_fig3.png')"
   ]
  },
  {
   "cell_type": "code",
   "execution_count": 108,
   "metadata": {},
   "outputs": [
    {
     "data": {
      "text/html": [
       "<div>\n",
       "<style scoped>\n",
       "    .dataframe tbody tr th:only-of-type {\n",
       "        vertical-align: middle;\n",
       "    }\n",
       "\n",
       "    .dataframe tbody tr th {\n",
       "        vertical-align: top;\n",
       "    }\n",
       "\n",
       "    .dataframe thead th {\n",
       "        text-align: right;\n",
       "    }\n",
       "</style>\n",
       "<table border=\"1\" class=\"dataframe\">\n",
       "  <thead>\n",
       "    <tr style=\"text-align: right;\">\n",
       "      <th></th>\n",
       "      <th>User ID</th>\n",
       "      <th>Market</th>\n",
       "      <th>Frequency</th>\n",
       "    </tr>\n",
       "  </thead>\n",
       "  <tbody>\n",
       "    <tr>\n",
       "      <th>0</th>\n",
       "      <td>AA-103152</td>\n",
       "      <td>7</td>\n",
       "      <td>7</td>\n",
       "    </tr>\n",
       "    <tr>\n",
       "      <th>1</th>\n",
       "      <td>AA-103752</td>\n",
       "      <td>3</td>\n",
       "      <td>3</td>\n",
       "    </tr>\n",
       "    <tr>\n",
       "      <th>2</th>\n",
       "      <td>AA-104802</td>\n",
       "      <td>7</td>\n",
       "      <td>7</td>\n",
       "    </tr>\n",
       "    <tr>\n",
       "      <th>3</th>\n",
       "      <td>AA-106452</td>\n",
       "      <td>9</td>\n",
       "      <td>9</td>\n",
       "    </tr>\n",
       "    <tr>\n",
       "      <th>4</th>\n",
       "      <td>AB-100152</td>\n",
       "      <td>12</td>\n",
       "      <td>12</td>\n",
       "    </tr>\n",
       "  </tbody>\n",
       "</table>\n",
       "</div>"
      ],
      "text/plain": [
       "     User ID  Market  Frequency\n",
       "0  AA-103152       7          7\n",
       "1  AA-103752       3          3\n",
       "2  AA-104802       7          7\n",
       "3  AA-106452       9          9\n",
       "4  AB-100152      12         12"
      ]
     },
     "execution_count": 108,
     "metadata": {},
     "output_type": "execute_result"
    }
   ],
   "source": [
    "df_ret_EU=df_EU.groupby(\"User ID\").count()[\"Market\"].reset_index()\n",
    "df_ret_EU[\"Frequency\"]=df_ret_EU[\"Market\"]\n",
    "df_ret_EU.head(5)"
   ]
  },
  {
   "cell_type": "code",
   "execution_count": 123,
   "metadata": {},
   "outputs": [],
   "source": [
    "df_eu=df_ret_EU.groupby(\"Frequency\").count().reset_index()\n",
    "df_eu.to_csv(\"df_eu.csv\")"
   ]
  },
  {
   "cell_type": "code",
   "execution_count": 116,
   "metadata": {},
   "outputs": [
    {
     "data": {
      "image/png": "[encoded data removed]",
      "text/plain": [
       "<Figure size 1080x360 with 1 Axes>"
      ]
     },
     "metadata": {},
     "output_type": "display_data"
    }
   ],
   "source": [
    "sns.countplot(x= \"Frequency\",data=df_ret_EU)\n",
    "plt.savefig('table_fig4.png')"
   ]
  },
  {
   "cell_type": "code",
   "execution_count": 110,
   "metadata": {},
   "outputs": [
    {
     "data": {
      "text/html": [
       "<div>\n",
       "<style scoped>\n",
       "    .dataframe tbody tr th:only-of-type {\n",
       "        vertical-align: middle;\n",
       "    }\n",
       "\n",
       "    .dataframe tbody tr th {\n",
       "        vertical-align: top;\n",
       "    }\n",
       "\n",
       "    .dataframe thead th {\n",
       "        text-align: right;\n",
       "    }\n",
       "</style>\n",
       "<table border=\"1\" class=\"dataframe\">\n",
       "  <thead>\n",
       "    <tr style=\"text-align: right;\">\n",
       "      <th></th>\n",
       "      <th>User ID</th>\n",
       "      <th>Market</th>\n",
       "      <th>Frequency</th>\n",
       "    </tr>\n",
       "  </thead>\n",
       "  <tbody>\n",
       "    <tr>\n",
       "      <th>0</th>\n",
       "      <td>AA-3152</td>\n",
       "      <td>6</td>\n",
       "      <td>6</td>\n",
       "    </tr>\n",
       "    <tr>\n",
       "      <th>1</th>\n",
       "      <td>AA-3753</td>\n",
       "      <td>3</td>\n",
       "      <td>3</td>\n",
       "    </tr>\n",
       "    <tr>\n",
       "      <th>2</th>\n",
       "      <td>AA-4803</td>\n",
       "      <td>2</td>\n",
       "      <td>2</td>\n",
       "    </tr>\n",
       "    <tr>\n",
       "      <th>3</th>\n",
       "      <td>AA-6452</td>\n",
       "      <td>3</td>\n",
       "      <td>3</td>\n",
       "    </tr>\n",
       "    <tr>\n",
       "      <th>4</th>\n",
       "      <td>AB-1053</td>\n",
       "      <td>4</td>\n",
       "      <td>4</td>\n",
       "    </tr>\n",
       "  </tbody>\n",
       "</table>\n",
       "</div>"
      ],
      "text/plain": [
       "   User ID  Market  Frequency\n",
       "0  AA-3152       6          6\n",
       "1  AA-3753       3          3\n",
       "2  AA-4803       2          2\n",
       "3  AA-6452       3          3\n",
       "4  AB-1053       4          4"
      ]
     },
     "execution_count": 110,
     "metadata": {},
     "output_type": "execute_result"
    }
   ],
   "source": [
    "df_ret_EMEA=df_EMEA.groupby(\"User ID\").count()[\"Market\"].reset_index()\n",
    "df_ret_EMEA[\"Frequency\"]=df_ret_EMEA[\"Market\"]\n",
    "df_ret_EMEA.head()"
   ]
  },
  {
   "cell_type": "code",
   "execution_count": 128,
   "metadata": {},
   "outputs": [],
   "source": [
    "df_emea=df_ret_EMEA.groupby(\"Frequency\").count().reset_index()\n",
    "df_emea.to_csv(\"df_emea.csv\")"
   ]
  },
  {
   "cell_type": "code",
   "execution_count": 129,
   "metadata": {},
   "outputs": [
    {
     "data": {
      "image/png": "[encoded data removed]",
      "text/plain": [
       "<Figure size 1080x360 with 1 Axes>"
      ]
     },
     "metadata": {},
     "output_type": "display_data"
    }
   ],
   "source": [
    "sns.countplot(x= \"Frequency\",data=df_ret_EMEA)\n",
    "plt.savefig('table_fig5.png')"
   ]
  },
  {
   "cell_type": "code",
   "execution_count": 112,
   "metadata": {},
   "outputs": [
    {
     "data": {
      "text/html": [
       "<div>\n",
       "<style scoped>\n",
       "    .dataframe tbody tr th:only-of-type {\n",
       "        vertical-align: middle;\n",
       "    }\n",
       "\n",
       "    .dataframe tbody tr th {\n",
       "        vertical-align: top;\n",
       "    }\n",
       "\n",
       "    .dataframe thead th {\n",
       "        text-align: right;\n",
       "    }\n",
       "</style>\n",
       "<table border=\"1\" class=\"dataframe\">\n",
       "  <thead>\n",
       "    <tr style=\"text-align: right;\">\n",
       "      <th></th>\n",
       "      <th>User ID</th>\n",
       "      <th>Market</th>\n",
       "      <th>Frequency</th>\n",
       "    </tr>\n",
       "  </thead>\n",
       "  <tbody>\n",
       "    <tr>\n",
       "      <th>0</th>\n",
       "      <td>AA-103153</td>\n",
       "      <td>2</td>\n",
       "      <td>2</td>\n",
       "    </tr>\n",
       "    <tr>\n",
       "      <th>1</th>\n",
       "      <td>AA-103753</td>\n",
       "      <td>7</td>\n",
       "      <td>7</td>\n",
       "    </tr>\n",
       "    <tr>\n",
       "      <th>2</th>\n",
       "      <td>AA-104803</td>\n",
       "      <td>4</td>\n",
       "      <td>4</td>\n",
       "    </tr>\n",
       "    <tr>\n",
       "      <th>3</th>\n",
       "      <td>AA-106453</td>\n",
       "      <td>9</td>\n",
       "      <td>9</td>\n",
       "    </tr>\n",
       "    <tr>\n",
       "      <th>4</th>\n",
       "      <td>AB-100153</td>\n",
       "      <td>8</td>\n",
       "      <td>8</td>\n",
       "    </tr>\n",
       "  </tbody>\n",
       "</table>\n",
       "</div>"
      ],
      "text/plain": [
       "     User ID  Market  Frequency\n",
       "0  AA-103153       2          2\n",
       "1  AA-103753       7          7\n",
       "2  AA-104803       4          4\n",
       "3  AA-106453       9          9\n",
       "4  AB-100153       8          8"
      ]
     },
     "execution_count": 112,
     "metadata": {},
     "output_type": "execute_result"
    }
   ],
   "source": [
    "df_ret_LATAM=df_LATAM.groupby(\"User ID\").count()[\"Market\"].reset_index()\n",
    "df_ret_LATAM[\"Frequency\"]=df_ret_LATAM[\"Market\"]\n",
    "df_ret_LATAM.head()"
   ]
  },
  {
   "cell_type": "code",
   "execution_count": 125,
   "metadata": {},
   "outputs": [],
   "source": [
    "df_latam=df_ret_LATAM.groupby(\"Frequency\").count().reset_index()\n",
    "df_latam.to_csv(\"df_latam.csv\")"
   ]
  },
  {
   "cell_type": "code",
   "execution_count": 114,
   "metadata": {},
   "outputs": [
    {
     "data": {
      "image/png": "[encoded data removed]",
      "text/plain": [
       "<Figure size 1080x360 with 1 Axes>"
      ]
     },
     "metadata": {},
     "output_type": "display_data"
    }
   ],
   "source": [
    "sns.countplot(x= \"Frequency\",data=df_ret_LATAM)\n",
    "plt.savefig('table_fig6.png')"
   ]
  },
  {
   "cell_type": "code",
   "execution_count": 68,
   "metadata": {},
   "outputs": [
    {
     "data": {
      "image/png": "[encoded data removed]",
      "text/plain": [
       "<Figure size 1800x576 with 1 Axes>"
      ]
     },
     "metadata": {},
     "output_type": "display_data"
    }
   ],
   "source": [
    "sns.set(rc={'figure.figsize':(25, 8)})\n",
    "df_america['month'].plot(linewidth=2);"
   ]
  },
  {
   "cell_type": "code",
   "execution_count": 69,
   "metadata": {},
   "outputs": [
    {
     "data": {
      "text/plain": [
       "EH-37651     8\n",
       "AA-6451      8\n",
       "AS-6301      8\n",
       "MA-79951     8\n",
       "LC-68851     7\n",
       "            ..\n",
       "KC-66751     1\n",
       "JK-52051     1\n",
       "CC-24301     1\n",
       "SB-101701    1\n",
       "IM-50701     1\n",
       "Name: User ID, Length: 754, dtype: int64"
      ]
     },
     "execution_count": 69,
     "metadata": {},
     "output_type": "execute_result"
    }
   ],
   "source": [
    "df_africa[\"User ID\"].value_counts()"
   ]
  },
  {
   "cell_type": "code",
   "execution_count": 70,
   "metadata": {},
   "outputs": [
    {
     "data": {
      "text/plain": [
       "EP-139154    17\n",
       "CK-122054    13\n",
       "SH-199754    13\n",
       "PG-188204    13\n",
       "JE-157454    13\n",
       "             ..\n",
       "TC-211454     1\n",
       "LD-70052      1\n",
       "CA-20551      1\n",
       "MH-74402      1\n",
       "BM-16502      1\n",
       "Name: User ID, Length: 974, dtype: int64"
      ]
     },
     "execution_count": 70,
     "metadata": {},
     "output_type": "execute_result"
    }
   ],
   "source": [
    "df_america['User ID'].value_counts()"
   ]
  },
  {
   "cell_type": "code",
   "execution_count": 71,
   "metadata": {},
   "outputs": [
    {
     "data": {
      "text/plain": [
       "DK-130901    18\n",
       "CS-121751    17\n",
       "EM-139601    16\n",
       "NC-186251    15\n",
       "JS-160301    14\n",
       "             ..\n",
       "BF-112751     1\n",
       "MC-175901     1\n",
       "SV-109352     1\n",
       "JS-159401     1\n",
       "MO-179501     1\n",
       "Name: User ID, Length: 796, dtype: int64"
      ]
     },
     "execution_count": 71,
     "metadata": {},
     "output_type": "execute_result"
    }
   ],
   "source": [
    "df_APAC[\"User ID\"].value_counts()"
   ]
  },
  {
   "cell_type": "code",
   "execution_count": 72,
   "metadata": {},
   "outputs": [
    {
     "data": {
      "text/plain": [
       "DK-31502     10\n",
       "TB-112502    10\n",
       "DV-30452     10\n",
       "LA-67802      9\n",
       "BD-17252      9\n",
       "             ..\n",
       "AH-753        1\n",
       "SS-105902     1\n",
       "SM-109052     1\n",
       "BW-12002      1\n",
       "RC-98251      1\n",
       "Name: User ID, Length: 760, dtype: int64"
      ]
     },
     "execution_count": 72,
     "metadata": {},
     "output_type": "execute_result"
    }
   ],
   "source": [
    "df_EMEA[\"User ID\"].value_counts()"
   ]
  },
  {
   "cell_type": "code",
   "execution_count": 73,
   "metadata": {},
   "outputs": [
    {
     "data": {
      "text/plain": [
       "AR-108252    15\n",
       "YC-218952    14\n",
       "KH-166902    14\n",
       "JG-158052    14\n",
       "AF-108852    13\n",
       "             ..\n",
       "JO-152802     1\n",
       "CC-124302     1\n",
       "EB-141702     1\n",
       "RD-199002     1\n",
       "DL-129252     1\n",
       "Name: User ID, Length: 795, dtype: int64"
      ]
     },
     "execution_count": 73,
     "metadata": {},
     "output_type": "execute_result"
    }
   ],
   "source": [
    "df_EU[\"User ID\"].value_counts()"
   ]
  },
  {
   "cell_type": "code",
   "execution_count": 74,
   "metadata": {},
   "outputs": [
    {
     "data": {
      "text/plain": [
       "JH-159853    15\n",
       "TZ-214453    14\n",
       "LB-167353    13\n",
       "RB-197953    13\n",
       "LH-167503    13\n",
       "             ..\n",
       "AS-106303     1\n",
       "EB-138703     1\n",
       "AI-108553     1\n",
       "NH-186103     1\n",
       "KD-163453     1\n",
       "Name: User ID, Length: 794, dtype: int64"
      ]
     },
     "execution_count": 74,
     "metadata": {},
     "output_type": "execute_result"
    }
   ],
   "source": [
    "df_LATAM[\"User ID\"].value_counts()"
   ]
  },
  {
   "cell_type": "code",
   "execution_count": 75,
   "metadata": {},
   "outputs": [],
   "source": [
    "df_africa_unique= df_africa[\"User ID\"].value_counts()"
   ]
  },
  {
   "cell_type": "code",
   "execution_count": 76,
   "metadata": {},
   "outputs": [],
   "source": [
    "df_africa_unique.to_csv('africa_unique.csv')"
   ]
  },
  {
   "cell_type": "code",
   "execution_count": 77,
   "metadata": {},
   "outputs": [],
   "source": [
    "df_america_unique = df_america['User ID'].value_counts()"
   ]
  },
  {
   "cell_type": "code",
   "execution_count": 78,
   "metadata": {},
   "outputs": [],
   "source": [
    "df_america_unique.to_csv(\"america_unique.csv\")"
   ]
  },
  {
   "cell_type": "code",
   "execution_count": 79,
   "metadata": {},
   "outputs": [],
   "source": [
    "df_APAC_unique=df_APAC[\"User ID\"].value_counts()"
   ]
  },
  {
   "cell_type": "code",
   "execution_count": 80,
   "metadata": {},
   "outputs": [],
   "source": [
    "df_APAC_unique.to_csv(\"APAC_unique.csv\")"
   ]
  },
  {
   "cell_type": "code",
   "execution_count": 81,
   "metadata": {},
   "outputs": [],
   "source": [
    "df_EMEA_unique=df_EMEA[\"User ID\"].value_counts()"
   ]
  },
  {
   "cell_type": "code",
   "execution_count": 82,
   "metadata": {},
   "outputs": [],
   "source": [
    "df_EMEA_unique.to_csv(\"EMEA_unique.csv\")"
   ]
  },
  {
   "cell_type": "code",
   "execution_count": 83,
   "metadata": {},
   "outputs": [],
   "source": [
    "df_LATAM_unique= df_LATAM[\"User ID\"].value_counts()"
   ]
  },
  {
   "cell_type": "code",
   "execution_count": 84,
   "metadata": {},
   "outputs": [],
   "source": [
    "df_LATAM_unique.to_csv(\"LATAM_unique.csv\")"
   ]
  },
  {
   "cell_type": "code",
   "execution_count": 85,
   "metadata": {},
   "outputs": [],
   "source": [
    "df_EU_unique= df_EU[\"User ID\"].value_counts()"
   ]
  },
  {
   "cell_type": "code",
   "execution_count": 86,
   "metadata": {},
   "outputs": [],
   "source": [
    "df_EU_unique.to_csv(\"EU_unique.csv\")"
   ]
  },
  {
   "cell_type": "code",
   "execution_count": 87,
   "metadata": {},
   "outputs": [],
   "source": [
    "df_all_data= df.loc[df[\"year\"]==2014]"
   ]
  },
  {
   "cell_type": "code",
   "execution_count": 88,
   "metadata": {},
   "outputs": [],
   "source": [
    "df_all_data= df_all_data[\"User ID\"].value_counts()"
   ]
  },
  {
   "cell_type": "code",
   "execution_count": 89,
   "metadata": {},
   "outputs": [
    {
     "data": {
      "text/plain": [
       "AR-108252    9\n",
       "EP-139154    9\n",
       "EM-139601    8\n",
       "JB-154002    8\n",
       "SS-205901    8\n",
       "Name: User ID, dtype: int64"
      ]
     },
     "execution_count": 89,
     "metadata": {},
     "output_type": "execute_result"
    }
   ],
   "source": [
    "df_all_data.head()"
   ]
  },
  {
   "cell_type": "code",
   "execution_count": 90,
   "metadata": {},
   "outputs": [],
   "source": [
    "df_all_data_2013 = df.loc[df[\"year\"] !=2014]"
   ]
  },
  {
   "cell_type": "code",
   "execution_count": 91,
   "metadata": {},
   "outputs": [],
   "source": [
    "df_data_2014=df.loc[(df['year']==2014) & (df['year']!=2013) &(df['year']!=2012)  & (df['year']!=2011)][['User ID','year','Market']]"
   ]
  },
  {
   "cell_type": "code",
   "execution_count": 92,
   "metadata": {},
   "outputs": [],
   "source": [
    "df_data_2014=df_data_2014.drop_duplicates(subset=['User ID'])"
   ]
  },
  {
   "cell_type": "code",
   "execution_count": 93,
   "metadata": {},
   "outputs": [
    {
     "data": {
      "text/plain": [
       "(3948, 3)"
      ]
     },
     "execution_count": 93,
     "metadata": {},
     "output_type": "execute_result"
    }
   ],
   "source": [
    "df_data_2014.shape"
   ]
  },
  {
   "cell_type": "code",
   "execution_count": 94,
   "metadata": {},
   "outputs": [],
   "source": [
    "df_data_2014.to_csv(\"data_2014.csv\")"
   ]
  },
  {
   "cell_type": "code",
   "execution_count": 95,
   "metadata": {},
   "outputs": [],
   "source": [
    "df_data_2013=df.loc[(df['year']==2013) & (df['year']!=2014) &(df['year']!=2011)  & (df['year']!=2012)][['User ID','year','Market']]"
   ]
  },
  {
   "cell_type": "code",
   "execution_count": 96,
   "metadata": {},
   "outputs": [],
   "source": [
    "df_data_2013=df_data_2013.drop_duplicates(subset=['User ID'])"
   ]
  },
  {
   "cell_type": "code",
   "execution_count": 97,
   "metadata": {},
   "outputs": [],
   "source": [
    "df_data_2013.to_csv(\"data_2013.csv\")"
   ]
  },
  {
   "cell_type": "code",
   "execution_count": 98,
   "metadata": {},
   "outputs": [
    {
     "data": {
      "text/plain": [
       "(3591, 3)"
      ]
     },
     "execution_count": 98,
     "metadata": {},
     "output_type": "execute_result"
    }
   ],
   "source": [
    "df_data_2013.shape"
   ]
  },
  {
   "cell_type": "code",
   "execution_count": 104,
   "metadata": {},
   "outputs": [
    {
     "data": {
      "text/plain": [
       "3"
      ]
     },
     "execution_count": 104,
     "metadata": {},
     "output_type": "execute_result"
    }
   ],
   "source": [
    "\n",
    "#df_data= df.groupby(\"year\")[\"User ID\",'year','Market']\n",
    "#_data.head()"
   ]
  },
  {
   "cell_type": "code",
   "execution_count": 99,
   "metadata": {},
   "outputs": [
    {
     "ename": "ValueError",
     "evalue": "either both or neither of x and y should be given",
     "output_type": "error",
     "traceback": [
      "\u001b[1;31m---------------------------------------------------------------------------\u001b[0m",
      "\u001b[1;31mValueError\u001b[0m                                Traceback (most recent call last)",
      "\u001b[1;32m<ipython-input-99-d07a7b75c373>\u001b[0m in \u001b[0;36m<module>\u001b[1;34m\u001b[0m\n\u001b[1;32m----> 1\u001b[1;33m \u001b[0mdf\u001b[0m\u001b[1;33m[\u001b[0m\u001b[1;34m'recency'\u001b[0m\u001b[1;33m]\u001b[0m \u001b[1;33m=\u001b[0m \u001b[0mnp\u001b[0m\u001b[1;33m.\u001b[0m\u001b[0mwhere\u001b[0m\u001b[1;33m(\u001b[0m\u001b[0mdf\u001b[0m\u001b[1;33m.\u001b[0m\u001b[0myear\u001b[0m \u001b[1;33m==\u001b[0m \u001b[1;36m2014\u001b[0m\u001b[1;33m,\u001b[0m \u001b[1;34m'4'\u001b[0m\u001b[1;33m,\u001b[0m \u001b[0mnp\u001b[0m\u001b[1;33m.\u001b[0m\u001b[0mwhere\u001b[0m\u001b[1;33m(\u001b[0m\u001b[0mdf\u001b[0m\u001b[1;33m.\u001b[0m\u001b[0myear\u001b[0m \u001b[1;33m==\u001b[0m \u001b[1;36m2013\u001b[0m\u001b[1;33m,\u001b[0m \u001b[1;34m'3'\u001b[0m\u001b[1;33m)\u001b[0m\u001b[1;33m,\u001b[0m\u001b[0mnp\u001b[0m\u001b[1;33m.\u001b[0m\u001b[0mwhere\u001b[0m\u001b[1;33m(\u001b[0m\u001b[0mdf\u001b[0m\u001b[1;33m.\u001b[0m\u001b[0myear\u001b[0m \u001b[1;33m==\u001b[0m \u001b[1;36m2012\u001b[0m\u001b[1;33m,\u001b[0m \u001b[1;34m'2'\u001b[0m\u001b[1;33m)\u001b[0m\u001b[1;33m,\u001b[0m\u001b[0mnp\u001b[0m\u001b[1;33m.\u001b[0m\u001b[0mwhere\u001b[0m\u001b[1;33m(\u001b[0m\u001b[0mdf\u001b[0m\u001b[1;33m.\u001b[0m\u001b[0myear\u001b[0m \u001b[1;33m==\u001b[0m \u001b[1;36m2011\u001b[0m\u001b[1;33m,\u001b[0m \u001b[1;34m'1'\u001b[0m\u001b[1;33m)\u001b[0m\u001b[1;33m)\u001b[0m\u001b[1;33m\u001b[0m\u001b[1;33m\u001b[0m\u001b[0m\n\u001b[0m",
      "\u001b[1;32m<__array_function__ internals>\u001b[0m in \u001b[0;36mwhere\u001b[1;34m(*args, **kwargs)\u001b[0m\n",
      "\u001b[1;31mValueError\u001b[0m: either both or neither of x and y should be given"
     ]
    }
   ],
   "source": [
    "df['recency'] = np.where(df.year == 2014, '4', np.where(df.year == 2013, '3'),np.where(df.year == 2012, '2'),np.where(df.year == 2011, '1'))"
   ]
  },
  {
   "cell_type": "code",
   "execution_count": 105,
   "metadata": {},
   "outputs": [],
   "source": [
    "conditions = [\n",
    "    (df['year'] == 2014) & (df['year']!=2013) &(df['year']!=2011)  & (df['year']!=2012),\n",
    "    (df['year']==2013)  & (df['year']!=2014) &(df['year']!=2011)  & (df['year']!=2012),\n",
    "    (df['year'] == 2012) & (df['year']!=2014) &(df['year']!=2011)  & (df['year']!=2013),\n",
    "     (df['year'] == 2011) & (df['year']!=2014) &(df['year']!=2013)  & (df['year']!=2012)\n",
    "    ]"
   ]
  },
  {
   "cell_type": "code",
   "execution_count": 106,
   "metadata": {},
   "outputs": [],
   "source": [
    "values = ['4', '3', '2', '1']"
   ]
  },
  {
   "cell_type": "code",
   "execution_count": 107,
   "metadata": {},
   "outputs": [],
   "source": [
    "df['recency'] = np.select(conditions, values)"
   ]
  },
  {
   "cell_type": "code",
   "execution_count": 108,
   "metadata": {},
   "outputs": [
    {
     "data": {
      "text/html": [
       "<div>\n",
       "<style scoped>\n",
       "    .dataframe tbody tr th:only-of-type {\n",
       "        vertical-align: middle;\n",
       "    }\n",
       "\n",
       "    .dataframe tbody tr th {\n",
       "        vertical-align: top;\n",
       "    }\n",
       "\n",
       "    .dataframe thead th {\n",
       "        text-align: right;\n",
       "    }\n",
       "</style>\n",
       "<table border=\"1\" class=\"dataframe\">\n",
       "  <thead>\n",
       "    <tr style=\"text-align: right;\">\n",
       "      <th></th>\n",
       "      <th>Log in Date</th>\n",
       "      <th>Market</th>\n",
       "      <th>User ID</th>\n",
       "      <th>Sales</th>\n",
       "      <th>year</th>\n",
       "      <th>month</th>\n",
       "      <th>day</th>\n",
       "      <th>recency</th>\n",
       "    </tr>\n",
       "  </thead>\n",
       "  <tbody>\n",
       "    <tr>\n",
       "      <th>25486</th>\n",
       "      <td>2014-12-31</td>\n",
       "      <td>EMEA</td>\n",
       "      <td>VD-116702</td>\n",
       "      <td>9776</td>\n",
       "      <td>2014</td>\n",
       "      <td>12</td>\n",
       "      <td>31</td>\n",
       "      <td>4</td>\n",
       "    </tr>\n",
       "    <tr>\n",
       "      <th>25487</th>\n",
       "      <td>2014-12-31</td>\n",
       "      <td>EU</td>\n",
       "      <td>DP-133902</td>\n",
       "      <td>6473</td>\n",
       "      <td>2014</td>\n",
       "      <td>12</td>\n",
       "      <td>31</td>\n",
       "      <td>4</td>\n",
       "    </tr>\n",
       "    <tr>\n",
       "      <th>25488</th>\n",
       "      <td>2014-12-31</td>\n",
       "      <td>EU</td>\n",
       "      <td>ES-140202</td>\n",
       "      <td>9182</td>\n",
       "      <td>2014</td>\n",
       "      <td>12</td>\n",
       "      <td>31</td>\n",
       "      <td>4</td>\n",
       "    </tr>\n",
       "    <tr>\n",
       "      <th>25489</th>\n",
       "      <td>2014-12-31</td>\n",
       "      <td>EU</td>\n",
       "      <td>JG-158052</td>\n",
       "      <td>3563</td>\n",
       "      <td>2014</td>\n",
       "      <td>12</td>\n",
       "      <td>31</td>\n",
       "      <td>4</td>\n",
       "    </tr>\n",
       "    <tr>\n",
       "      <th>25490</th>\n",
       "      <td>2014-12-31</td>\n",
       "      <td>EU</td>\n",
       "      <td>JK-156402</td>\n",
       "      <td>5443</td>\n",
       "      <td>2014</td>\n",
       "      <td>12</td>\n",
       "      <td>31</td>\n",
       "      <td>4</td>\n",
       "    </tr>\n",
       "    <tr>\n",
       "      <th>25491</th>\n",
       "      <td>2014-12-31</td>\n",
       "      <td>EU</td>\n",
       "      <td>RD-194802</td>\n",
       "      <td>8549</td>\n",
       "      <td>2014</td>\n",
       "      <td>12</td>\n",
       "      <td>31</td>\n",
       "      <td>4</td>\n",
       "    </tr>\n",
       "    <tr>\n",
       "      <th>25492</th>\n",
       "      <td>2014-12-31</td>\n",
       "      <td>EU</td>\n",
       "      <td>SS-205152</td>\n",
       "      <td>7683</td>\n",
       "      <td>2014</td>\n",
       "      <td>12</td>\n",
       "      <td>31</td>\n",
       "      <td>4</td>\n",
       "    </tr>\n",
       "    <tr>\n",
       "      <th>25493</th>\n",
       "      <td>2014-12-31</td>\n",
       "      <td>EU</td>\n",
       "      <td>SV-209352</td>\n",
       "      <td>9487</td>\n",
       "      <td>2014</td>\n",
       "      <td>12</td>\n",
       "      <td>31</td>\n",
       "      <td>4</td>\n",
       "    </tr>\n",
       "    <tr>\n",
       "      <th>25494</th>\n",
       "      <td>2014-12-31</td>\n",
       "      <td>LATAM</td>\n",
       "      <td>CM-121903</td>\n",
       "      <td>4632</td>\n",
       "      <td>2014</td>\n",
       "      <td>12</td>\n",
       "      <td>31</td>\n",
       "      <td>4</td>\n",
       "    </tr>\n",
       "    <tr>\n",
       "      <th>25495</th>\n",
       "      <td>2014-12-31</td>\n",
       "      <td>LATAM</td>\n",
       "      <td>EB-139753</td>\n",
       "      <td>7871</td>\n",
       "      <td>2014</td>\n",
       "      <td>12</td>\n",
       "      <td>31</td>\n",
       "      <td>4</td>\n",
       "    </tr>\n",
       "    <tr>\n",
       "      <th>25496</th>\n",
       "      <td>2014-12-31</td>\n",
       "      <td>LATAM</td>\n",
       "      <td>JB-160453</td>\n",
       "      <td>6667</td>\n",
       "      <td>2014</td>\n",
       "      <td>12</td>\n",
       "      <td>31</td>\n",
       "      <td>4</td>\n",
       "    </tr>\n",
       "    <tr>\n",
       "      <th>25497</th>\n",
       "      <td>2014-12-31</td>\n",
       "      <td>LATAM</td>\n",
       "      <td>RB-194653</td>\n",
       "      <td>2794</td>\n",
       "      <td>2014</td>\n",
       "      <td>12</td>\n",
       "      <td>31</td>\n",
       "      <td>4</td>\n",
       "    </tr>\n",
       "    <tr>\n",
       "      <th>25498</th>\n",
       "      <td>2014-12-31</td>\n",
       "      <td>LATAM</td>\n",
       "      <td>RR-195253</td>\n",
       "      <td>8856</td>\n",
       "      <td>2014</td>\n",
       "      <td>12</td>\n",
       "      <td>31</td>\n",
       "      <td>4</td>\n",
       "    </tr>\n",
       "    <tr>\n",
       "      <th>25499</th>\n",
       "      <td>2014-12-31</td>\n",
       "      <td>LATAM</td>\n",
       "      <td>SC-202603</td>\n",
       "      <td>7714</td>\n",
       "      <td>2014</td>\n",
       "      <td>12</td>\n",
       "      <td>31</td>\n",
       "      <td>4</td>\n",
       "    </tr>\n",
       "    <tr>\n",
       "      <th>25500</th>\n",
       "      <td>2014-12-31</td>\n",
       "      <td>LATAM</td>\n",
       "      <td>TC-215353</td>\n",
       "      <td>4334</td>\n",
       "      <td>2014</td>\n",
       "      <td>12</td>\n",
       "      <td>31</td>\n",
       "      <td>4</td>\n",
       "    </tr>\n",
       "    <tr>\n",
       "      <th>25501</th>\n",
       "      <td>2014-12-31</td>\n",
       "      <td>LATAM</td>\n",
       "      <td>TD-209953</td>\n",
       "      <td>9746</td>\n",
       "      <td>2014</td>\n",
       "      <td>12</td>\n",
       "      <td>31</td>\n",
       "      <td>4</td>\n",
       "    </tr>\n",
       "    <tr>\n",
       "      <th>25502</th>\n",
       "      <td>2014-12-31</td>\n",
       "      <td>America</td>\n",
       "      <td>CC-124304</td>\n",
       "      <td>2982</td>\n",
       "      <td>2014</td>\n",
       "      <td>12</td>\n",
       "      <td>31</td>\n",
       "      <td>4</td>\n",
       "    </tr>\n",
       "    <tr>\n",
       "      <th>25503</th>\n",
       "      <td>2014-12-31</td>\n",
       "      <td>America</td>\n",
       "      <td>EB-139754</td>\n",
       "      <td>4595</td>\n",
       "      <td>2014</td>\n",
       "      <td>12</td>\n",
       "      <td>31</td>\n",
       "      <td>4</td>\n",
       "    </tr>\n",
       "    <tr>\n",
       "      <th>25504</th>\n",
       "      <td>2014-12-31</td>\n",
       "      <td>America</td>\n",
       "      <td>JM-155804</td>\n",
       "      <td>1155</td>\n",
       "      <td>2014</td>\n",
       "      <td>12</td>\n",
       "      <td>31</td>\n",
       "      <td>4</td>\n",
       "    </tr>\n",
       "    <tr>\n",
       "      <th>25505</th>\n",
       "      <td>2014-12-31</td>\n",
       "      <td>America</td>\n",
       "      <td>PO-188654</td>\n",
       "      <td>3110</td>\n",
       "      <td>2014</td>\n",
       "      <td>12</td>\n",
       "      <td>31</td>\n",
       "      <td>4</td>\n",
       "    </tr>\n",
       "  </tbody>\n",
       "</table>\n",
       "</div>"
      ],
      "text/plain": [
       "      Log in Date   Market    User ID  Sales  year  month  day recency\n",
       "25486  2014-12-31     EMEA  VD-116702   9776  2014     12   31       4\n",
       "25487  2014-12-31       EU  DP-133902   6473  2014     12   31       4\n",
       "25488  2014-12-31       EU  ES-140202   9182  2014     12   31       4\n",
       "25489  2014-12-31       EU  JG-158052   3563  2014     12   31       4\n",
       "25490  2014-12-31       EU  JK-156402   5443  2014     12   31       4\n",
       "25491  2014-12-31       EU  RD-194802   8549  2014     12   31       4\n",
       "25492  2014-12-31       EU  SS-205152   7683  2014     12   31       4\n",
       "25493  2014-12-31       EU  SV-209352   9487  2014     12   31       4\n",
       "25494  2014-12-31    LATAM  CM-121903   4632  2014     12   31       4\n",
       "25495  2014-12-31    LATAM  EB-139753   7871  2014     12   31       4\n",
       "25496  2014-12-31    LATAM  JB-160453   6667  2014     12   31       4\n",
       "25497  2014-12-31    LATAM  RB-194653   2794  2014     12   31       4\n",
       "25498  2014-12-31    LATAM  RR-195253   8856  2014     12   31       4\n",
       "25499  2014-12-31    LATAM  SC-202603   7714  2014     12   31       4\n",
       "25500  2014-12-31    LATAM  TC-215353   4334  2014     12   31       4\n",
       "25501  2014-12-31    LATAM  TD-209953   9746  2014     12   31       4\n",
       "25502  2014-12-31  America  CC-124304   2982  2014     12   31       4\n",
       "25503  2014-12-31  America  EB-139754   4595  2014     12   31       4\n",
       "25504  2014-12-31  America  JM-155804   1155  2014     12   31       4\n",
       "25505  2014-12-31  America  PO-188654   3110  2014     12   31       4"
      ]
     },
     "execution_count": 108,
     "metadata": {},
     "output_type": "execute_result"
    }
   ],
   "source": [
    "df.tail(20)"
   ]
  },
  {
   "cell_type": "code",
   "execution_count": 109,
   "metadata": {},
   "outputs": [],
   "source": [
    "df_unique= df"
   ]
  },
  {
   "cell_type": "code",
   "execution_count": 110,
   "metadata": {},
   "outputs": [],
   "source": [
    "df_unique=df_unique.drop_duplicates(subset=['User ID'])"
   ]
  },
  {
   "cell_type": "code",
   "execution_count": 111,
   "metadata": {},
   "outputs": [
    {
     "data": {
      "text/plain": [
       "(4873, 8)"
      ]
     },
     "execution_count": 111,
     "metadata": {},
     "output_type": "execute_result"
    }
   ],
   "source": [
    "df_unique.shape"
   ]
  },
  {
   "cell_type": "code",
   "execution_count": 112,
   "metadata": {},
   "outputs": [],
   "source": [
    "df_unique.to_csv(\"df_unique.csv\")"
   ]
  },
  {
   "cell_type": "code",
   "execution_count": 117,
   "metadata": {},
   "outputs": [
    {
     "ename": "KeyError",
     "evalue": "'year'",
     "output_type": "error",
     "traceback": [
      "\u001b[1;31m---------------------------------------------------------------------------\u001b[0m",
      "\u001b[1;31mKeyError\u001b[0m                                  Traceback (most recent call last)",
      "\u001b[1;32m<ipython-input-117-8310cbe697b9>\u001b[0m in \u001b[0;36m<module>\u001b[1;34m\u001b[0m\n\u001b[1;32m----> 1\u001b[1;33m \u001b[0mdf_200\u001b[0m \u001b[1;33m=\u001b[0m \u001b[0mdf\u001b[0m\u001b[1;33m.\u001b[0m\u001b[0mgroupby\u001b[0m\u001b[1;33m(\u001b[0m\u001b[1;34m\"year\"\u001b[0m\u001b[1;33m)\u001b[0m\u001b[1;33m[\u001b[0m\u001b[1;34m\"User ID\"\u001b[0m\u001b[1;33m]\u001b[0m\u001b[1;33m.\u001b[0m\u001b[0mnunique\u001b[0m\u001b[1;33m(\u001b[0m\u001b[1;33m)\u001b[0m\u001b[1;33m\u001b[0m\u001b[1;33m\u001b[0m\u001b[0m\n\u001b[0m",
      "\u001b[1;32m~\\anaconda3\\lib\\site-packages\\pandas\\core\\series.py\u001b[0m in \u001b[0;36mgroupby\u001b[1;34m(self, by, axis, level, as_index, sort, group_keys, squeeze, observed)\u001b[0m\n\u001b[0;32m   1685\u001b[0m             \u001b[0mgroup_keys\u001b[0m\u001b[1;33m=\u001b[0m\u001b[0mgroup_keys\u001b[0m\u001b[1;33m,\u001b[0m\u001b[1;33m\u001b[0m\u001b[1;33m\u001b[0m\u001b[0m\n\u001b[0;32m   1686\u001b[0m             \u001b[0msqueeze\u001b[0m\u001b[1;33m=\u001b[0m\u001b[0msqueeze\u001b[0m\u001b[1;33m,\u001b[0m\u001b[1;33m\u001b[0m\u001b[1;33m\u001b[0m\u001b[0m\n\u001b[1;32m-> 1687\u001b[1;33m             \u001b[0mobserved\u001b[0m\u001b[1;33m=\u001b[0m\u001b[0mobserved\u001b[0m\u001b[1;33m,\u001b[0m\u001b[1;33m\u001b[0m\u001b[1;33m\u001b[0m\u001b[0m\n\u001b[0m\u001b[0;32m   1688\u001b[0m         )\n\u001b[0;32m   1689\u001b[0m \u001b[1;33m\u001b[0m\u001b[0m\n",
      "\u001b[1;32m~\\anaconda3\\lib\\site-packages\\pandas\\core\\groupby\\groupby.py\u001b[0m in \u001b[0;36m__init__\u001b[1;34m(self, obj, keys, axis, level, grouper, exclusions, selection, as_index, sort, group_keys, squeeze, observed, mutated)\u001b[0m\n\u001b[0;32m    407\u001b[0m                 \u001b[0msort\u001b[0m\u001b[1;33m=\u001b[0m\u001b[0msort\u001b[0m\u001b[1;33m,\u001b[0m\u001b[1;33m\u001b[0m\u001b[1;33m\u001b[0m\u001b[0m\n\u001b[0;32m    408\u001b[0m                 \u001b[0mobserved\u001b[0m\u001b[1;33m=\u001b[0m\u001b[0mobserved\u001b[0m\u001b[1;33m,\u001b[0m\u001b[1;33m\u001b[0m\u001b[1;33m\u001b[0m\u001b[0m\n\u001b[1;32m--> 409\u001b[1;33m                 \u001b[0mmutated\u001b[0m\u001b[1;33m=\u001b[0m\u001b[0mself\u001b[0m\u001b[1;33m.\u001b[0m\u001b[0mmutated\u001b[0m\u001b[1;33m,\u001b[0m\u001b[1;33m\u001b[0m\u001b[1;33m\u001b[0m\u001b[0m\n\u001b[0m\u001b[0;32m    410\u001b[0m             )\n\u001b[0;32m    411\u001b[0m \u001b[1;33m\u001b[0m\u001b[0m\n",
      "\u001b[1;32m~\\anaconda3\\lib\\site-packages\\pandas\\core\\groupby\\grouper.py\u001b[0m in \u001b[0;36mget_grouper\u001b[1;34m(obj, key, axis, level, sort, observed, mutated, validate)\u001b[0m\n\u001b[0;32m    596\u001b[0m                 \u001b[0min_axis\u001b[0m\u001b[1;33m,\u001b[0m \u001b[0mname\u001b[0m\u001b[1;33m,\u001b[0m \u001b[0mlevel\u001b[0m\u001b[1;33m,\u001b[0m \u001b[0mgpr\u001b[0m \u001b[1;33m=\u001b[0m \u001b[1;32mFalse\u001b[0m\u001b[1;33m,\u001b[0m \u001b[1;32mNone\u001b[0m\u001b[1;33m,\u001b[0m \u001b[0mgpr\u001b[0m\u001b[1;33m,\u001b[0m \u001b[1;32mNone\u001b[0m\u001b[1;33m\u001b[0m\u001b[1;33m\u001b[0m\u001b[0m\n\u001b[0;32m    597\u001b[0m             \u001b[1;32melse\u001b[0m\u001b[1;33m:\u001b[0m\u001b[1;33m\u001b[0m\u001b[1;33m\u001b[0m\u001b[0m\n\u001b[1;32m--> 598\u001b[1;33m                 \u001b[1;32mraise\u001b[0m \u001b[0mKeyError\u001b[0m\u001b[1;33m(\u001b[0m\u001b[0mgpr\u001b[0m\u001b[1;33m)\u001b[0m\u001b[1;33m\u001b[0m\u001b[1;33m\u001b[0m\u001b[0m\n\u001b[0m\u001b[0;32m    599\u001b[0m         \u001b[1;32melif\u001b[0m \u001b[0misinstance\u001b[0m\u001b[1;33m(\u001b[0m\u001b[0mgpr\u001b[0m\u001b[1;33m,\u001b[0m \u001b[0mGrouper\u001b[0m\u001b[1;33m)\u001b[0m \u001b[1;32mand\u001b[0m \u001b[0mgpr\u001b[0m\u001b[1;33m.\u001b[0m\u001b[0mkey\u001b[0m \u001b[1;32mis\u001b[0m \u001b[1;32mnot\u001b[0m \u001b[1;32mNone\u001b[0m\u001b[1;33m:\u001b[0m\u001b[1;33m\u001b[0m\u001b[1;33m\u001b[0m\u001b[0m\n\u001b[0;32m    600\u001b[0m             \u001b[1;31m# Add key to exclusions\u001b[0m\u001b[1;33m\u001b[0m\u001b[1;33m\u001b[0m\u001b[1;33m\u001b[0m\u001b[0m\n",
      "\u001b[1;31mKeyError\u001b[0m: 'year'"
     ]
    }
   ],
   "source": [
    "df_200 = df.groupby(\"year\")[\"User ID\"].nunique()"
   ]
  },
  {
   "cell_type": "code",
   "execution_count": 120,
   "metadata": {},
   "outputs": [
    {
     "ename": "KeyError",
     "evalue": "'Column not found: year'",
     "output_type": "error",
     "traceback": [
      "\u001b[1;31m---------------------------------------------------------------------------\u001b[0m",
      "\u001b[1;31mKeyError\u001b[0m                                  Traceback (most recent call last)",
      "\u001b[1;32m<ipython-input-120-cf679cdf5f2d>\u001b[0m in \u001b[0;36m<module>\u001b[1;34m\u001b[0m\n\u001b[1;32m----> 1\u001b[1;33m \u001b[0mdf_unique_2014\u001b[0m\u001b[1;33m=\u001b[0m \u001b[0mdf\u001b[0m\u001b[1;33m.\u001b[0m\u001b[0mloc\u001b[0m\u001b[1;33m[\u001b[0m\u001b[0mdf\u001b[0m\u001b[1;33m.\u001b[0m\u001b[0mgroupby\u001b[0m\u001b[1;33m(\u001b[0m\u001b[1;34m'User ID'\u001b[0m\u001b[1;33m)\u001b[0m\u001b[1;33m[\u001b[0m\u001b[1;34m'year'\u001b[0m\u001b[1;33m]\u001b[0m\u001b[1;33m.\u001b[0m\u001b[0mtransform\u001b[0m\u001b[1;33m(\u001b[0m\u001b[1;32mlambda\u001b[0m \u001b[0mx\u001b[0m\u001b[1;33m:\u001b[0m \u001b[1;33m(\u001b[0m\u001b[0mx\u001b[0m\u001b[1;33m.\u001b[0m\u001b[0mnunique\u001b[0m\u001b[1;33m(\u001b[0m\u001b[1;33m)\u001b[0m \u001b[1;33m==\u001b[0m \u001b[1;36m2014\u001b[0m\u001b[1;33m)\u001b[0m\u001b[1;33m)\u001b[0m\u001b[1;33m,\u001b[0m \u001b[1;34m'User ID'\u001b[0m\u001b[1;33m]\u001b[0m\u001b[1;33m.\u001b[0m\u001b[0munique\u001b[0m\u001b[1;33m(\u001b[0m\u001b[1;33m)\u001b[0m\u001b[1;33m\u001b[0m\u001b[1;33m\u001b[0m\u001b[0m\n\u001b[0m",
      "\u001b[1;32m~\\anaconda3\\lib\\site-packages\\pandas\\core\\base.py\u001b[0m in \u001b[0;36m__getitem__\u001b[1;34m(self, key)\u001b[0m\n\u001b[0;32m    237\u001b[0m         \u001b[1;32melse\u001b[0m\u001b[1;33m:\u001b[0m\u001b[1;33m\u001b[0m\u001b[1;33m\u001b[0m\u001b[0m\n\u001b[0;32m    238\u001b[0m             \u001b[1;32mif\u001b[0m \u001b[0mkey\u001b[0m \u001b[1;32mnot\u001b[0m \u001b[1;32min\u001b[0m \u001b[0mself\u001b[0m\u001b[1;33m.\u001b[0m\u001b[0mobj\u001b[0m\u001b[1;33m:\u001b[0m\u001b[1;33m\u001b[0m\u001b[1;33m\u001b[0m\u001b[0m\n\u001b[1;32m--> 239\u001b[1;33m                 \u001b[1;32mraise\u001b[0m \u001b[0mKeyError\u001b[0m\u001b[1;33m(\u001b[0m\u001b[1;34mf\"Column not found: {key}\"\u001b[0m\u001b[1;33m)\u001b[0m\u001b[1;33m\u001b[0m\u001b[1;33m\u001b[0m\u001b[0m\n\u001b[0m\u001b[0;32m    240\u001b[0m             \u001b[1;32mreturn\u001b[0m \u001b[0mself\u001b[0m\u001b[1;33m.\u001b[0m\u001b[0m_gotitem\u001b[0m\u001b[1;33m(\u001b[0m\u001b[0mkey\u001b[0m\u001b[1;33m,\u001b[0m \u001b[0mndim\u001b[0m\u001b[1;33m=\u001b[0m\u001b[1;36m1\u001b[0m\u001b[1;33m)\u001b[0m\u001b[1;33m\u001b[0m\u001b[1;33m\u001b[0m\u001b[0m\n\u001b[0;32m    241\u001b[0m \u001b[1;33m\u001b[0m\u001b[0m\n",
      "\u001b[1;31mKeyError\u001b[0m: 'Column not found: year'"
     ]
    }
   ],
   "source": [
    "df_unique_2014= df.loc[df.groupby('User ID')['year'].transform(lambda x: (x.nunique() == 2014)), 'User ID'].unique()"
   ]
  },
  {
   "cell_type": "code",
   "execution_count": null,
   "metadata": {},
   "outputs": [],
   "source": []
  }
 ],
 "metadata": {
  "kernelspec": {
   "display_name": "Python 3",
   "language": "python",
   "name": "python3"
  },
  "language_info": {
   "codemirror_mode": {
    "name": "ipython",
    "version": 3
   },
   "file_extension": ".py",
   "mimetype": "text/x-python",
   "name": "python",
   "nbconvert_exporter": "python",
   "pygments_lexer": "ipython3",
   "version": "3.7.6"
  },
  "toc": {
   "base_numbering": 1,
   "nav_menu": {},
   "number_sections": true,
   "sideBar": true,
   "skip_h1_title": false,
   "title_cell": "Table of Contents",
   "title_sidebar": "Contents",
   "toc_cell": false,
   "toc_position": {},
   "toc_section_display": true,
   "toc_window_display": false
  }
 },
 "nbformat": 4,
 "nbformat_minor": 4
}
