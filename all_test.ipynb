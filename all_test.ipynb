{
 "cells": [
  {
   "cell_type": "code",
   "execution_count": 1,
   "metadata": {},
   "outputs": [],
   "source": [
    "import pandas as pd\n",
    "import numpy as np\n",
    "import matplotlib.pyplot as plt\n",
    "import seaborn as sns"
   ]
  },
  {
   "cell_type": "code",
   "execution_count": 4,
   "metadata": {},
   "outputs": [
    {
     "name": "stdout",
     "output_type": "stream",
     "text": [
      "Largest element is:  52\n"
     ]
    }
   ],
   "source": [
    "a = [18, 52, 23, 41, 32]\n",
    "\n",
    "#variable to store largest number\n",
    "ln = a[0] #if a else None\n",
    "\n",
    "#find largest number\n",
    "for i in a:\n",
    "     if i>ln:\n",
    "            ln=i\n",
    "\n",
    "print(\"Largest element is: \",ln)"
   ]
  },
  {
   "cell_type": "code",
   "execution_count": 5,
   "metadata": {},
   "outputs": [
    {
     "name": "stdout",
     "output_type": "stream",
     "text": [
      "Largest element is:  52\n"
     ]
    }
   ],
   "source": [
    "a = [18, 52, 23, 41, 32]\n",
    "\n",
    "#variable to store largest number\n",
    "ln = a[0] #if a else None\n",
    "\n",
    "#find largest number\n",
    "for i in a:\n",
    "     if i>ln:\n",
    "            ln=i\n",
    "\n",
    "print(\"Largest element is: \",ln)"
   ]
  },
  {
   "cell_type": "code",
   "execution_count": null,
   "metadata": {},
   "outputs": [],
   "source": []
  }
 ],
 "metadata": {
  "kernelspec": {
   "display_name": "Python 3",
   "language": "python",
   "name": "python3"
  },
  "language_info": {
   "codemirror_mode": {
    "name": "ipython",
    "version": 3
   },
   "file_extension": ".py",
   "mimetype": "text/x-python",
   "name": "python",
   "nbconvert_exporter": "python",
   "pygments_lexer": "ipython3",
   "version": "3.7.6"
  }
 },
 "nbformat": 4,
 "nbformat_minor": 4
}
